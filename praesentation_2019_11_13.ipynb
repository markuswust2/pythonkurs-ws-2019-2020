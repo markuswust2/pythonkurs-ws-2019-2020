{
 "cells": [
  {
   "cell_type": "code",
   "execution_count": 9,
   "metadata": {
    "slideshow": {
     "slide_type": "skip"
    }
   },
   "outputs": [
    {
     "data": {
      "text/html": [
       "<style>\n",
       "td {\n",
       "    font-size: 20px;\n",
       "}\n",
       "thead th {\n",
       "    font-size: 20px;\n",
       "}\n",
       "</style>\n"
      ],
      "text/plain": [
       "<IPython.core.display.HTML object>"
      ]
     },
     "metadata": {},
     "output_type": "display_data"
    }
   ],
   "source": [
    "%%html\n",
    "<style>\n",
    "td {\n",
    "    font-size: 20px;\n",
    "}\n",
    "thead th {\n",
    "    font-size: 20px;\n",
    "}\n",
    "</style>"
   ]
  },
  {
   "cell_type": "markdown",
   "metadata": {
    "slideshow": {
     "slide_type": "slide"
    }
   },
   "source": [
    "# Einführung in Python"
   ]
  },
  {
   "cell_type": "markdown",
   "metadata": {
    "slideshow": {
     "slide_type": "slide"
    }
   },
   "source": [
    "## Fragen\n",
    "\n",
    "Haben Sie Fragen zur letzten Sitzung?"
   ]
  },
  {
   "cell_type": "markdown",
   "metadata": {
    "slideshow": {
     "slide_type": "slide"
    }
   },
   "source": [
    "## Exkurs: Kontrollstrukturen\n",
    "\n",
    "Bevor wir mit der nächsten Datenstruktur weitermachen, sollten wir über **Kontrollstrukturen** (*control structures*) sprechen.\n",
    "\n",
    "Kontrollstrukturen bestimmen den Ablauf eines Programms. **Fallunterscheidungen** (*conditional statements*) führen abhängig davon, ob eine bestimmte Bedingung erfüllt ist oder nicht, unterschiedlichen Code aus. **Schleifen** (*loops*) führen den gleichen Code immer wieder aus.\n",
    "\n",
    "Schleifen und Fallunterscheidungen können auch miteinander kombiniert werden. "
   ]
  },
  {
   "cell_type": "markdown",
   "metadata": {
    "slideshow": {
     "slide_type": "slide"
    }
   },
   "source": [
    "## Kontrollstrukturen: Fallunterscheidung mit *if*\n",
    "\n",
    "**if** testet, ob eine einzelne Bedingung erfüllt ist. Wenn ja, wird der unter **if** eingerückte Code ausgeführt. Wenn die Bedingung nicht erfüllt ist, geht Python zur nächsten nicht eingerückten Zeile weiter:"
   ]
  },
  {
   "cell_type": "code",
   "execution_count": 3,
   "metadata": {
    "slideshow": {
     "slide_type": "fragment"
    }
   },
   "outputs": [
    {
     "name": "stdout",
     "output_type": "stream",
     "text": [
      "a hat den Wert 1\n"
     ]
    }
   ],
   "source": [
    "a = 1\n",
    "\n",
    "if a == 1:\n",
    "    print(\"a hat den Wert 1\")"
   ]
  },
  {
   "cell_type": "markdown",
   "metadata": {
    "slideshow": {
     "slide_type": "fragment"
    }
   },
   "source": [
    "Nur wenn a den Wert 1 hat, wird der Befehl ```print(\"a hat den Wert 1\")``` auch ausgeführt."
   ]
  },
  {
   "cell_type": "markdown",
   "metadata": {
    "slideshow": {
     "slide_type": "slide"
    }
   },
   "source": [
    "## Exkurs im Exkurs: Vergleichs- und logische Operatoren\n",
    "\n",
    "Sie haben eben schon einen von Pythons Vergleichsoperatoren gesehen, das doppelte Gleichheitszeichen (==). Damit können Sie testen, ob die Werte auf beiden Seiten identisch sind. Hier ist eine Liste mit allen Vergleichsoperatoren:\n",
    "\n",
    "|Operator|Beispiel|Erklärung|\n",
    "|:-|:-|:-|\n",
    "|==|1 == 2|Ist 1 gleich 2?|\n",
    "|!=|1 != 2|Ist 1 ungleich 2?|\n",
    "|<|1 < 2|Ist 1 kleiner als 2?|\n",
    "|>|1 > 2|Ist 1 größer als 2?|\n",
    "|<=|1 <= 2|Ist 1 kleiner oder gleich 2?|\n",
    "|>=|1 >= 2|Ist 1 größer oder gleich 2?|"
   ]
  },
  {
   "cell_type": "markdown",
   "metadata": {
    "slideshow": {
     "slide_type": "slide"
    }
   },
   "source": [
    "## Exkurs im Exkurs: Vergleichs- und logische Operatoren\n",
    "\n",
    "Zwei logischen Operatoren können mehrere Vergleiche kombinieren:\n",
    "\n",
    "|Operator|Beispiel|Erklärung||\n",
    "|:-|:-|:-|:-|\n",
    "|and|(1 < 2) **and** (3 < 4) |Ist 1 kleiner als 2 **und** gleichzeitig 3 kleiner als 4?|Beide müssen wahr sein.|\n",
    "|or|(1 < 2) **or** (3 < 4)|Ist 1 kleiner als 2 **oder** 3 kleiner als 4?|Nur einer muss wahr sein.|\n",
    "\n",
    "Mit **not** können Sie einen Vergleich umkehren: ```not (1 < 2)``` ist das gleiche wie ```1 >= 2```"
   ]
  },
  {
   "cell_type": "markdown",
   "metadata": {
    "slideshow": {
     "slide_type": "slide"
    }
   },
   "source": [
    "## Zurück zu Kontrollstrukturen und Fallentscheidungen\n",
    "\n",
    "Jetzt wissen wir, wie wir mit Vergleichs- und logischen Operatoren mehrere Bedingungen in einer if-Anweisung testen können:"
   ]
  },
  {
   "cell_type": "code",
   "execution_count": 18,
   "metadata": {
    "slideshow": {
     "slide_type": "fragment"
    }
   },
   "outputs": [],
   "source": [
    "a = 1\n",
    "\n",
    "if a > 6 and a < 10:\n",
    "    print(\"a ist größer als 6 und kleiner als 10\")"
   ]
  },
  {
   "cell_type": "code",
   "execution_count": null,
   "metadata": {},
   "outputs": [],
   "source": []
  },
  {
   "cell_type": "markdown",
   "metadata": {
    "slideshow": {
     "slide_type": "fragment"
    }
   },
   "source": [
    "Welche(n) Wert(e) können Sie a geben, damit der Text angezeigt wird?"
   ]
  },
  {
   "cell_type": "markdown",
   "metadata": {
    "slideshow": {
     "slide_type": "slide"
    }
   },
   "source": [
    "## Kontrollstrukturen: Fallunterscheidung mit *if/elif*\n",
    "\n",
    "Oft will man aber nicht nur eine Bedingung testen. Wenn Sie eine zweite Bedingung hinzufügen möchten, dann können Sie das mit **elif** tun:"
   ]
  },
  {
   "cell_type": "code",
   "execution_count": null,
   "metadata": {
    "slideshow": {
     "slide_type": "fragment"
    }
   },
   "outputs": [],
   "source": [
    "a = 1\n",
    "if a > 6 and a < 10:\n",
    "    print(\"a ist größer als 6 und kleiner als 10\")\n",
    "elif a > 4 and <= 6:\n",
    "    print(\"a ist größer als 4 und kleiner als oder gleich 6\")"
   ]
  },
  {
   "cell_type": "markdown",
   "metadata": {
    "slideshow": {
     "slide_type": "slide"
    }
   },
   "source": [
    "## Kontrollstrukturen: Fallunterscheidung mit *if/elif*\n",
    "\n",
    "Sie können beliebig viele Bedingungen mit **elif** anfügen, solange Sie am Anfang eine einzelne **if**-Bedingung stehen haben:"
   ]
  },
  {
   "cell_type": "code",
   "execution_count": null,
   "metadata": {
    "slideshow": {
     "slide_type": "fragment"
    }
   },
   "outputs": [],
   "source": [
    "a = 1\n",
    "if a > 6 and a < 10:\n",
    "    print(\"a ist größer als 6 und kleiner als 10\")\n",
    "elif a > 4 and a <= 6:\n",
    "    print(\"a ist größer als 4 und kleiner als oder gleich 6\")\n",
    "elif a > 2 and a <= 4:\n",
    "    print(\"a ist größer als 2 und kleiner als oder gleich 4\")\n",
    "elif a > 0 and a <= 2:\n",
    "    print(\"a ist größer als 0 und kleiner als oder gleich 2\")"
   ]
  },
  {
   "cell_type": "markdown",
   "metadata": {
    "slideshow": {
     "slide_type": "slide"
    }
   },
   "source": [
    "## Kontrollstrukturen: Fallunterscheidung mit *if/elif/else*\n",
    "\n",
    "Schließlich können Sie am Schluß noch mit **else** alle anderen Fälle abfangen:"
   ]
  },
  {
   "cell_type": "code",
   "execution_count": 19,
   "metadata": {
    "slideshow": {
     "slide_type": "fragment"
    }
   },
   "outputs": [
    {
     "ename": "TypeError",
     "evalue": "'>' not supported between instances of 'str' and 'int'",
     "output_type": "error",
     "traceback": [
      "\u001b[1;31m---------------------------------------------------------------------------\u001b[0m",
      "\u001b[1;31mTypeError\u001b[0m                                 Traceback (most recent call last)",
      "\u001b[1;32m<ipython-input-19-86f8b407a51f>\u001b[0m in \u001b[0;36m<module>\u001b[1;34m\u001b[0m\n\u001b[0;32m      1\u001b[0m \u001b[0ma\u001b[0m \u001b[1;33m=\u001b[0m \u001b[1;34m\"abc\"\u001b[0m\u001b[1;33m\u001b[0m\u001b[1;33m\u001b[0m\u001b[0m\n\u001b[1;32m----> 2\u001b[1;33m \u001b[1;32mif\u001b[0m \u001b[0ma\u001b[0m \u001b[1;33m>\u001b[0m \u001b[1;36m6\u001b[0m \u001b[1;32mand\u001b[0m \u001b[0ma\u001b[0m \u001b[1;33m<=\u001b[0m \u001b[1;36m10\u001b[0m\u001b[1;33m:\u001b[0m\u001b[1;33m\u001b[0m\u001b[1;33m\u001b[0m\u001b[0m\n\u001b[0m\u001b[0;32m      3\u001b[0m     \u001b[0mprint\u001b[0m\u001b[1;33m(\u001b[0m\u001b[1;34m\"a ist größer als 6 und kleiner als oder gleich 10\"\u001b[0m\u001b[1;33m)\u001b[0m\u001b[1;33m\u001b[0m\u001b[1;33m\u001b[0m\u001b[0m\n\u001b[0;32m      4\u001b[0m \u001b[1;32melif\u001b[0m \u001b[0ma\u001b[0m \u001b[1;33m>\u001b[0m \u001b[1;36m4\u001b[0m \u001b[1;32mand\u001b[0m \u001b[0ma\u001b[0m \u001b[1;33m<=\u001b[0m \u001b[1;36m6\u001b[0m\u001b[1;33m:\u001b[0m\u001b[1;33m\u001b[0m\u001b[1;33m\u001b[0m\u001b[0m\n\u001b[0;32m      5\u001b[0m     \u001b[0mprint\u001b[0m\u001b[1;33m(\u001b[0m\u001b[1;34m\"a ist größer als 4 und kleiner als oder gleich 6\"\u001b[0m\u001b[1;33m)\u001b[0m\u001b[1;33m\u001b[0m\u001b[1;33m\u001b[0m\u001b[0m\n",
      "\u001b[1;31mTypeError\u001b[0m: '>' not supported between instances of 'str' and 'int'"
     ]
    }
   ],
   "source": [
    "a = 1\n",
    "if a > 6 and a <= 10:\n",
    "    print(\"a ist größer als 6 und kleiner als oder gleich 10\")\n",
    "elif a > 4 and a <= 6:\n",
    "    print(\"a ist größer als 4 und kleiner als oder gleich 6\")\n",
    "elif a > 2 and a <= 4:\n",
    "    print(\"a ist größer als 2 und kleiner als oder gleich 4\")\n",
    "elif a >= 0 and a <= 2:\n",
    "    print(\"a ist größer als oder gleich 0 und kleiner als oder gleich 2\")\n",
    "else:\n",
    "    print(\"Ihre Zahl liegt nicht zwischen 0 und 10\")"
   ]
  },
  {
   "cell_type": "markdown",
   "metadata": {
    "slideshow": {
     "slide_type": "slide"
    }
   },
   "source": [
    "## Kontrollstrukturen: Fallunterscheidung mit if/elif/else\n",
    "\n",
    "Ändern Sie jetzt einmal den Wert von \"a\" zu einer Zeichenkette (bspw. \"abc\"). Was geschieht?"
   ]
  },
  {
   "cell_type": "markdown",
   "metadata": {
    "slideshow": {
     "slide_type": "slide"
    }
   },
   "source": [
    "## Kontrollstrukturen: Fallunterscheidung mit if/elif/else\n",
    "\n",
    "Sie bekommen eine Fehlermeldung, da Sie den Vergleichsoperator **>** mit einer Zeichenkette verwenden, obwohl er nur für den Vergleich von ausgelegt ist. Hier macht es Sinn, dass man zuerst testet, ob der gewählte Wert eine Zahl ist. Wie Sie im folgenden Beispiel sehen können, kann man **if/elif/else** ineinander verschachteln (*nesting*). Wichtig dabei ist, dass für jede Einrückungsstufe die gleiche Anzahl von Leerzeichen verwendet wird (normalerweise 4), was aber Ihr Editor für Sie übernimmt."
   ]
  },
  {
   "cell_type": "code",
   "execution_count": 13,
   "metadata": {
    "slideshow": {
     "slide_type": "slide"
    }
   },
   "outputs": [
    {
     "name": "stdout",
     "output_type": "stream",
     "text": [
      "a ist größer als oder gleich 0 und kleiner als oder gleich 2\n"
     ]
    }
   ],
   "source": [
    "a = 1\n",
    "a = str(a) # isdigit() funktioniert nur mit Zeichenketten\n",
    "if a.isdigit() == True: # \n",
    "    a = int(a) # Vergleich mit > funktioniert nur mit Zahlen\n",
    "    if a > 6 and a <= 10:\n",
    "        print(\"a ist größer als 6 und kleiner als oder gleich 10\")\n",
    "    elif a > 4 and a <= 6:\n",
    "        print(\"a ist größer als 4 und kleiner als oder gleich 6\")\n",
    "    elif a > 2 and a <= 4:\n",
    "        print(\"a ist größer als 2 und kleiner als oder gleich 4\")\n",
    "    elif a >= 0 and a <= 2:\n",
    "        print(\"a ist größer als oder gleich 0 und kleiner als oder gleich 2\")\n",
    "    else:\n",
    "        print(\"Ihre Zahl liegt nicht zwischen 0 und 10\")\n",
    "else:\n",
    "    print(\"Bitte wählen Sie eine Zahl als Wert\")"
   ]
  },
  {
   "cell_type": "markdown",
   "metadata": {
    "slideshow": {
     "slide_type": "slide"
    }
   },
   "source": [
    " Fallunterscheidungen können auch verschachtelt werden. So können Sie--bevor Sie die verschiedenen Bedingungen kontrollieren--erst einmal nachsehen, ob es sich bei dem Wert, den Sie für \"a\" angegeben haben, überhaupt um eine Zahl handelt, da "
   ]
  },
  {
   "cell_type": "code",
   "execution_count": 4,
   "metadata": {},
   "outputs": [
    {
     "name": "stdout",
     "output_type": "stream",
     "text": [
      "[1, 2, 3, 4, 5, 6, 7, 8, 9, 10, 11, 12, 13, 14, 15, 16, 17, 18, 19, 20]\n"
     ]
    }
   ],
   "source": [
    "a = list(range(1,21))\n",
    "print(a)"
   ]
  },
  {
   "cell_type": "markdown",
   "metadata": {
    "slideshow": {
     "slide_type": "slide"
    }
   },
   "source": [
    "## Fortsetzung folgt..."
   ]
  },
  {
   "cell_type": "code",
   "execution_count": null,
   "metadata": {},
   "outputs": [],
   "source": []
  }
 ],
 "metadata": {
  "celltoolbar": "Slideshow",
  "kernelspec": {
   "display_name": "Python 3",
   "language": "python",
   "name": "python3"
  },
  "language_info": {
   "codemirror_mode": {
    "name": "ipython",
    "version": 3
   },
   "file_extension": ".py",
   "mimetype": "text/x-python",
   "name": "python",
   "nbconvert_exporter": "python",
   "pygments_lexer": "ipython3",
   "version": "3.6.4"
  }
 },
 "nbformat": 4,
 "nbformat_minor": 2
}
