{
 "cells": [
  {
   "cell_type": "code",
   "execution_count": 1,
   "metadata": {
    "slideshow": {
     "slide_type": "skip"
    }
   },
   "outputs": [
    {
     "data": {
      "text/html": [
       "<style>\n",
       "td {\n",
       "    font-size: 25px;\n",
       "}\n",
       "thead th {\n",
       "    font-size: 25px;\n",
       "}\n",
       "</style>\n"
      ],
      "text/plain": [
       "<IPython.core.display.HTML object>"
      ]
     },
     "metadata": {},
     "output_type": "display_data"
    }
   ],
   "source": [
    "%%html\n",
    "<style>\n",
    "td {\n",
    "    font-size: 25px;\n",
    "}\n",
    "thead th {\n",
    "    font-size: 25px;\n",
    "}\n",
    "</style>"
   ]
  },
  {
   "cell_type": "markdown",
   "metadata": {
    "slideshow": {
     "slide_type": "slide"
    }
   },
   "source": [
    "# Einführung in Python"
   ]
  },
  {
   "cell_type": "markdown",
   "metadata": {
    "slideshow": {
     "slide_type": "slide"
    }
   },
   "source": [
    "## Fragen\n",
    "\n",
    "Haben Sie Fragen zur letzten Sitzung?"
   ]
  },
  {
   "cell_type": "markdown",
   "metadata": {
    "slideshow": {
     "slide_type": "slide"
    }
   },
   "source": [
    "## Die Konsole\n",
    "\n",
    "Die Konsole erlaubt es Ihnen, durch Textbefehle mit Ihrem Computer zu interagieren, anstatt eine Maus zu benutzen. Sie können in der Konsole auch mit Python arbeiten. Dies funktioniert besonders am Anfang gut, wenn Sie die Grundlagen lernen und noch keine längeren Programme schreiben.\n",
    "\n",
    "Es gibt verschiedene Möglichkeiten, die Konsole zu nutzen. Dies hängt davon ab, welches Betriebssystem auf Ihrem Computer läuft, wie Sie Python installiert haben, und welche Programme Sie für die Arbeit mit Python verwenden."
   ]
  },
  {
   "cell_type": "markdown",
   "metadata": {
    "slideshow": {
     "slide_type": "slide"
    }
   },
   "source": [
    "## Die Konsole: Anaconda\n",
    "\n",
    "Wenn Sie Python (und Jupyter Notebooks) über Anaconda installiert haben, können Sie \"Anaconda Prompt\" verwenden, das mitinstalliert wurde."
   ]
  },
  {
   "cell_type": "markdown",
   "metadata": {
    "slideshow": {
     "slide_type": "slide"
    }
   },
   "source": [
    "## Die Konsole: Windows\n",
    "\n",
    "Wenn Sie Python nicht über Anaconda installiert haben, können Sie die Windowskonsole verwenden. Drücken Sie Windows+R und geben dann **cmd** ein. Wenn Sie dann die Eingabetaste drücken, wird die Windowskonsole gestartet."
   ]
  },
  {
   "cell_type": "markdown",
   "metadata": {
    "slideshow": {
     "slide_type": "slide"
    }
   },
   "source": [
    "## Die Konsole: macOS\n",
    "\n",
    "Hier heißt die Konsole *Terminal* und ist unter *Applications* -> *Utilities* -> *Terminal* zu finden."
   ]
  },
  {
   "cell_type": "markdown",
   "metadata": {
    "slideshow": {
     "slide_type": "slide"
    }
   },
   "source": [
    "## Die Konsole: Editoren\n",
    "\n",
    "Mehrere der bereits erwähnten Editoren haben eine integrierte Konsole. In *PyCharm* etwa können Sie über *Tools* -> *Python Console* auf die Konsole zugreifen."
   ]
  },
  {
   "cell_type": "markdown",
   "metadata": {
    "slideshow": {
     "slide_type": "slide"
    }
   },
   "source": [
    "## Die Konsole: Python Starten\n",
    "\n",
    "Abhängig von Ihrem Betriebssystem, der installierten Python-Version und der Konfiguration Ihres Computers sieht die erste Zeile der Konsole unterschiedlich aus. Auf meinem Computer (PC mit Windows 10) zeigt sie:\n",
    "\n",
    "```(base) C:\\Windows\\system32>```\n",
    "\n",
    "Nach dem letzten Zeichen können Sie nun Ihren ersten Befehl eingeben (**python**): \n",
    "\n",
    "```(base) C:\\Windows\\system32> python```"
   ]
  },
  {
   "cell_type": "markdown",
   "metadata": {
    "slideshow": {
     "slide_type": "slide"
    }
   },
   "source": [
    "## Die Konsole: Python Starten\n",
    "\n",
    "Wenn Python korrekt auf Ihrem Computer installiert ist, sollten Sie eine Anzeige bekommen, die in etwa so aussieht (kleine Differenzen sind wegen unterschiedlicher Python-Versionen usw. möglich):\n",
    "\n",
    "```\n",
    "Python 3.6.4 |Anaconda, Inc.| (default, Jan 16 2018, 10:22:32) [MSC v.1900 64 bit (AMD64)] on win32\n",
    "Type \"help\", \"copyright\", \"credits\" or \"license\" for more information.\n",
    ">>>\n",
    "```\n",
    "\n",
    "Die drei Klammern in der letzten Zeile (```>>>```) zeigen an, dass Sie hier mit der Eingabe von Python-Code beginnen können."
   ]
  },
  {
   "cell_type": "markdown",
   "metadata": {
    "slideshow": {
     "slide_type": "slide"
    }
   },
   "source": [
    "## Ihr erster Python-Code\n",
    "\n",
    "Seit der ersten öffentlichen Verwendung in dem 1978 erschienenen Programmierhandbuch *Programmieren in C* (*Programming in C*) von  Brian Kernighan und Dennis Ritchie ist es eine Tradition geworden, dass das erste Programm, das ProgrammiererInnen in einer neuen Sprache schreiben, die Worte \"Hello World!\" ausgibt.\n",
    "\n",
    "**Übrigens:** Auf der Seite [http://helloworldcollection.de](http://helloworldcollection.de) finden Sie \"Hello World!\"-Programme in mehreren hundert Sprachen.\n",
    "\n",
    "Versuchen Sie es also! Geben Sie den Text `print(\"Hello World!\")` ein und drücken dann die Eingabetaste:"
   ]
  },
  {
   "cell_type": "code",
   "execution_count": 2,
   "metadata": {
    "slideshow": {
     "slide_type": "slide"
    }
   },
   "outputs": [
    {
     "name": "stdout",
     "output_type": "stream",
     "text": [
      "Hello World!\n"
     ]
    }
   ],
   "source": [
    "print(\"Hello World!\")"
   ]
  },
  {
   "cell_type": "markdown",
   "metadata": {
    "slideshow": {
     "slide_type": "slide"
    }
   },
   "source": [
    "## Hello World! - Was Passiert Hier?\n",
    "In dieser kurzen Zeile sehen wir bereits einige wichtige Aspekte von Python und auch anderen Programmiersprachen sowie einen der augenfälligsten Unterschiede zwischen Python 2 und Python 3:\n",
    "\n",
    "- Es gibt **Funktionen**. Funktionen erlauben es Ihnen, Code für eine bestimmte Aufgabe zu schreiben und diesen dann immer wieder zu verwenden. Viele Funktionen haben **Parameter**, d.h., Sie können Objekte wie etwa die Phrase \"Hello World!\" oder eine Zahl als **Argumente** an die Funktion weitergeben und von der bearbeiten lassen. Man kann die bereits in Python integrierten Funktionen nutzen (z.B. **print()**) oder eigene Funktionen schreiben."
   ]
  },
  {
   "cell_type": "markdown",
   "metadata": {
    "slideshow": {
     "slide_type": "slide"
    }
   },
   "source": [
    "## Hello World! - Was Passiert Hier?\n",
    "\n",
    "- Es gibt verschiedene **Datentypen**. \"Hello World!\" ist eine **Zeichenkette** (*character string*), also eine Abfolge von Buchstaben, Leerzeichen, Satzzeichen, oder auch Ziffern. Es steht deshalb in Anführungszeichen, während etwa eine Zahl wie 12345 ohne Anführungszeichen auskommt.\n",
    "- In Python 3 ist `print` eine Funktion und der auszugebende Text steht in Klammern: `print(\"Hello World!\")` In Python 2 war `print` eine **Anweisung** und verwendete deshalb keine Klammern: `print \"Hello World!\"`"
   ]
  },
  {
   "cell_type": "markdown",
   "metadata": {
    "slideshow": {
     "slide_type": "slide"
    }
   },
   "source": [
    "## Schlüsselwörter (*keywords*)\n",
    "\n",
    "|&nbsp;|||||\n",
    "|:-|:-|:-|:-|:-|\n",
    "|and|del|for|is|raise| \n",
    "|assert|elif|from|lambda|return|\n",
    "|break|else|global|not|try|\n",
    "|class|except|if|or|while|\n",
    "|continue|exec|import|pass|yield|\n",
    "|def|finally|in|print||"
   ]
  },
  {
   "cell_type": "code",
   "execution_count": null,
   "metadata": {},
   "outputs": [],
   "source": []
  }
 ],
 "metadata": {
  "celltoolbar": "Slideshow",
  "kernelspec": {
   "display_name": "Python 3",
   "language": "python",
   "name": "python3"
  },
  "language_info": {
   "codemirror_mode": {
    "name": "ipython",
    "version": 3
   },
   "file_extension": ".py",
   "mimetype": "text/x-python",
   "name": "python",
   "nbconvert_exporter": "python",
   "pygments_lexer": "ipython3",
   "version": "3.6.4"
  }
 },
 "nbformat": 4,
 "nbformat_minor": 4
}
