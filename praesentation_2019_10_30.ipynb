{
 "cells": [
  {
   "cell_type": "markdown",
   "metadata": {
    "slideshow": {
     "slide_type": "slide"
    }
   },
   "source": [
    "# Einführung in Python"
   ]
  },
  {
   "cell_type": "markdown",
   "metadata": {
    "slideshow": {
     "slide_type": "slide"
    }
   },
   "source": [
    "## Fragen\n",
    "\n",
    "Haben Sie Fragen zur letzten Sitzung?"
   ]
  },
  {
   "cell_type": "markdown",
   "metadata": {
    "slideshow": {
     "slide_type": "slide"
    }
   },
   "source": [
    "## Datentypen\n",
    "\n",
    "Geben Sie den folgenden Code in die Konsole ein:\n",
    "\n",
    "&gt;&gt;&gt; 1 + 1\n",
    "\n",
    "&gt;&gt;&gt; 1 + \"a\"\n",
    "\n",
    "&gt;&gt;&gt; \"a\" + \"b\"\n",
    "\n",
    "&gt;&gt;&gt; 3 * \"abc\"\n",
    "\n",
    "Welche Ergebnisse bekommen Sie?"
   ]
  },
  {
   "cell_type": "markdown",
   "metadata": {
    "slideshow": {
     "slide_type": "slide"
    }
   },
   "source": [
    "## Datentypen\n",
    "\n",
    "Für die zweite Eingabe sollten Sie folgende Fehlermeldung bekommen:\n",
    "\n",
    "Traceback (most recent call last):\n",
    "  File <<wbr>input>, line 1, in <module>\n",
    "TypeError: unsupported operand type(s) for +: 'int' and 'str'"
   ]
  },
  {
   "cell_type": "markdown",
   "metadata": {
    "slideshow": {
     "slide_type": "slide"
    }
   },
   "source": [
    "## Datentypen\n",
    "\n",
    "Der Grund für den Fehler ist, dass Sie einen Operator (+) mit zwei verschiedenen Datentypen  (**int** [integer] und **str** [string]) verwendet haben, der diese Mischung nicht erlaubt. "
   ]
  },
  {
   "cell_type": "markdown",
   "metadata": {
    "slideshow": {
     "slide_type": "slide"
    }
   },
   "source": [
    "## Datentypen: Boolesche Werte\n",
    "\n",
    "Ein *bool* (*boolean*) kann nur einen von zwei Werten haben: *True* (Wahr) oder *False* (Falsch). *True* wird mit 1 gleichgesetzt und *False* mit 0. Dieser Typ kommt etwa zum Einsatz, wenn Sie testen, ob der Wert einer Variablen eine bestimmte Eigenschaft hat:"
   ]
  },
  {
   "cell_type": "code",
   "execution_count": 2,
   "metadata": {
    "slideshow": {
     "slide_type": "slide"
    }
   },
   "outputs": [
    {
     "data": {
      "text/plain": [
       "False"
      ]
     },
     "execution_count": 2,
     "metadata": {},
     "output_type": "execute_result"
    }
   ],
   "source": [
    "a = \"Hallo\"\n",
    "\n",
    "a.isalpha() # Beinhaltet a nur Buchstaben?\n",
    "a.isalnum() # Beinhaltet a nur alphanumerische Zeichen?\n",
    "a.isdigit() # Beinhaltet a nur Zahlen?"
   ]
  },
  {
   "cell_type": "markdown",
   "metadata": {
    "slideshow": {
     "slide_type": "slide"
    }
   },
   "source": [
    "## Datentypen: Zeichenketten\n",
    "\n",
    "Zeichenketten, oder *character strings*/*strings*, sind Aneinanderreihungen von Zeichen (Buchstaben, Zahlen, Satzzeichen, Leerstellen, usw.) von beliebiger Länge. Sie werden bei der Definition immer in Anführungszeichen (normalerweise doppelt) gesetzt:\n",
    "\n",
    "&gt;&gt;&gt; a = \"Hallo, Welt!\""
   ]
  },
  {
   "cell_type": "markdown",
   "metadata": {
    "slideshow": {
     "slide_type": "slide"
    }
   },
   "source": [
    "## Datentypen: Zeichenketten\n",
    "\n",
    "Wenn eine Zeichenkette ein Anführungszeichen enthalten soll, haben Sie zwei Möglichkeiten:\n",
    "\n",
    "- Sie setzen vor das Anführungszeichen einen *backslash*. Dieser funktioniert als sog. Escape-Zeichen (*escape character*):\n",
    "&gt;&gt;&gt; a = \"Sie sagt &#92;\"Hallo&#92;\"\"\n",
    "- Wenn Sie ein doppeltes Anführungszeichen in die Zeichenkette einfügen wollen, umschließen Sie die ganze Kette mit einfachen Anführungszeichen und umgekehrt:\n",
    "&gt;&gt;&gt; a = 'Sie sagt \"Hallo\"'"
   ]
  },
  {
   "cell_type": "markdown",
   "metadata": {
    "slideshow": {
     "slide_type": "slide"
    }
   },
   "source": [
    "## Datentypen: Integer\n",
    "\n",
    "Ein *integer* ist eine ganze Zahl, also eine Zahl ohne Nachkommastellen. Geben Sie die folgende Zeile ein, um der Variable a den Wert 1 zuzuweisen und lassen Sie sich dann mit **type()** den Datentyp anzeigen.\n",
    "\n",
    "&gt;&gt;&gt; a = 1\n",
    "\n",
    "&gt;&gt;&gt; type(a)"
   ]
  },
  {
   "cell_type": "markdown",
   "metadata": {
    "slideshow": {
     "slide_type": "slide"
    }
   },
   "source": [
    "## Datentypen\n",
    "\n",
    "Was passiert, wenn Sie stattdessen 1.5 eingeben und sich dann den Typ anzeigen lassen?"
   ]
  },
  {
   "cell_type": "markdown",
   "metadata": {
    "slideshow": {
     "slide_type": "slide"
    }
   },
   "source": [
    "## Datentypen: Gleitkommazahl\n",
    "\n",
    "1.5 ist eine sog. Gleitkommazahl (*float*, oder *floating-point number*), d.h., eine Zahl, die auch Nachkommastellen hat. Bitte beachten Sie, dass Python nicht--wie im Deutschen üblich--ein Komma verwendet, um Nachkommastellen zu signalisieren, sondern einen Punkt."
   ]
  },
  {
   "cell_type": "markdown",
   "metadata": {
    "slideshow": {
     "slide_type": "slide"
    }
   },
   "source": [
    "## Datentypen: Gleitkommazahl und wissenschaftliche Notation\n",
    "\n",
    "Gleitkommazahlen lassen sich auch dazu verwenden, um sehr große oder sehr kleine Zahlen darzustellen. Geben Sie die folgenden Zeile ein:\n",
    "\n",
    "&gt;&gt;&gt; 1 / 5**25"
   ]
  },
  {
   "cell_type": "markdown",
   "metadata": {
    "slideshow": {
     "slide_type": "slide"
    }
   },
   "source": [
    "## Datentypen: Gleitkommazahl und wissenschaftliche Notation\n",
    "\n",
    "Das Ergebnis wird Ihnen in der Exponentialdarstellung, oder traditionellen wissenschaftlichen Notation dargestellt:\n",
    "\n",
    "3.3554432e-18\n",
    "\n",
    "Dies entspricht 3.3554432 x 10<sup>-18</sup>"
   ]
  },
  {
   "cell_type": "markdown",
   "metadata": {
    "slideshow": {
     "slide_type": "slide"
    }
   },
   "source": [
    "## Datentypen: Komplexe Zahl\n",
    "\n",
    "Komplexe Zahlen seien hier nur der Vollständigkeit halber erwähnt. Sie bestehen aus einem reelen Teil und einem Imaginärteil.\n",
    "\n",
    "&gt;&gt;&gt; a <- 2 + 2j\n",
    "\n",
    "&gt;&gt;&gt; type(a)\n",
    "\n",
    "&lt;class 'complex'&gt;\n",
    "\n",
    "*j* ist eine imaginäre Zahl mit der Eigenschaft j<sup>2</sup> = -1."
   ]
  },
  {
   "cell_type": "markdown",
   "metadata": {
    "slideshow": {
     "slide_type": "slide"
    }
   },
   "source": [
    "## Vorsicht bei Berechnungen\n",
    "\n",
    "Welches Ergebnis erwarten Sie bei den folgenden Berechnungen?\n",
    "\n",
    "&gt;&gt;&gt; 1.1 + 2.2\n",
    "\n",
    "&gt;&gt;&gt; 1 / 10 + 2 / 10\n",
    "\n",
    "&gt;&gt;&gt; 1 / 10 + 2 / 10 == 0.3"
   ]
  },
  {
   "cell_type": "markdown",
   "metadata": {
    "slideshow": {
     "slide_type": "slide"
    }
   },
   "source": [
    "## Vorsicht bei Berechnungen\n",
    "\n",
    "Welches Ergebnis bekommen Sie, wenn Sie die folgende Zeilen in die Konsole eingeben?\n",
    "\n",
    "&gt;&gt;&gt; 1.1 + 2.2\n",
    "\n",
    "&gt;&gt;&gt; 1 / 10 + 2 / 10\n",
    "\n",
    "&gt;&gt;&gt; 1 / 10 + 2 / 10 == 0.3"
   ]
  },
  {
   "cell_type": "markdown",
   "metadata": {
    "slideshow": {
     "slide_type": "slide"
    }
   },
   "source": [
    "## Vorsicht bei Berechnungen\n",
    "\n",
    "3.3000000000000003\n",
    "\n",
    "0.30000000000000004\n",
    "\n",
    "False"
   ]
  },
  {
   "cell_type": "markdown",
   "metadata": {
    "slideshow": {
     "slide_type": "slide"
    }
   },
   "source": [
    "## Vorsicht bei Berechnungen\n",
    "\n",
    "Computer speichern und bearbeiten Zahlen im Binärformat, das nur 0 und 1 kennt. So wird etwa die Zahl 7 als 111 dargestellt:\n",
    "\n",
    "7<sub>10</sub> = 1 x 2^2^ + 1 x 2^1^ + 1 x 2^0^ = 111<sub>2</sub>"
   ]
  },
  {
   "cell_type": "markdown",
   "metadata": {
    "slideshow": {
     "slide_type": "slide"
    }
   },
   "source": [
    "## Vorsicht bei Berechnungen\n",
    "\n",
    "Das funktioniert meist ganz gut, sorgt aber etwa bei Zahlen mit unendlich vielen Nachkommastellen (etwa 1/3, also 0,3333333...) oder bei bestimmten Brüchen für Probleme, da diese nur annähernd im Binärformat dargestellt und gespeichert werden können.\n",
    "\n",
    "Um präziser mit Dezimalzahlen arbeiten zu können, wird ein zusätzliches Modul benötigt, also eine Erweiterung, die zu Beginn eines Programms geladen wird.\n",
    "\n",
    "Hier eine gute Seite für die Umrechnung von Zahlen in verschiedene Formate: [https://www.matheretter.de/rechner/zahlenkonverter](https://www.matheretter.de/rechner/zahlenkonverter)"
   ]
  },
  {
   "cell_type": "markdown",
   "metadata": {
    "slideshow": {
     "slide_type": "slide"
    }
   },
   "source": [
    "## Zur Zahlendarstellung\n",
    "\n",
    "Seit kurzem (Python 3.6) können Sie Unterstriche verwenden, um Ziffern zu gruppieren und Zahlen dadurch leichter lesbar zu machen. Das heißt, 1000000 (eine Million) kann auch so geschrieben werden: 1_000_000. Was bekommen Sie als Ergebnis der nächsten Zeile heraus?\n",
    "\n",
    "&gt;&gt;&gt; 1_000_000 * 1_000_000"
   ]
  },
  {
   "cell_type": "code",
   "execution_count": 3,
   "metadata": {},
   "outputs": [
    {
     "data": {
      "text/plain": [
       "1000000000000"
      ]
     },
     "execution_count": 3,
     "metadata": {},
     "output_type": "execute_result"
    }
   ],
   "source": [
    "1_000_000 * 1_000_000"
   ]
  },
  {
   "cell_type": "markdown",
   "metadata": {
    "slideshow": {
     "slide_type": "slide"
    }
   },
   "source": [
    "## Zur Zahlendarstellung\n",
    "\n",
    "Zahlen werden in Python normalerweise im Dezimalformat dargestellt. Indem man einer Zahl eines von mehreren Präfixen voranstellt, kann auch ein anderes Format verwendet werden:\n",
    "\n",
    "|Präfix|System|Beispiel|Entspricht im Binärsystem|\n",
    "|-|-|-|-|\n",
    "|0b|Binär|0b1111011|123|\n",
    "|0o (Null o)|Oktal|0o173|123|\n",
    "|0x|Hexadezimal|0x7B|123|"
   ]
  },
  {
   "cell_type": "markdown",
   "metadata": {
    "slideshow": {
     "slide_type": "slide"
    }
   },
   "source": [
    "## Datenstrukturen: Listen\n",
    "\n",
    "Bisher haben wir nur jeweils einen einzelnen Wert gespeichert. Pythons eingebaute Datenstrukturen erlauben es Ihnen aber auch, mehrere Werte auf einmal abzuspeichern. Ein einfaches Beispiel sind Listen (*lists*):\n",
    "\n",
    "&gt;&gt;&gt; a = [\"apfel\", \"banane\", \"banane\", \"kirsche\"]\n",
    "\n",
    "&gt;&gt;&gt; b = [\"ananas\", \"banane\", \"kirsche\", \"birne\"]\n",
    "\n",
    "&gt;&gt;&gt; c = [1, 2, 4, 5, 8, 17]"
   ]
  },
  {
   "cell_type": "markdown",
   "metadata": {
    "slideshow": {
     "slide_type": "slide"
    }
   },
   "source": [
    "## Datenstrukturen: Listen\n",
    "\n",
    "Listen können mehrere Datentypen enthalten:\n",
    "\n",
    "&gt;&gt;&gt; d = [1, 2, 4, \"apfel\", \"kirsche\", \"banane\"]\n",
    "\n",
    "Und sogar andere Listen:\n",
    "\n",
    "&gt;&gt;&gt; e = [1, 2, [3, 4, 5]]"
   ]
  },
  {
   "cell_type": "markdown",
   "metadata": {
    "slideshow": {
     "slide_type": "slide"
    }
   },
   "source": [
    "## Datenstrukturen: Listen\n",
    "\n",
    "Sie können über den Indexwert eines Wertes, d.h. dessen Position in der Liste, auf diesen zugreifen.\n",
    "\n",
    "Bitte beachten Sie, dass in Python--wie in fast allen anderen Programmiersprachen--die Zählung bei 0, nicht bei 1, beginnt:\n",
    "\n",
    "&gt;&gt;&gt; c = [1, 2, 8, 17, 5, 4]\n",
    "\n",
    "&gt;&gt;&gt; erster_wert = c[0]\n",
    "\n",
    "&gt;&gt;&gt; letzter_wert = c[-1]"
   ]
  },
  {
   "cell_type": "markdown",
   "metadata": {
    "slideshow": {
     "slide_type": "slide"
    }
   },
   "source": [
    "## Datenstrukturen: Listen\n",
    "\n",
    "Es gibt auch eine Vielzahl von nützlichen Funktionen zu Listen:\n",
    "\n",
    "&gt;&gt;&gt; c = [1, 2, 8, 17, 5, 4]\n",
    "\n",
    "&gt;&gt;&gt; d = sum(c)\n",
    "\n",
    "&gt;&gt;&gt; c.sort(reverse=True)\n",
    "\n",
    "&gt;&gt;&gt; a = [\"apfel\", \"banane\", \"banane\", \"kirsche\"]\n",
    "\n",
    "&gt;&gt;&gt; b = [\"ananas\", \"banane\", \"kirsche\", \"birne\"]"
   ]
  },
  {
   "cell_type": "markdown",
   "metadata": {
    "slideshow": {
     "slide_type": "slide"
    }
   },
   "source": [
    "## Datenstrukturen: Listen\n",
    "\n",
    "&gt;&gt;&gt; f = a + b\n",
    "\n",
    "&gt;&gt;&gt; f.count(\"banana\")"
   ]
  },
  {
   "cell_type": "markdown",
   "metadata": {
    "slideshow": {
     "slide_type": "slide"
    }
   },
   "source": [
    "## Fortsetzung folgt..."
   ]
  }
 ],
 "metadata": {
  "celltoolbar": "Slideshow",
  "kernelspec": {
   "display_name": "Python 3",
   "language": "python",
   "name": "python3"
  },
  "language_info": {
   "codemirror_mode": {
    "name": "ipython",
    "version": 3
   },
   "file_extension": ".py",
   "mimetype": "text/x-python",
   "name": "python",
   "nbconvert_exporter": "python",
   "pygments_lexer": "ipython3",
   "version": "3.7.3"
  }
 },
 "nbformat": 4,
 "nbformat_minor": 4
}
