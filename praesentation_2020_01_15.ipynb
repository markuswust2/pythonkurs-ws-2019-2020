{
 "cells": [
  {
   "cell_type": "code",
   "execution_count": 4,
   "metadata": {
    "slideshow": {
     "slide_type": "skip"
    }
   },
   "outputs": [
    {
     "data": {
      "text/html": [
       "<style>\n",
       "table {\n",
       "    float: left;\n",
       "}\n",
       "td {\n",
       "    font-size: 30px;\n",
       "    align: left;\n",
       "}\n",
       "thead th {\n",
       "    font-size: 30px;\n",
       "}\n",
       "img {\n",
       "    width: 30%;\n",
       "}\n",
       "</style>\n"
      ],
      "text/plain": [
       "<IPython.core.display.HTML object>"
      ]
     },
     "metadata": {},
     "output_type": "display_data"
    }
   ],
   "source": [
    "%%html\n",
    "<style>\n",
    "table {\n",
    "    float: left;\n",
    "}\n",
    "td {\n",
    "    font-size: 30px;\n",
    "    align: left;\n",
    "}\n",
    "thead th {\n",
    "    font-size: 30px;\n",
    "}\n",
    "img {\n",
    "    width: 30%;\n",
    "}\n",
    "</style>"
   ]
  },
  {
   "cell_type": "markdown",
   "metadata": {
    "slideshow": {
     "slide_type": "slide"
    }
   },
   "source": [
    "## Reguläre Ausdrücke\n",
    "\n",
    "Bei der Arbeit mit Datensätzen kann es vorkommen, dass Sie bestimmte Informationen, wie etwa Rentenversicherungsnummern oder Emailadressen entfernen müssen. Oder vielleicht möchten Sie eine Liste aller Jahreszahlen aus einem Roman erstellen. Hier können Ihnen reguläre Ausdrücke helfen. "
   ]
  },
  {
   "cell_type": "markdown",
   "metadata": {
    "slideshow": {
     "slide_type": "slide"
    }
   },
   "source": [
    "Ein regulärer Ausdruck (*regular expression*, *regexp*, *regex*) ist eine Zeichenkette aus Buchstaben, Zahlen und verschiedenen Sonderzeichen. Er definiert ein Muster, das dem einer gesuchten Zeichenkette entspricht. Anstatt also nach einer bestimmten Emailadresse zu suchen--ein Vorgang, den Sie für jede Adresse wiederholen müssten--können Sie nach dem Muster suchen, was wesentlich effektiver und effizienter ist."
   ]
  },
  {
   "cell_type": "markdown",
   "metadata": {
    "slideshow": {
     "slide_type": "slide"
    }
   },
   "source": [
    "## Entwicklung regulärer Ausdrücke\n",
    "\n",
    "Die Anfänge der regulären Ausdrücke gehen bis in die 1940er Jahre zurück, als die Amerikaner Warren McCulloch und Walter Pitts versuchten, Modelle für die Arbeitsweise des Nervensystems zu entwickeln. 1956 beschrieb dann der Mathematiker Steven Kleene eine Algebra für diese Modelle, die er reguläre Mengen (*regular sets*) nannte. Die Notation für diese neue Algebra waren die regulären Ausdrücke.\n",
    "\n",
    "Wahrscheinlich 1968 wurden reguläre Ausdrücke zum ersten Mal in einem Computersystem implementiert."
   ]
  },
  {
   "cell_type": "markdown",
   "metadata": {
    "slideshow": {
     "slide_type": "slide"
    }
   },
   "source": [
    "1987 wurde die erste Version der Programmiersprache Perl veröffentlicht, die für die Bearbeitung von Textdateien entwickelt worden war und eine für die damalige Zeit leistungsfähige Implementierung von regulären Ausdrücken enthielt; diese wurde im Laufe der Jahre weiter ausgebaut.\n",
    "\n",
    "1997 erschien schließlich PCRE (*Perl Compatible Regular Expressions*), eine Programmbibliothek, welche es ermöglicht, die zum damaligen Zeitpunkt aktuelle Funktionalität von Perls regulären Ausdrücken (Perl 5) in andere Programme und Sprachen zu integrieren."
   ]
  },
  {
   "cell_type": "markdown",
   "metadata": {
    "slideshow": {
     "slide_type": "slide"
    }
   },
   "source": [
    "## Verbreitung regulärer Ausdrücke\n",
    "\n",
    "Heutzutage unterstützen alle gängigen Programmiersprachen (natürlich auch Python) reguläre Ausdrücke in irgendeiner Form. Auch viele Anwendungsprogramme, wie etwa Texteditoren, erlauben es Ihnen, beim Suchen/Ersetzen reguläre Ausdrücke zu verwenden."
   ]
  },
  {
   "cell_type": "markdown",
   "metadata": {
    "slideshow": {
     "slide_type": "slide"
    }
   },
   "source": [
    "## Beispiel: Einfach...\n",
    "\n",
    "Vier aufeinanderfolgende Ziffern (z.B. \"2020\"):"
   ]
  },
  {
   "cell_type": "markdown",
   "metadata": {
    "slideshow": {
     "slide_type": "fragment"
    }
   },
   "source": [
    "<pre>\\d{4}</pre>"
   ]
  },
  {
   "cell_type": "markdown",
   "metadata": {
    "slideshow": {
     "slide_type": "slide"
    }
   },
   "source": [
    "## Extrembeispiel: Nicht so einfach...\n",
    "\n",
    "Emailadresse (z.B. \"karl.mustermann@uni-tuebingen.de\"):"
   ]
  },
  {
   "cell_type": "markdown",
   "metadata": {
    "slideshow": {
     "slide_type": "fragment"
    }
   },
   "source": [
    "<pre>(?:[a-z0-9!#$%&'*+\\/=?^_`{|}~-]+(?:\\.[a-z0-9!#$%&'*+\\/=?^_`{|}~-]+)*|\"(?:[\\x01-\\x08\\x0b\\x0c\\x0e-\\x1f\\x21\\x23-\\x5b\\x5d-\\x7f]|\\\\[\\x01-\\x09\\x0b\\x0c\\x0e-\\x7f])*\")@(?:(?:[a-z0-9](?:[a-z0-9-]*[a-z0-9])?\\.)+[a-z0-9](?:[a-z0-9-]*[a-z0-9])?|\\[(?:(?:(2(5[0-5]|[0-4][0-9])|1[0-9][0-9]|[1-9]?[0-9]))\\.){3}(?:(2(5[0-5]|[0-4][0-9])|1[0-9][0-9]|[1-9]?[0-9])|[a-z0-9-]*[a-z0-9]:(?:[\\x01-\\x08\\x0b\\x0c\\x0e-\\x1f\\x21-\\x5a\\x53-\\x7f]|\\\\[\\x01-\\x09\\x0b\\x0c\\x0e-\\x7f])+)\\])</pre>"
   ]
  },
  {
   "cell_type": "markdown",
   "metadata": {
    "slideshow": {
     "slide_type": "slide"
    }
   },
   "source": [
    "## Reguläre Ausdrücke testen\n",
    "\n",
    "Es gibt eine Vielzahl von Webseiten, auf denen Sie reguläre Ausdrücke testen können. Wir verwenden heute [https://regex101.com/](https://regex101.com/). Es bietet auch gute (englischsprachige) Erklärungen und zeigt Ihnen eventuelle Fehler an."
   ]
  },
  {
   "cell_type": "markdown",
   "metadata": {
    "slideshow": {
     "slide_type": "slide"
    }
   },
   "source": [
    "## Literale Zeichenmuster\n",
    "\n",
    "Literale Zeichen sind Zeichen, die sich selbst bezeichnen und sonst keine weitere Bedeutung haben. Wenn wir solche Zeichen in einem regulären Ausdruck verwenden, sprechen wir von **literalen Zeichenmustern** (*literal character patterns*). Z.B. passt das literale Zeichenmuster \"abc\" auf die Zeichenkette \"abc\" im Suchtext und nur auf sie. Das Ergebnis unterscheidet sich hierbei nicht von einer Suche ohne reguläre Ausdrücke."
   ]
  },
  {
   "cell_type": "markdown",
   "metadata": {
    "slideshow": {
     "slide_type": "slide"
    }
   },
   "source": [
    "## Metazeichen\n",
    "\n",
    "Metazeichen haben eine Bedeutung, die sich von ihrer literalen unterscheidet, und üben besondere Funktionen innerhalb von regulären Ausdrücken aus. Hier ein paar Beispiele:\n",
    "\n",
    "|Zeichen|Beispiel|Bedeutung|\n",
    "|:-|:-|:-|\n",
    "|^|^abc|\"abc\" am Anfang der untersuchten Zeichenkette|\n",
    "|\\$|abc\\$|\"abc\" am Ende der untersuchten Zeichenkette|\n",
    "|/|/abc/|**kann** am Anfang und Ende eines regulären Ausdrucks stehen|\n",
    "|\\\\ |\\w|Escapezeichen (dazu später mehr)|\n",
    "|. (Punkt)|a.c|Kann irgendein Zeichen sein (Buchstabe, Zahl, Satzzeichen, ...)|\n",
    "|\\||(a\\|c)|Entweder \"a\" oder \"b\"|"
   ]
  },
  {
   "cell_type": "markdown",
   "metadata": {
    "slideshow": {
     "slide_type": "slide"
    }
   },
   "source": [
    "## Quantoren\n",
    "\n",
    "Quantoren geben an, wie oft ein Zeichen vorkommen soll: \n",
    "\n",
    "|Zeichen|Beispiel|Bedeutung|\n",
    "|:-|:-|:-|\n",
    "|?|a?|Null oder ein \"a\"|\n",
    "|\\*?|a*?|Null oder mehr \"a\", versucht nur so viele wie unbedingt nötig zu finden: (*lazy*)|\n",
    "|\\*|a*|Null oder mehr \"a\", versucht so viele wie möglich zu finden: gierig (*greedy*)|\n",
    "|+|a+|Ein oder mehr \"a\"|"
   ]
  },
  {
   "cell_type": "markdown",
   "metadata": {
    "slideshow": {
     "slide_type": "slide"
    }
   },
   "source": [
    "Sie können aber auch spezifischere Mengenangaben machen, indem Sie diese in geschweifte Klammern setzen:\n",
    "\n",
    "|Beispiel|Bedeutung|\n",
    "|:-|:-|\n",
    "|a{2}|Genau zwei a|\n",
    "|a{2,}|Zwei oder mehr a|\n",
    "|a{2,4}|Zwei bis vier a|"
   ]
  },
  {
   "cell_type": "markdown",
   "metadata": {
    "slideshow": {
     "slide_type": "slide"
    }
   },
   "source": [
    "## Metazeichen als Literale\n",
    "\n",
    "Wenn Sie nach einem Metazeichen suchen wollen, müssen Sie Ihrem Programm zeigen, dass es sich dann nicht um ein Metazeichen, sondern ein Literal handelt. Sie können das mit einem vorangestellten *backslash* machen. Wenn Sie etwa nach einem Dollarzeichen suchen, würden Sie folgenden Ausdruck verwenden:\n",
    "\n",
    "<pre>\\$</pre>"
   ]
  },
  {
   "cell_type": "markdown",
   "metadata": {
    "slideshow": {
     "slide_type": "fragment"
    }
   },
   "source": [
    "Wenn Sie nach einem *backslash* suchen, benötigen Sie also tatsächlich zwei:\n",
    "\n",
    "<pre>\\\\</pre>"
   ]
  },
  {
   "cell_type": "markdown",
   "metadata": {
    "slideshow": {
     "slide_type": "slide"
    }
   },
   "source": [
    "## Klassen\n",
    "\n",
    "Auch bei regulären Ausdrücken gibt es das Konzept von Klassen, mit denen man eine limitierte Gruppe von Zeichen definieren kann, die der reguläre Ausdruck finden soll. Klassen werden in eckige Klammern gesetzt und finden immer ein einzelnes Zeichen, außer Sie fügen einen Quantor hinzu.\n",
    "\n",
    "Sie können Klassen etwa verwenden, wenn Sie nach einem Namen suchen, bei dessen Schreibweise Sie sich nicht sicher sind. So findet etwa der folgende Ausdruck vier verschiedene Schreibweisen von Maier/Mayer/Meier/Meyer:\n",
    "\n",
    "<pre>M[ae][iy]er</pre>"
   ]
  },
  {
   "cell_type": "markdown",
   "metadata": {
    "slideshow": {
     "slide_type": "slide"
    }
   },
   "source": [
    "Es gibt auch vordefinierte Klassen für Zeichenkategorien, welche besonders häufig genutzt werden, wie etwa:\n",
    "\n",
    "|Name|Bedeutung|Steht für|\n",
    "|:-|:-|:-|\n",
    "|\\[\\[\\:alpha\\:\\]\\]|Buchstaben|\\[a-zA-Z\\]|\n",
    "|\\[\\[\\:upper\\:\\]\\]|Großbuchstaben|\\[A-Z\\]|\n",
    "|\\[\\[\\:lower\\:\\]\\]|Kleinbuchstaben|\\[a-z\\]|\n",
    "|\\[\\[\\:alnum\\:\\]\\]|Buchstaben und Zahlen|\\[a-zA-Z0-9\\]|\n",
    "|\\[\\[\\:digit\\:\\]\\]|Zahlen|\\[0-9\\]|"
   ]
  },
  {
   "cell_type": "markdown",
   "metadata": {
    "slideshow": {
     "slide_type": "slide"
    }
   },
   "source": [
    "## Zeichen ausschließen\n",
    "\n",
    "Wenn Sie einen oder mehrere Zeichen ausschließen möchten, können Sie diese in einer Klasse zusammenfassen und dann mit einem **^** verneinen:\n",
    "\n",
    "<pre>[^abc]</pre>"
   ]
  },
  {
   "cell_type": "markdown",
   "metadata": {
    "slideshow": {
     "slide_type": "slide"
    }
   },
   "source": [
    "Es gibt für viele dieser Klassen auch Kurzbezeichnungen:\n",
    "\n",
    "|Abkürzung|Steht für|\n",
    "|:-|:-|\n",
    "|\\w|Buchstaben|\n",
    "|\\W|Alles außer Buchstaben|\n",
    "|\\d|Zahlen|\n",
    "|\\D|Alles außer Zahlen|\n",
    "|\\s|*Whitespace* (Nicht sichtbare Zeichen, wie etwa Leerzeichen, Zeilenumbruch oder Tabulator|\n",
    "|\\S|Alles außer *Whitespace*|"
   ]
  },
  {
   "cell_type": "markdown",
   "metadata": {
    "slideshow": {
     "slide_type": "slide"
    }
   },
   "source": [
    "Auch wichtige Kontrollzeichen haben eigene Kurzbezeichnungen:\n",
    "    \n",
    "|Abkürzung|Steht für|\n",
    "|:-|:-|\n",
    "|\\t|Tabulator|\n",
    "|\\r|Wagenrücklauf (*Carriage return*)|\n",
    "|\\n|Zeilenumbruch (*Line feed*)|\n",
    "\n",
    "**Wichtig:* In Windows erstellte Textdateien verwenden \\r\\n, um das Ende einer Zeile zu signalisieren. macOS und Unix verwenden \\n."
   ]
  },
  {
   "cell_type": "markdown",
   "metadata": {
    "slideshow": {
     "slide_type": "slide"
    }
   },
   "source": [
    "## Übung 1\n",
    "\n",
    "Schreiben Sie einen regulären Ausdruck, um eine Rentenversicherungsnummer zu finden. Diese ist folgendermaßen aufgebaut (laut [https://de.wikipedia.org/wiki/Versicherungsnummer](https://de.wikipedia.org/wiki/Versicherungsnummer):\n",
    "\n",
    "|Stelle|Beschreibung|Beispiel|\n",
    "|:|:|:|\n",
    "|1–2|Bereichsnummer des Rentenversicherungsträgers|15|\n",
    "|3–4|Geburtstag des Versicherten|07|\n",
    "|5–6|Geburtsmonat des Versicherten|06|\n",
    "|7–8|Geburtsjahr des Versicherten|49|\n",
    "|9|Anfangsbuchstabe des Geburtsnamens des Versicherten|C|\n",
    "|10–11|Seriennummer|10|\n",
    "|12|Prüfziffer|3|"
   ]
  },
  {
   "cell_type": "markdown",
   "metadata": {
    "slideshow": {
     "slide_type": "slide"
    }
   },
   "source": [
    "## Mögliche Lösung\n",
    "\n",
    "<pre>\\d{8}\\w\\d{3}</pre>"
   ]
  },
  {
   "cell_type": "markdown",
   "metadata": {
    "slideshow": {
     "slide_type": "slide"
    }
   },
   "source": [
    "## Übung 2\n",
    "\n",
    "Schreiben Sie einen regulären Ausdruck, der Ihre studentische Emailadresse finden könnte. "
   ]
  },
  {
   "cell_type": "markdown",
   "metadata": {
    "slideshow": {
     "slide_type": "slide"
    }
   },
   "source": [
    "## Mögliche Lösung\n",
    "\n",
    "<pre>[\\w\\.]*@[\\w\\.\\-]*</pre>"
   ]
  },
  {
   "cell_type": "markdown",
   "metadata": {
    "slideshow": {
     "slide_type": "slide"
    }
   },
   "source": [
    "## Gruppen\n",
    "\n",
    "Durch die Verwendung von runden Klammern (einfangende Klammern) können Sie Gruppen bilden, deren Treffer eingefangen, oder abgespeichert, werden und auf die Sie dann später, etwa in Python, direkt zugreifen können. Wenn Sie die Ergebnisse nicht speichern möchten--weil Sie etwa nur anzeigen wollen, dass Sie mehrere Alternativen benennen möchten--können Sie nicht-einfangende Klammern verwenden:\n",
    "\n",
    "|Beispiel|Ergebnis|\n",
    "|:-|:-|\n",
    "|(hund\\|katze)|Findet \"hund\" oder \"katze\", wird bei Python in einem *MatchObject* gespeichert|\n",
    "|(?:hund\\|katze)|Findet \"hund\" oder \"katze\", wird nicht gespeichert|"
   ]
  },
  {
   "cell_type": "markdown",
   "metadata": {
    "slideshow": {
     "slide_type": "slide"
    }
   },
   "source": [
    "## Rückreferenzierung\n",
    "\n",
    "Wenn Sie einfangende Klammern verwenden, können Sie mit **Rückreferenzierung** (*backreferences*) später im gleichen regulären Ausdruck wieder auf die gleiche gefundene Zeichenkette zurückgreifen:\n",
    "\n",
    "|Beispiel|Ergebnis|\n",
    "|:-|:-|\n",
    "|(hund\\|katze)|Findet \"hund\" oder \"katze\", wird bei Python in einem *MatchObject* gespeichert|\n",
    "|(?:hund\\|katze) sieht \\1|Findet \"hund sieht hund\", aber nicht \"hund sieht katze\"|"
   ]
  },
  {
   "cell_type": "markdown",
   "metadata": {
    "slideshow": {
     "slide_type": "slide"
    }
   },
   "source": [
    "## Lookaround, lookahead und lookbehind\n",
    "\n",
    "*Lookaround* beinhaltet zwei Techniken, *lookahead* und *lookbehind*. Wenn Sie etwa testen wollen, ob nach einem Zeichen 1 ein anderes Zeichen 2 folgt, können Sie einen positiven *lookahead* verwenden. Wenn nach Zeichen 1 kein Zeichen 2 kommen darf, verwenden Sie einen negativen *lookahead*:\n",
    "\n",
    "|Beispiel|Bedeutet|\n",
    "|:-|:-|\n",
    "|a(?=b)|nach dem \"a\" muss ein \"b\" kommen|\n",
    "|a(?!b)|nach dem \"a\" darf kein \"b\" kommen|\n",
    "\n",
    "Der Inhalt der runden Klammer wird dabei nicht eingefangen."
   ]
  },
  {
   "cell_type": "markdown",
   "metadata": {
    "slideshow": {
     "slide_type": "slide"
    }
   },
   "source": [
    "*lookbehind* ist die Umkehrung von *lookahead*:\n",
    "\n",
    "|Beispiel|Bedeutet|\n",
    "|:-|:-|\n",
    "|(?<=a)b|vor dem \"b\" muss ein \"a\" kommen|\n",
    "|(?<!a)b|vor dem \"b\" darf kein \"a\" kommen|\n",
    "\n",
    "**Wichtig**: Mehrere RegEx-Implementierungen, u.a. die in Python, erlauben nur *lookbehind* mit Zeichenketten, welche eine festgesetzte Länge haben."
   ]
  },
  {
   "cell_type": "markdown",
   "metadata": {
    "slideshow": {
     "slide_type": "slide"
    }
   },
   "source": [
    "## Weiterführende Lektüre\n",
    "\n",
    "[https://www.regular-expressions.info](https://www.regular-expressions.info) bietet eine kostenlose, umfangreiche und leicht verständliche (englischsprachige) Einführung zu regulären Ausdrücken.\n",
    "\n",
    "Friedl, Jeffrey E.F. *Reguläre Ausdrücke.* O'Reilly: 2008. UB Druckausgabe Deutsch: 48 A 1671. Hat auch Onlineversion des englischen Originals."
   ]
  }
 ],
 "metadata": {
  "celltoolbar": "Slideshow",
  "kernelspec": {
   "display_name": "Python 3",
   "language": "python",
   "name": "python3"
  },
  "language_info": {
   "codemirror_mode": {
    "name": "ipython",
    "version": 3
   },
   "file_extension": ".py",
   "mimetype": "text/x-python",
   "name": "python",
   "nbconvert_exporter": "python",
   "pygments_lexer": "ipython3",
   "version": "3.6.9"
  },
  "toc": {
   "base_numbering": 1,
   "nav_menu": {},
   "number_sections": true,
   "sideBar": true,
   "skip_h1_title": false,
   "title_cell": "Table of Contents",
   "title_sidebar": "Contents",
   "toc_cell": false,
   "toc_position": {
    "height": "calc(100% - 180px)",
    "left": "10px",
    "top": "150px",
    "width": "165px"
   },
   "toc_section_display": true,
   "toc_window_display": false
  }
 },
 "nbformat": 4,
 "nbformat_minor": 2
}
