{
 "cells": [
  {
   "cell_type": "code",
   "execution_count": 1,
   "metadata": {
    "slideshow": {
     "slide_type": "skip"
    }
   },
   "outputs": [],
   "source": [
    "%%html\n",
    "<style>\n",
    "td {\n",
    "    font-size: 20px;\n",
    "}\n",
    "thead th {\n",
    "    font-size: 20px;\n",
    "}\n",
    "img {\n",
    "    width: 150%;\n",
    "    height: 150%;\n",
    "}\n",
    "</style>"
   ]
  },
  {
   "cell_type": "markdown",
   "metadata": {
    "slideshow": {
     "slide_type": "slide"
    }
   },
   "source": [
    "## Funktionen\n",
    "\n",
    "Sie haben bereits mit vordefinierten Funktionen in Python gearbeitet:"
   ]
  },
  {
   "cell_type": "code",
   "execution_count": 2,
   "metadata": {
    "slideshow": {
     "slide_type": "fragment"
    }
   },
   "outputs": [
    {
     "data": {
      "text/plain": [
       "15"
      ]
     },
     "execution_count": 2,
     "metadata": {},
     "output_type": "execute_result"
    }
   ],
   "source": [
    "a = [1,2,3,4,5,]\n",
    "sum(a)"
   ]
  },
  {
   "cell_type": "code",
   "execution_count": 3,
   "metadata": {
    "slideshow": {
     "slide_type": "fragment"
    }
   },
   "outputs": [
    {
     "data": {
      "text/plain": [
       "5"
      ]
     },
     "execution_count": 3,
     "metadata": {},
     "output_type": "execute_result"
    }
   ],
   "source": [
    "len(a)"
   ]
  },
  {
   "cell_type": "code",
   "execution_count": 4,
   "metadata": {
    "slideshow": {
     "slide_type": "fragment"
    }
   },
   "outputs": [
    {
     "data": {
      "text/plain": [
       "1"
      ]
     },
     "execution_count": 4,
     "metadata": {},
     "output_type": "execute_result"
    }
   ],
   "source": [
    "min(a)"
   ]
  },
  {
   "cell_type": "markdown",
   "metadata": {
    "slideshow": {
     "slide_type": "slide"
    }
   },
   "source": [
    "Python erlaubt Ihnen aber auch, selbst Funktionen zu schreiben und diese dann in Ihren Programmen anzuwenden. Sie müssen dabei vor allem darauf achten, dass Sie eine selbstgeschriebene Funktion erst nützen können, nachdem Sie diese definiert haben."
   ]
  },
  {
   "cell_type": "markdown",
   "metadata": {
    "slideshow": {
     "slide_type": "fragment"
    }
   },
   "source": [
    "Es bietet sich deshalb an, Funktionsdefinitionen entweder an den Anfang eines Programms zu setzen oder sie gleich in eine separate .py-Datei zu schreiben und diese dann am Anfang des Programms wie ein Paket zu importieren. Wenn die Datei, in der Sie Ihre eigenen Funktionen speichern, etwa *funktionen.py* heißt, importieren Sie diese mit `import funktionen`."
   ]
  },
  {
   "cell_type": "markdown",
   "metadata": {
    "slideshow": {
     "slide_type": "slide"
    }
   },
   "source": [
    "## Nutzung von Funktionen\n",
    "\n",
    "Funktionen sind sehr nützlich, um Wiederholungen im Code zu vermeiden. Anstatt bestimmte Stellen mehrmals zu wiederholen, ist es oft einfacher und effizienter, Code in eine Funktion auszulagern. Um eine Funktion möglichst vielseitig einsetzen zu können, sollte man nicht mehrere Aufgaben in einer Funktion kombinieren, sondern stattdessen unterschiedliche Funktionen schreiben."
   ]
  },
  {
   "cell_type": "markdown",
   "metadata": {
    "slideshow": {
     "slide_type": "slide"
    }
   },
   "source": [
    "## Funktionen definieren\n",
    "\n",
    "Die Definition einer Funktion beginnt wie folgt:\n",
    "\n",
    "- Das Schlüsselwort **def**.\n",
    "- Der Name der Funktion.\n",
    "- Die Parameter der Funktion in runden Klammern. Eine Funktionen muss nicht unbedingt Parameter haben, aber die Klammern werden immer benötigt.\n",
    "- Ein Doppelpunkt."
   ]
  },
  {
   "cell_type": "markdown",
   "metadata": {
    "slideshow": {
     "slide_type": "slide"
    }
   },
   "source": [
    "Für Funktionsnamen gelten die gleichen Regeln wie bei Variablennamen, also:\n",
    "\n",
    "- Die folgenden Zeichen sind erlaubt: Buchstaben, Zahlen, Punkt, Unterstrich\n",
    "- Funktionsnamen dürfen nicht mit einer Zahl beginnen\n",
    "\n",
    "Diese Elemente werden alle in eine Zeile geschrieben. In den nächsten Zeilen folgt--eingerückt--der Funktionskörper mit dem Code, den die Funktion ausführen soll. Mit `return` kann dann das Ergebnis wieder ausgegeben werden."
   ]
  },
  {
   "cell_type": "code",
   "execution_count": 5,
   "metadata": {
    "slideshow": {
     "slide_type": "fragment"
    }
   },
   "outputs": [],
   "source": [
    "def funktionsname(parameter1, parameter2):  \n",
    "    funktionskörper"
   ]
  },
  {
   "cell_type": "markdown",
   "metadata": {
    "slideshow": {
     "slide_type": "slide"
    }
   },
   "source": [
    "## Beispiel"
   ]
  },
  {
   "cell_type": "code",
   "execution_count": 6,
   "metadata": {
    "slideshow": {
     "slide_type": "fragment"
    }
   },
   "outputs": [
    {
     "data": {
      "text/plain": [
       "1932"
      ]
     },
     "execution_count": 6,
     "metadata": {},
     "output_type": "execute_result"
    }
   ],
   "source": [
    "def multiplizieren(wert_a, wert_b):\n",
    "    produkt = wert_a * (wert_b + 2)\n",
    "    summe = produkt + produkt\n",
    "    return summe\n",
    "\n",
    "ergebnis = multiplizieren(wert_a = 42, wert_b = 21)\n",
    "ergebnis"
   ]
  },
  {
   "cell_type": "markdown",
   "metadata": {
    "slideshow": {
     "slide_type": "fragment"
    }
   },
   "source": [
    "Wenn Sie die Funktion aufrufen, werden die Argumente--also die eigentlichen Werte, die Sie in Klammern angegeben haben (42 und 21)--innerhalb der Funktion den Parametern der Funktion *a* und *b* zugewiesen. Das Produkt der beiden Zahlen wird dann der Wert der Variable *produkt*; dieser Wert wird  von der Funktion zurückgegeben, als Wert in der Variable *ergebnis* gespeichert und steht ab diesem Zeitpunkt dem Programm zur Verfügung."
   ]
  },
  {
   "cell_type": "markdown",
   "metadata": {
    "slideshow": {
     "slide_type": "slide"
    }
   },
   "source": [
    "Was passiert, wenn Sie jetzt den Namen der Variable *summe* eingeben, um sich den Wert anzeigen zu lassen?"
   ]
  },
  {
   "cell_type": "markdown",
   "metadata": {
    "slideshow": {
     "slide_type": "slide"
    }
   },
   "source": [
    "## Lokale Variablen\n",
    "\n",
    "Sie sollten folgende Fehlermeldung bekommen: `name 'summe' is not defined`\n",
    "\n",
    "Python kann die Variable *summe* nicht finden, da sie--wie auch *produkt*, *wert_a* und *wert_b*--eine sog. *lokale Variable* (*local variable*) ist. Das heißt, dass sie nur innerhalb der Funktion `multiplizieren` existiert. Wenn Sie Zugriff auf den Wert einer Variable haben möchten, müssen Sie ihn mit **return()** wieder ausgeben. Wenn Sie mehrere Werte ausgeben möchten, können Sie eine dafür geeignete Datenstruktur verwenden (z.B. eine Liste):"
   ]
  },
  {
   "cell_type": "code",
   "execution_count": 7,
   "metadata": {
    "slideshow": {
     "slide_type": "slide"
    }
   },
   "outputs": [
    {
     "data": {
      "text/plain": [
       "(1932, 966)"
      ]
     },
     "execution_count": 7,
     "metadata": {},
     "output_type": "execute_result"
    }
   ],
   "source": [
    "def multiplizieren(wert_a, wert_b):\n",
    "    produkt = wert_a * (wert_b + 2)\n",
    "    summe = produkt + produkt\n",
    "    return (summe, produkt)\n",
    "\n",
    "ergebnis = multiplizieren(wert_a = 42, wert_b = 21)\n",
    "ergebnis"
   ]
  },
  {
   "cell_type": "markdown",
   "metadata": {
    "slideshow": {
     "slide_type": "slide"
    }
   },
   "source": [
    "## return\n",
    "\n",
    "*return* kann nicht nur zur Ergebnisausgabe genutzt werden, sondern auch zum Beenden einer Funktion. Im folgenden Beispiel wird die Funktion vorzeitig beendet, wenn eine Bedingung (eine der beiden Zahlen ist 0) zutrifft:"
   ]
  },
  {
   "cell_type": "code",
   "execution_count": 8,
   "metadata": {
    "slideshow": {
     "slide_type": "fragment"
    }
   },
   "outputs": [],
   "source": [
    "def multiplizieren(wert_a, wert_b):\n",
    "    if wert_a == 0 or wert_b == 0:\n",
    "        return None\n",
    "    else:\n",
    "        produkt = wert_a * (wert_b + 2)\n",
    "        summe = produkt + produkt\n",
    "        return summe\n",
    "\n",
    "ergebnis = multiplizieren(wert_a = 42, wert_b = 0)\n",
    "ergebnis"
   ]
  },
  {
   "cell_type": "markdown",
   "metadata": {
    "slideshow": {
     "slide_type": "slide"
    }
   },
   "source": [
    "## Parameter\n",
    "\n",
    "Sehen wir uns wieder unsere ursprüngliche Funktion an:"
   ]
  },
  {
   "cell_type": "code",
   "execution_count": 9,
   "metadata": {
    "slideshow": {
     "slide_type": "fragment"
    }
   },
   "outputs": [
    {
     "data": {
      "text/plain": [
       "1932"
      ]
     },
     "execution_count": 9,
     "metadata": {},
     "output_type": "execute_result"
    }
   ],
   "source": [
    "def multiplizieren(wert_a, wert_b):\n",
    "    produkt = wert_a * (wert_b + 2)\n",
    "    summe = produkt + produkt\n",
    "    return summe\n",
    "\n",
    "ergebnis = multiplizieren(wert_a = 42, wert_b = 21)\n",
    "ergebnis"
   ]
  },
  {
   "cell_type": "markdown",
   "metadata": {
    "slideshow": {
     "slide_type": "fragment"
    }
   },
   "source": [
    "Hier haben wir beim Aufrufen der Funktion nicht nur die Werte der Argumente angegeben, sondern auch deren Namen (oder Schlüsselwort, *keyword*). Dadurch könnten wir deren Reihenfolge ändern und würden dennoch das gleiche Ergebnis bekommen."
   ]
  },
  {
   "cell_type": "code",
   "execution_count": 10,
   "metadata": {
    "slideshow": {
     "slide_type": "slide"
    }
   },
   "outputs": [],
   "source": [
    "def multiplizieren(wert_a, wert_b):\n",
    "    produkt = wert_a * (wert_b + 2)\n",
    "    summe = produkt + produkt\n",
    "    return summe"
   ]
  },
  {
   "cell_type": "code",
   "execution_count": 11,
   "metadata": {
    "slideshow": {
     "slide_type": "fragment"
    }
   },
   "outputs": [
    {
     "data": {
      "text/plain": [
       "1932"
      ]
     },
     "execution_count": 11,
     "metadata": {},
     "output_type": "execute_result"
    }
   ],
   "source": [
    "ergebnis = multiplizieren(wert_a = 42, wert_b = 21)\n",
    "ergebnis"
   ]
  },
  {
   "cell_type": "code",
   "execution_count": 12,
   "metadata": {
    "slideshow": {
     "slide_type": "fragment"
    }
   },
   "outputs": [
    {
     "data": {
      "text/plain": [
       "1932"
      ]
     },
     "execution_count": 12,
     "metadata": {},
     "output_type": "execute_result"
    }
   ],
   "source": [
    "ergebnis = multiplizieren(wert_b = 21, wert_a = 42)\n",
    "ergebnis"
   ]
  },
  {
   "cell_type": "markdown",
   "metadata": {
    "slideshow": {
     "slide_type": "slide"
    }
   },
   "source": [
    "Wir können allerdings die Namen auch weglassen, müssen jetzt aber auf die korrekte Reihenfolge der Argumente achten:"
   ]
  },
  {
   "cell_type": "code",
   "execution_count": 13,
   "metadata": {
    "slideshow": {
     "slide_type": "fragment"
    }
   },
   "outputs": [
    {
     "data": {
      "text/plain": [
       "1932"
      ]
     },
     "execution_count": 13,
     "metadata": {},
     "output_type": "execute_result"
    }
   ],
   "source": [
    "ergebnis = multiplizieren(42, 21)\n",
    "ergebnis"
   ]
  },
  {
   "cell_type": "code",
   "execution_count": 14,
   "metadata": {
    "slideshow": {
     "slide_type": "fragment"
    }
   },
   "outputs": [
    {
     "data": {
      "text/plain": [
       "1848"
      ]
     },
     "execution_count": 14,
     "metadata": {},
     "output_type": "execute_result"
    }
   ],
   "source": [
    "ergebnis = multiplizieren(21, 42)\n",
    "ergebnis"
   ]
  },
  {
   "cell_type": "markdown",
   "metadata": {
    "slideshow": {
     "slide_type": "slide"
    }
   },
   "source": [
    "Es ist auch möglich, beide Methoden miteinander zu verknüpfen. Sie müssen dabei aber darauf achten, dass Sie erst diejenigen Argumente aufführen, welche durch ihre Position spezifiziert werden (*positional argument*), und erst danach die Argumente mit einem Schlüsselwort (*keyword argument*):"
   ]
  },
  {
   "cell_type": "code",
   "execution_count": 15,
   "metadata": {},
   "outputs": [
    {
     "data": {
      "text/plain": [
       "1932"
      ]
     },
     "execution_count": 15,
     "metadata": {},
     "output_type": "execute_result"
    }
   ],
   "source": [
    "ergebnis = multiplizieren(42, wert_b = 21)\n",
    "ergebnis"
   ]
  },
  {
   "cell_type": "markdown",
   "metadata": {},
   "source": [
    "ergebnis = multiplizieren(wert_a = 42, 21)\n",
    "ergebnis"
   ]
  },
  {
   "cell_type": "markdown",
   "metadata": {
    "slideshow": {
     "slide_type": "slide"
    }
   },
   "source": [
    "Python bietet auch die Möglichkeit, Funktionen flexibler zu gestalten, indem mehrere Argumente an einen Funktionsparameter übergeben werden können. Wenn die Argumente dabei über ihre Position zugewiesen werden, stellt man dem betreffenden Parameter in der Parameterliste der Funktion einen Stern (**\\***) voran:"
   ]
  },
  {
   "cell_type": "code",
   "execution_count": 16,
   "metadata": {
    "slideshow": {
     "slide_type": "fragment"
    }
   },
   "outputs": [
    {
     "name": "stdout",
     "output_type": "stream",
     "text": [
      "15120\n"
     ]
    }
   ],
   "source": [
    "def multiplizieren(*zahlen):\n",
    "    y = 1\n",
    "    for x in zahlen:\n",
    "        y *= x\n",
    "    return y\n",
    "        \n",
    "ergebnis_multiplizieren = multiplizieren(5,6,7,8,9)\n",
    "print(ergebnis_multiplizieren)"
   ]
  },
  {
   "cell_type": "markdown",
   "metadata": {
    "slideshow": {
     "slide_type": "slide"
    }
   },
   "source": [
    "Wenn es hingegen um Argumente mit Schlüsselwörtern geht, verwendet man zwei Sterne (**\\*\\***) vor dem Parameternamen. Die Argumente werden als ein Dictionary an die Funktion übergeben:"
   ]
  },
  {
   "cell_type": "code",
   "execution_count": 17,
   "metadata": {
    "slideshow": {
     "slide_type": "fragment"
    }
   },
   "outputs": [
    {
     "name": "stdout",
     "output_type": "stream",
     "text": [
      "15120\n"
     ]
    }
   ],
   "source": [
    "def multiplizieren(**zahlen):\n",
    "    y = 1\n",
    "    for x in zahlen:\n",
    "        y *= zahlen[x]\n",
    "    return y\n",
    "        \n",
    "ergebnis_multiplizieren = multiplizieren(a=5, b=6, c=7, d=8, e=9)\n",
    "print(ergebnis_multiplizieren)"
   ]
  },
  {
   "cell_type": "markdown",
   "metadata": {
    "slideshow": {
     "slide_type": "slide"
    }
   },
   "source": [
    "Im folgenden Beispiel wird noch ein zweiter Parameter eingefügt, der nur ein Argument annehmen kann.  Wenn man die Funktion aufruft, wird der erste Wert aus der Argumentenliste dem Parameter *a* zugewiesen, alle anderen gehen an *zahlen*:"
   ]
  },
  {
   "cell_type": "code",
   "execution_count": 18,
   "metadata": {
    "slideshow": {
     "slide_type": "fragment"
    }
   },
   "outputs": [
    {
     "name": "stdout",
     "output_type": "stream",
     "text": [
      "15220\n"
     ]
    }
   ],
   "source": [
    "def multiplizieren_addieren(a, *zahlen):\n",
    "    b = 1\n",
    "    for x in zahlen:\n",
    "        b = b * x\n",
    "        c = b + a\n",
    "    return c\n",
    "        \n",
    "ergebnis_multiplizieren_addieren = multiplizieren_addieren(100,5,6,7,8,9)\n",
    "print(ergebnis_multiplizieren_addieren)"
   ]
  },
  {
   "cell_type": "markdown",
   "metadata": {
    "slideshow": {
     "slide_type": "slide"
    }
   },
   "source": [
    "Schließlich soll noch erwähnt werden, dass Sie beim Schreiben einer Funktion auch Standardwerte definieren können, die zum Zuge kommen, wenn beim Funktionsaufruf kein anderer Wert für einen Parameter angegeben wurde:"
   ]
  },
  {
   "cell_type": "code",
   "execution_count": 19,
   "metadata": {
    "code_folding": [],
    "slideshow": {
     "slide_type": "fragment"
    }
   },
   "outputs": [
    {
     "name": "stdout",
     "output_type": "stream",
     "text": [
      "15220\n"
     ]
    }
   ],
   "source": [
    "def multiplizieren_addieren(*zahlen, a=100):\n",
    "    b = 1\n",
    "    for x in zahlen:\n",
    "        b = b * x\n",
    "        c = b + a\n",
    "    return c\n",
    "        \n",
    "ergebnis_multiplizieren_addieren = multiplizieren_addieren(5,6,7,8,9)\n",
    "print(ergebnis_multiplizieren_addieren)"
   ]
  },
  {
   "cell_type": "markdown",
   "metadata": {
    "slideshow": {
     "slide_type": "slide"
    }
   },
   "source": [
    "Wenn man im Funktionsaufruf dann einen anderen Wert festsetzt, wird der Standardwert überschrieben:"
   ]
  },
  {
   "cell_type": "code",
   "execution_count": 20,
   "metadata": {
    "slideshow": {
     "slide_type": "fragment"
    }
   },
   "outputs": [
    {
     "name": "stdout",
     "output_type": "stream",
     "text": [
      "15170\n"
     ]
    }
   ],
   "source": [
    "ergebnis_multiplizieren_addieren = multiplizieren_addieren(5,6,7,8,9, a=50)\n",
    "print(ergebnis_multiplizieren_addieren)"
   ]
  },
  {
   "cell_type": "markdown",
   "metadata": {
    "slideshow": {
     "slide_type": "slide"
    }
   },
   "source": [
    "## Kurze Übung\n",
    "\n",
    "Schreiben Sie eine Funktion, welche den Durchschnitt einer beliebig großen Anzahl von Zahlen berechnen kann. Rufen Sie dann diese Funktion auf, um den Durchschnitt von mindestens 10 Zahlen zu berechnen, und lassen sich dann das Ergebnis in einem Satz wie etwa \"Der Durchschnitt der Zahlen beträgt 2,5\" anzeigen."
   ]
  },
  {
   "cell_type": "code",
   "execution_count": 21,
   "metadata": {
    "slideshow": {
     "slide_type": "slide"
    }
   },
   "outputs": [
    {
     "name": "stdout",
     "output_type": "stream",
     "text": [
      "Der Durchschnitt der Zahlen beträgt 3864.3\n"
     ]
    }
   ],
   "source": [
    "def durchschnitt_funktion(*zahlen):\n",
    "    a = 0\n",
    "    for x in zahlen:\n",
    "        a += x\n",
    "    b = a / len(zahlen)\n",
    "    return b\n",
    "\n",
    "durchschnitt = durchschnitt_funktion(56, 93, 104, 473, 742, 13, 800, 373, 35234, 755)\n",
    "print(\"Der Durchschnitt der Zahlen beträgt {}\".format(durchschnitt))"
   ]
  },
  {
   "cell_type": "markdown",
   "metadata": {
    "slideshow": {
     "slide_type": "slide"
    }
   },
   "source": [
    "## And now to something completely different: Daten in eine Datei schreiben\n",
    "\n",
    "Sie haben bei der Übung zur Datenanalyse schon gesehen, wie Sie Daten aus einer externen Datei einlesen und bearbeiten können. Es ist natürlich auch möglich, diese bearbeiteten Dateien wieder in eine Datei zu schreiben. \n",
    "\n",
    "Als Beispiel dient wieder die Datei \"wm_2019_spielerinnen.txt,\" die wir zunächst einlesen müssen:"
   ]
  },
  {
   "cell_type": "code",
   "execution_count": 22,
   "metadata": {
    "slideshow": {
     "slide_type": "fragment"
    }
   },
   "outputs": [],
   "source": [
    "import pandas as pd\n",
    "\n",
    "df = pd.read_csv(\"C:/Users/marku/Desktop/python_winter_2019_2020/wm_2019_spielerinnen.txt\", sep=\"\\t\")"
   ]
  },
  {
   "cell_type": "markdown",
   "metadata": {
    "slideshow": {
     "slide_type": "slide"
    }
   },
   "source": [
    "Wir fügen dann eine Spalte \"alter\" hinzu:"
   ]
  },
  {
   "cell_type": "code",
   "execution_count": 23,
   "metadata": {
    "slideshow": {
     "slide_type": "fragment"
    }
   },
   "outputs": [],
   "source": [
    "df[\"Alter\"] = 2019 - df[\"Geburtsjahr\"]"
   ]
  },
  {
   "cell_type": "code",
   "execution_count": 24,
   "metadata": {
    "slideshow": {
     "slide_type": "slide"
    }
   },
   "outputs": [
    {
     "data": {
      "text/html": [
       "<div>\n",
       "<style scoped>\n",
       "    .dataframe tbody tr th:only-of-type {\n",
       "        vertical-align: middle;\n",
       "    }\n",
       "\n",
       "    .dataframe tbody tr th {\n",
       "        vertical-align: top;\n",
       "    }\n",
       "\n",
       "    .dataframe thead th {\n",
       "        text-align: right;\n",
       "    }\n",
       "</style>\n",
       "<table border=\"1\" class=\"dataframe\">\n",
       "  <thead>\n",
       "    <tr style=\"text-align: right;\">\n",
       "      <th></th>\n",
       "      <th>Name</th>\n",
       "      <th>Mannschaft</th>\n",
       "      <th>Geburtsjahr</th>\n",
       "      <th>Groesse</th>\n",
       "      <th>Position</th>\n",
       "      <th>Alter</th>\n",
       "    </tr>\n",
       "  </thead>\n",
       "  <tbody>\n",
       "    <tr>\n",
       "      <th>0</th>\n",
       "      <td>Javiera Grez</td>\n",
       "      <td>Chile</td>\n",
       "      <td>2000</td>\n",
       "      <td>148</td>\n",
       "      <td>Stürmer</td>\n",
       "      <td>19</td>\n",
       "    </tr>\n",
       "    <tr>\n",
       "      <th>1</th>\n",
       "      <td>Orathai Srimanee</td>\n",
       "      <td>Thailand</td>\n",
       "      <td>1988</td>\n",
       "      <td>151</td>\n",
       "      <td>Stürmer</td>\n",
       "      <td>31</td>\n",
       "    </tr>\n",
       "    <tr>\n",
       "      <th>2</th>\n",
       "      <td>Maria Jose Rojas</td>\n",
       "      <td>Chile</td>\n",
       "      <td>1987</td>\n",
       "      <td>153</td>\n",
       "      <td>Stürmer</td>\n",
       "      <td>32</td>\n",
       "    </tr>\n",
       "    <tr>\n",
       "      <th>3</th>\n",
       "      <td>Gabrielle Aboudi Onguene</td>\n",
       "      <td>Kamerun</td>\n",
       "      <td>1989</td>\n",
       "      <td>153</td>\n",
       "      <td>Stürmer</td>\n",
       "      <td>30</td>\n",
       "    </tr>\n",
       "    <tr>\n",
       "      <th>4</th>\n",
       "      <td>Warunee Phetwiset</td>\n",
       "      <td>Thailand</td>\n",
       "      <td>1990</td>\n",
       "      <td>153</td>\n",
       "      <td>Abwehr</td>\n",
       "      <td>29</td>\n",
       "    </tr>\n",
       "  </tbody>\n",
       "</table>\n",
       "</div>"
      ],
      "text/plain": [
       "                       Name Mannschaft  Geburtsjahr  Groesse Position  Alter\n",
       "0              Javiera Grez      Chile         2000      148  Stürmer     19\n",
       "1          Orathai Srimanee   Thailand         1988      151  Stürmer     31\n",
       "2          Maria Jose Rojas      Chile         1987      153  Stürmer     32\n",
       "3  Gabrielle Aboudi Onguene    Kamerun         1989      153  Stürmer     30\n",
       "4         Warunee Phetwiset   Thailand         1990      153   Abwehr     29"
      ]
     },
     "execution_count": 24,
     "metadata": {},
     "output_type": "execute_result"
    }
   ],
   "source": [
    "df.head()"
   ]
  },
  {
   "cell_type": "code",
   "execution_count": 25,
   "metadata": {
    "slideshow": {
     "slide_type": "slide"
    }
   },
   "outputs": [],
   "source": [
    "df.to_csv(\"C:/Users/marku/Desktop/python_winter_2019_2020/wm_2019_spielerinnen_mit_alter_pandas.txt\", encoding='utf-8', index=False, sep=\"\\t\")"
   ]
  },
  {
   "cell_type": "markdown",
   "metadata": {
    "slideshow": {
     "slide_type": "slide"
    }
   },
   "source": [
    "Wenn Sie nicht mit Pandas arbeiten, können Sie Pythons **open()**, **write()** und **close()**-Funktionen verwenden:"
   ]
  },
  {
   "cell_type": "code",
   "execution_count": 26,
   "metadata": {
    "slideshow": {
     "slide_type": "fragment"
    }
   },
   "outputs": [],
   "source": [
    "datei = open(\"C:/Users/marku/Desktop/python_winter_2019_2020/wm_2019_spielerinnen_mit_alter_write.txt\", \"w\")\n",
    "datei.write(df.to_string())\n",
    "datei.close()"
   ]
  },
  {
   "cell_type": "markdown",
   "metadata": {
    "slideshow": {
     "slide_type": "slide"
    }
   },
   "source": [
    "## In der nächsten Sitzung (8.1.2020)\n",
    "\n",
    "Objektorientierung: Klassen, Attribute, Methoden, usw."
   ]
  },
  {
   "cell_type": "markdown",
   "metadata": {
    "slideshow": {
     "slide_type": "slide"
    }
   },
   "source": [
    "![](python2.png)"
   ]
  },
  {
   "cell_type": "markdown",
   "metadata": {
    "slideshow": {
     "slide_type": "slide"
    }
   },
   "source": [
    "## Und hier noch ein kleiner Python-Weihnachtsgruß...\n",
    "\n",
    "Quelle: [https://www.pythoncircle.com/post/387/python-script-6-wishing-merry-christmas-using-python-turtle/](https://www.pythoncircle.com/post/387/python-script-6-wishing-merry-christmas-using-python-turtle/)"
   ]
  },
  {
   "cell_type": "code",
   "execution_count": null,
   "metadata": {
    "slideshow": {
     "slide_type": "slide"
    }
   },
   "outputs": [],
   "source": [
    "from turtle import *\n",
    "from random import randint\n",
    "\n",
    "\n",
    "def create_rectangle(turtle, color, x, y, width, height):\n",
    "    turtle.penup()\n",
    "    turtle.color(color)\n",
    "    turtle.fillcolor(color)\n",
    "    turtle.goto(x, y)\n",
    "    turtle.pendown()\n",
    "    turtle.begin_fill()\n",
    "\n",
    "    turtle.forward(width)\n",
    "    turtle.left(90)\n",
    "    turtle.forward(height)\n",
    "    turtle.left(90)\n",
    "    turtle.forward(width)\n",
    "    turtle.left(90)\n",
    "    turtle.forward(height)\n",
    "    turtle.left(90)\n",
    "\n",
    "    # fill the above shape\n",
    "    turtle.end_fill()\n",
    "    # Reset the orientation of the turtle\n",
    "    turtle.setheading(0)\n",
    "\n",
    "\n",
    "def create_circle(turtle, x, y, radius, color):\n",
    "    oogway.penup()\n",
    "    oogway.color(color)\n",
    "    oogway.fillcolor(color)\n",
    "    oogway.goto(x, y)\n",
    "    oogway.pendown()\n",
    "    oogway.begin_fill()\n",
    "    oogway.circle(radius)\n",
    "    oogway.end_fill()\n",
    "\n",
    "\n",
    "BG_COLOR = \"#0080ff\"\n",
    "\n",
    "oogway = Turtle()\n",
    "# set turtle speed\n",
    "oogway.speed(2)\n",
    "screen = oogway.getscreen()\n",
    "# set background color\n",
    "screen.bgcolor(BG_COLOR)\n",
    "# set tile of screen\n",
    "screen.title(\"Merry Christmas\")\n",
    "# maximize the screen\n",
    "screen.setup(width=1.0, height=1.0)\n",
    "\n",
    "y = -100\n",
    "# create tree trunk\n",
    "create_rectangle(oogway, \"red\", -15, y-60, 30, 60)\n",
    "\n",
    "# create tree\n",
    "width = 240\n",
    "oogway.speed(10)\n",
    "while width > 10:\n",
    "    width = width - 10\n",
    "    height = 10\n",
    "    x = 0 - width/2\n",
    "    create_rectangle(oogway, \"green\", x, y, width, height)\n",
    "    y = y + height\n",
    "\n",
    "# create a star a top of tree\n",
    "oogway.speed(1)\n",
    "oogway.penup()\n",
    "oogway.color('yellow')\n",
    "oogway.goto(-20, y+10)\n",
    "oogway.begin_fill()\n",
    "oogway.pendown()\n",
    "for i in range(5):\n",
    "    oogway.forward(40)\n",
    "    oogway.right(144)\n",
    "oogway.end_fill()\n",
    "\n",
    "tree_height = y + 40\n",
    "\n",
    "# create moon in sky\n",
    "# create a full circle\n",
    "create_circle(oogway, 230, 180, 60, \"white\")\n",
    "# overlap with full circle of BG color to make a crescent shape\n",
    "create_circle(oogway, 220, 180, 60, BG_COLOR)\n",
    "\n",
    "# now add few stars in sky\n",
    "oogway.speed(10)\n",
    "number_of_stars = randint(20,30)\n",
    "# print(number_of_stars)\n",
    "for _ in range(0,number_of_stars):\n",
    "    x_star = randint(-(screen.window_width()//2),screen.window_width()//2)\n",
    "    y_star = randint(tree_height, screen.window_height()//2)\n",
    "    size = randint(5,20)\n",
    "    oogway.penup()\n",
    "    oogway.color('white')\n",
    "    oogway.goto(x_star, y_star)\n",
    "    oogway.begin_fill()\n",
    "    oogway.pendown()\n",
    "    for i in range(5):\n",
    "        oogway.forward(size)\n",
    "        oogway.right(144)\n",
    "    oogway.end_fill()\n",
    "\n",
    "# print greeting message\n",
    "oogway.speed(1)\n",
    "oogway.penup()\n",
    "msg = \"Frohe Weihnacht, erholsame Feiertage, einen guten Rutsch und viel Spaß mit Python\"\n",
    "oogway.goto(0, -200)  # y is in minus because tree trunk was below x axis\n",
    "oogway.color(\"white\")\n",
    "oogway.pendown()\n",
    "oogway.write(msg, move=False, align=\"center\", font=(\"Arial\", 15, \"bold\"))\n",
    "\n",
    "oogway.hideturtle()\n",
    "screen.mainloop()"
   ]
  },
  {
   "cell_type": "code",
   "execution_count": null,
   "metadata": {},
   "outputs": [],
   "source": []
  }
 ],
 "metadata": {
  "celltoolbar": "Slideshow",
  "kernelspec": {
   "display_name": "Python 3",
   "language": "python",
   "name": "python3"
  },
  "language_info": {
   "codemirror_mode": {
    "name": "ipython",
    "version": 3
   },
   "file_extension": ".py",
   "mimetype": "text/x-python",
   "name": "python",
   "nbconvert_exporter": "python",
   "pygments_lexer": "ipython3",
   "version": "3.7.3"
  },
  "toc": {
   "base_numbering": 1,
   "nav_menu": {},
   "number_sections": true,
   "sideBar": true,
   "skip_h1_title": false,
   "title_cell": "Table of Contents",
   "title_sidebar": "Contents",
   "toc_cell": false,
   "toc_position": {
    "height": "calc(100% - 180px)",
    "left": "10px",
    "top": "150px",
    "width": "165px"
   },
   "toc_section_display": true,
   "toc_window_display": false
  }
 },
 "nbformat": 4,
 "nbformat_minor": 2
}
