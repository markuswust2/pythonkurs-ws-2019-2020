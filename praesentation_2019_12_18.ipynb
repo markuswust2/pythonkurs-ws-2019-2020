{
 "cells": [
  {
   "cell_type": "code",
   "execution_count": 1,
   "metadata": {
    "slideshow": {
     "slide_type": "skip"
    }
   },
   "outputs": [
    {
     "data": {
      "text/html": [
       "<style>\n",
       "td {\n",
       "    font-size: 20px;\n",
       "}\n",
       "thead th {\n",
       "    font-size: 20px;\n",
       "}\n",
       "</style>"
      ],
      "text/plain": [
       "<IPython.core.display.HTML object>"
      ]
     },
     "metadata": {},
     "output_type": "display_data"
    }
   ],
   "source": [
    "%%html\n",
    "<style>\n",
    "td {\n",
    "    font-size: 20px;\n",
    "}\n",
    "thead th {\n",
    "    font-size: 20px;\n",
    "}\n",
    "</style>"
   ]
  },
  {
   "cell_type": "markdown",
   "metadata": {
    "slideshow": {
     "slide_type": "slide"
    }
   },
   "source": [
    "## Funktionen\n",
    "\n",
    "Sie haben bereits mit vordefinierten Funktionen in Python gearbeitet:"
   ]
  },
  {
   "cell_type": "code",
   "execution_count": 2,
   "metadata": {
    "slideshow": {
     "slide_type": "fragment"
    }
   },
   "outputs": [
    {
     "data": {
      "text/plain": [
       "15"
      ]
     },
     "execution_count": 2,
     "metadata": {},
     "output_type": "execute_result"
    }
   ],
   "source": [
    "a = [1,2,3,4,5,]\n",
    "sum(a)"
   ]
  },
  {
   "cell_type": "code",
   "execution_count": 3,
   "metadata": {
    "slideshow": {
     "slide_type": "fragment"
    }
   },
   "outputs": [
    {
     "data": {
      "text/plain": [
       "5"
      ]
     },
     "execution_count": 3,
     "metadata": {},
     "output_type": "execute_result"
    }
   ],
   "source": [
    "len(a)"
   ]
  },
  {
   "cell_type": "code",
   "execution_count": 4,
   "metadata": {
    "slideshow": {
     "slide_type": "fragment"
    }
   },
   "outputs": [
    {
     "data": {
      "text/plain": [
       "1"
      ]
     },
     "execution_count": 4,
     "metadata": {},
     "output_type": "execute_result"
    }
   ],
   "source": [
    "min(a)"
   ]
  },
  {
   "cell_type": "markdown",
   "metadata": {
    "slideshow": {
     "slide_type": "slide"
    }
   },
   "source": [
    "## Funktionen\n",
    "\n",
    "Python erlaubt Ihnen aber auch, selbst Funktionen zu schreiben und diese dann in Ihren Programmen anzuwenden. Sie müssen dabei vor allem darauf achten, dass Sie eine selbstgeschriebene Funktion erst nützen können, nachdem Sie diese definiert haben."
   ]
  },
  {
   "cell_type": "markdown",
   "metadata": {
    "slideshow": {
     "slide_type": "fragment"
    }
   },
   "source": [
    "Es bietet sich deshalb an, Funktionsdefinitionen entweder an den Anfang eines Programms zu setzen oder sie gleich in eine separate .py-Datei zu schreiben und diese dann am Anfang des Programms wie ein Paket zu importieren. Wenn die Datei, in der Sie Ihre eigenen Funktionen speichern, etwa *funktionen.py* heißt, importieren Sie diese mit `import funktionen`."
   ]
  },
  {
   "cell_type": "markdown",
   "metadata": {
    "slideshow": {
     "slide_type": "slide"
    }
   },
   "source": [
    "## Nutzung von Funktionen\n",
    "\n",
    "Funktionen sind sehr nützlich, um Wiederholungen im Code zu vermeiden. Anstatt bestimmte Stellen mehrmals zu wiederholen, ist es oft einfacher und effizienter, Code in eine Funktion auszulagern. Um eine Funktion möglichst vielseitig einsetzen zu können, sollte man nicht mehrere Aufgaben in einer Funktion kombinieren, sondern stattdessen unterschiedliche Funktionen schreiben."
   ]
  },
  {
   "cell_type": "markdown",
   "metadata": {
    "slideshow": {
     "slide_type": "slide"
    }
   },
   "source": [
    "## Funktionen definieren\n",
    "\n",
    "Die Definition einer Funktion beginnt wie folgt:\n",
    "\n",
    "- Das Schlüsselwort **def**.\n",
    "- Der Name der Funktion.\n",
    "- Die Parameter der Funktion in runden Klammern. Eine Funktionen muss nicht unbedingt Parameter haben, aber die Klammern werden immer benötigt.\n",
    "- Ein Doppelpunkt.\n",
    "\n",
    "Diese Elemente werden alle in eine Zeile geschrieben. In den nächsten Zeilen folgt--eingerückt--der Funktionskörper mit dem Code, den die Funktion ausführen soll. Mit `return` kann dann das Ergebnis wieder ausgegeben werden:"
   ]
  },
  {
   "cell_type": "code",
   "execution_count": 5,
   "metadata": {
    "slideshow": {
     "slide_type": "fragment"
    }
   },
   "outputs": [],
   "source": [
    "def funktionsname(parameter1, parameter2):  \n",
    "    funktionskörper"
   ]
  },
  {
   "cell_type": "markdown",
   "metadata": {
    "slideshow": {
     "slide_type": "slide"
    }
   },
   "source": [
    "## Funktionsnamen\n",
    "\n",
    "Für Funktionsnamen gelten die gleichen Regeln wie bei Variablennamen, also:\n",
    "\n",
    "- Die folgenden Zeichen sind erlaubt: Buchstaben, Zahlen, Punkt, Unterstrich\n",
    "- Funktionsnamen dürfen nicht mit einer Zahl beginnen"
   ]
  },
  {
   "cell_type": "markdown",
   "metadata": {
    "slideshow": {
     "slide_type": "slide"
    }
   },
   "source": [
    "## Beispiel"
   ]
  },
  {
   "cell_type": "code",
   "execution_count": 6,
   "metadata": {
    "slideshow": {
     "slide_type": "fragment"
    }
   },
   "outputs": [
    {
     "data": {
      "text/plain": [
       "1932"
      ]
     },
     "execution_count": 6,
     "metadata": {},
     "output_type": "execute_result"
    }
   ],
   "source": [
    "def multiplizieren(wert_a, wert_b):\n",
    "    produkt = wert_a * (wert_b + 2)\n",
    "    summe = produkt + produkt\n",
    "    return summe\n",
    "\n",
    "ergebnis = multiplizieren(wert_a = 42, wert_b = 21)\n",
    "ergebnis"
   ]
  },
  {
   "cell_type": "markdown",
   "metadata": {
    "slideshow": {
     "slide_type": "slide"
    }
   },
   "source": [
    "## Was geschieht hier?\n",
    "\n",
    "Wenn Sie die Funktion aufrufen, werden die Argumente, also die Werte, die Sie in Klammern angegeben haben (42 und 21), innerhalb der Funktion den Parametern der Funktion *a* und *b* zugewiesen. Das Produkt der beiden Zahlen wird dann der Wert der Variable *produkt*; dieser Wert wird  von der Funktion zurückgegeben, als Wert in der Variable *ergebnis* gespeichert und steht ab diesem Zeitpunkt dem Programm zur Verfügung."
   ]
  },
  {
   "cell_type": "markdown",
   "metadata": {
    "slideshow": {
     "slide_type": "fragment"
    }
   },
   "source": [
    "Was passiert, wenn Sie jetzt den Namen der Variable *summe* eingeben, um sich den Wert anzeigen zu lassen?"
   ]
  },
  {
   "cell_type": "code",
   "execution_count": 7,
   "metadata": {
    "slideshow": {
     "slide_type": "fragment"
    }
   },
   "outputs": [
    {
     "ename": "NameError",
     "evalue": "name 'summe' is not defined",
     "output_type": "error",
     "traceback": [
      "\u001b[1;31m---------------------------------------------------------------------------\u001b[0m",
      "\u001b[1;31mNameError\u001b[0m                                 Traceback (most recent call last)",
      "\u001b[1;32m<ipython-input-7-29910e83d9cd>\u001b[0m in \u001b[0;36m<module>\u001b[1;34m()\u001b[0m\n\u001b[1;32m----> 1\u001b[1;33m \u001b[0msumme\u001b[0m\u001b[1;33m\u001b[0m\u001b[0m\n\u001b[0m",
      "\u001b[1;31mNameError\u001b[0m: name 'summe' is not defined"
     ]
    }
   ],
   "source": [
    "summe"
   ]
  },
  {
   "cell_type": "markdown",
   "metadata": {
    "slideshow": {
     "slide_type": "slide"
    }
   },
   "source": [
    "## Lokale Variablen\n",
    "\n",
    "Sie sollten folgende Fehlermeldung bekommen: `name 'produkt' is not defined`\n",
    "\n",
    "Python kann die Variable *produkt* nicht finden, da sie--wie auch *produkt*, *wert_a* und *wert_b*--eine sog. *lokale Variable* (*local variable*) ist. Das heißt, dass sie nur innerhalb der Funktion `multiplizieren` existiert. Wenn Sie Zugriff auf den Wert einer Variable haben möchten, müssen Sie ihn mit **return()** wieder ausgeben. Wenn Sie mehrere Werte ausgeben möchten, können Sie eine dafür geeignete Datenstruktur verwenden (z.B. eine Liste):"
   ]
  },
  {
   "cell_type": "code",
   "execution_count": null,
   "metadata": {
    "slideshow": {
     "slide_type": "slide"
    }
   },
   "outputs": [],
   "source": [
    "def multiplizieren(wert_a, wert_b):\n",
    "    produkt = wert_a * (wert_b + 2)\n",
    "    summe = produkt + produkt\n",
    "    return (summe, produkt)\n",
    "\n",
    "ergebnis = multiplizieren(wert_a = 42, wert_b = 21)\n",
    "ergebnis"
   ]
  },
  {
   "cell_type": "markdown",
   "metadata": {
    "slideshow": {
     "slide_type": "slide"
    }
   },
   "source": [
    "## return\n",
    "\n",
    "*return* kann nicht nur zur Ergebnisausgabe genutzt werden, sondern auch zum Beenden einer Funktion. Im folgenden Beispiel wird die Funktion vorzeitig beendet, wenn eine Bedingung (eine der beiden Zahlen ist 0) zutrifft:"
   ]
  },
  {
   "cell_type": "code",
   "execution_count": null,
   "metadata": {
    "slideshow": {
     "slide_type": "fragment"
    }
   },
   "outputs": [],
   "source": [
    "def multiplizieren(wert_a, wert_b):\n",
    "    if wert_a == 0 or wert_b == 0:\n",
    "        return None\n",
    "    else:\n",
    "        produkt = wert_a * (wert_b + 2)\n",
    "        summe = produkt + produkt\n",
    "        return summe\n",
    "\n",
    "ergebnis = multiplizieren(wert_a = 42, wert_b = 0)\n",
    "ergebnis"
   ]
  },
  {
   "cell_type": "markdown",
   "metadata": {
    "slideshow": {
     "slide_type": "slide"
    }
   },
   "source": [
    "## Argumente\n",
    "\n",
    "Sehen wir uns wieder unsere ursprüngliche Funktion an:"
   ]
  },
  {
   "cell_type": "code",
   "execution_count": null,
   "metadata": {
    "slideshow": {
     "slide_type": "fragment"
    }
   },
   "outputs": [],
   "source": [
    "def multiplizieren(wert_a, wert_b):\n",
    "    produkt = wert_a * (wert_b + 2)\n",
    "    summe = produkt + produkt\n",
    "    return summe\n",
    "\n",
    "ergebnis = multiplizieren(wert_a = 42, wert_b = 21)\n",
    "ergebnis"
   ]
  },
  {
   "cell_type": "markdown",
   "metadata": {
    "slideshow": {
     "slide_type": "fragment"
    }
   },
   "source": [
    "Hier haben wir beim Aufrufen der Funktion nicht nur die Werte der Argumente angegeben, sondern auch deren Namen. Dadurch könnten wir deren Reihenfolge ändern und würden dennoch das gleiche Ergebnis bekommen."
   ]
  },
  {
   "cell_type": "code",
   "execution_count": null,
   "metadata": {
    "slideshow": {
     "slide_type": "slide"
    }
   },
   "outputs": [],
   "source": [
    "def multiplizieren(wert_a, wert_b):\n",
    "    produkt = wert_a * (wert_b + 2)\n",
    "    summe = produkt + produkt\n",
    "    return summe"
   ]
  },
  {
   "cell_type": "code",
   "execution_count": null,
   "metadata": {
    "slideshow": {
     "slide_type": "fragment"
    }
   },
   "outputs": [],
   "source": [
    "ergebnis = multiplizieren(wert_a = 42, wert_b = 21)\n",
    "ergebnis"
   ]
  },
  {
   "cell_type": "code",
   "execution_count": null,
   "metadata": {
    "slideshow": {
     "slide_type": "fragment"
    }
   },
   "outputs": [],
   "source": [
    "ergebnis = multiplizieren(wert_b = 21, wert_a = 42)\n",
    "ergebnis"
   ]
  },
  {
   "cell_type": "markdown",
   "metadata": {
    "slideshow": {
     "slide_type": "slide"
    }
   },
   "source": [
    "Wir können allerdings die Namen auch weglassen, müssen jetzt aber auf die korrekte Reihenfolge der Argumente achten:"
   ]
  },
  {
   "cell_type": "code",
   "execution_count": null,
   "metadata": {
    "slideshow": {
     "slide_type": "fragment"
    }
   },
   "outputs": [],
   "source": [
    "ergebnis = multiplizieren(42, 21)\n",
    "ergebnis"
   ]
  },
  {
   "cell_type": "code",
   "execution_count": null,
   "metadata": {
    "slideshow": {
     "slide_type": "fragment"
    }
   },
   "outputs": [],
   "source": [
    "ergebnis = multiplizieren(21, 42)\n",
    "ergebnis"
   ]
  },
  {
   "cell_type": "markdown",
   "metadata": {},
   "source": [
    "Es ist auch ö"
   ]
  },
  {
   "cell_type": "markdown",
   "metadata": {
    "slideshow": {
     "slide_type": "slide"
    }
   },
   "source": [
    "Python bietet auch die Möglichkeit, Funktionen flexibler zu gestalten, indem mehrere Argumente an einen Funktionsparameter übergeben werden können. Dazu stellt man dem betreffenden Parameter in der Parameterliste der Funktion einen Stern (**\\***) voran:"
   ]
  },
  {
   "cell_type": "code",
   "execution_count": 9,
   "metadata": {
    "slideshow": {
     "slide_type": "fragment"
    }
   },
   "outputs": [
    {
     "name": "stdout",
     "output_type": "stream",
     "text": [
      "15120\n"
     ]
    }
   ],
   "source": [
    "def multiplizieren(*zahlen):\n",
    "    b = 1\n",
    "    for x in zahlen:\n",
    "        b *= x\n",
    "    return b\n",
    "        \n",
    "ergebnis_multiplizieren = multiplizieren(5,6,7,8,9)\n",
    "print(ergebnis_multiplizieren)"
   ]
  },
  {
   "cell_type": "markdown",
   "metadata": {
    "slideshow": {
     "slide_type": "slide"
    }
   },
   "source": [
    "Im folgenden Beispiel wird noch ein zweiter Parameter eingefügt, der nur ein Argument annehmen kann.  Wenn man die Funktion aufruft, wird der erste Wert aus der Argumentenliste dem Parameter *a* zugewiesen, alle anderen gehen an *zahlen*:"
   ]
  },
  {
   "cell_type": "code",
   "execution_count": null,
   "metadata": {
    "slideshow": {
     "slide_type": "fragment"
    }
   },
   "outputs": [],
   "source": [
    "def multiplizieren_addieren(a, *zahlen):\n",
    "    b = 1\n",
    "    for x in zahlen:\n",
    "        b = b * x\n",
    "    c = b + a\n",
    "    return c\n",
    "        \n",
    "ergebnis_multiplizieren_addieren = multiplizieren_addieren(100,5,6,7,8,9)\n",
    "print(ergebnis_multiplizieren_addieren)"
   ]
  },
  {
   "cell_type": "code",
   "execution_count": null,
   "metadata": {},
   "outputs": [],
   "source": []
  }
 ],
 "metadata": {
  "celltoolbar": "Slideshow",
  "kernelspec": {
   "display_name": "Python 3",
   "language": "python",
   "name": "python3"
  },
  "language_info": {
   "codemirror_mode": {
    "name": "ipython",
    "version": 3
   },
   "file_extension": ".py",
   "mimetype": "text/x-python",
   "name": "python",
   "nbconvert_exporter": "python",
   "pygments_lexer": "ipython3",
   "version": "3.6.4"
  }
 },
 "nbformat": 4,
 "nbformat_minor": 2
}
