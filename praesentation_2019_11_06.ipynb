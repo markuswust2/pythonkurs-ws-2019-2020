{
 "cells": [
  {
   "cell_type": "markdown",
   "metadata": {
    "slideshow": {
     "slide_type": "slide"
    }
   },
   "source": [
    "# Einführung in Python"
   ]
  },
  {
   "cell_type": "markdown",
   "metadata": {
    "slideshow": {
     "slide_type": "slide"
    }
   },
   "source": [
    "## Fragen\n",
    "\n",
    "Haben Sie Fragen zur letzten Sitzung?"
   ]
  },
  {
   "cell_type": "markdown",
   "metadata": {
    "slideshow": {
     "slide_type": "slide"
    }
   },
   "source": [
    "## Erklärung zur letzten Stunde\n",
    "\n",
    "In der letzten Stunde gab es ein Problem mit den folgenden Zeilen:\n",
    "\n",
    "```\n",
    "c = [1, 2, 8, 17, 5, 4]\n",
    "a = c.sort(reverse=True)\n",
    "```\n",
    "\n",
    "Wenn Sie sich a anzeigen lassen wollten, war es leer. Warum?"
   ]
  },
  {
   "cell_type": "markdown",
   "metadata": {
    "slideshow": {
     "slide_type": "slide"
    }
   },
   "source": [
    "## Erklärung zur letzten Stunde\n",
    "\n",
    "**sort** sortiert eine Liste *in-place*, d.h., es verändert die Originalliste und gibt None als Ergebnis zurück. Deshalb war a auch leer.\n",
    "\n",
    "Wenn man die Originalliste behalten und die sortierte Liste in einer neuen Variable haben möchte, kann man **sorted()** verwenden:\n",
    "\n",
    "```\n",
    "a = sorted(c, reverse=True)\n",
    "```"
   ]
  },
  {
   "cell_type": "markdown",
   "metadata": {
    "slideshow": {
     "slide_type": "slide"
    }
   },
   "source": [
    "## Erklärung zur letzten Stunde\n",
    "\n",
    "Noch ein Punkt zur Sortierung:\n",
    "\n",
    "Geben Sie die folgende Liste in der Konsole ein und lassen sie sortieren:\n",
    "\n",
    "```\n",
    "c = [\"apfel\", \"Banane\", \"kirsche\"]\n",
    "```\n",
    "\n",
    "Welches Ergebnis bekommen Sie?"
   ]
  },
  {
   "cell_type": "markdown",
   "metadata": {
    "slideshow": {
     "slide_type": "slide"
    }
   },
   "source": [
    "## Erklärung zur letzten Stunde\n",
    "\n",
    "Sie sollten folgendes Ergebnis bekommen:\n",
    "\n",
    "```\n",
    "['Banane', 'apfel', 'kirsche']\n",
    "```\n",
    "\n",
    "In Python werden Großbuchstaben vor Kleinbuchstaben sortiert."
   ]
  },
  {
   "cell_type": "markdown",
   "metadata": {
    "slideshow": {
     "slide_type": "slide"
    }
   },
   "source": [
    "## Erklärung zur letzten Stunde\n",
    "\n",
    "Wenn Sie möchten, dass die Werte in der Liste unabhängig von Groß/Kleinschreibung sortiert werden, verwenden Sie **sorted()** mit dem Parameter **key**. Mit **key** können Sie eine Funktion wählen, die den für die Sortierung verwendeten Wert generiert. Hier ist das **str.lower**, welche alle Groß- in Kleinbuchstaben umwandelt:\n",
    "\n",
    "```\n",
    "a = sorted(c, key=str.lower)\n",
    "a\n",
    "['apfel', 'Banane', 'kirsche']\n",
    "```\n",
    "\n",
    "**key** wirkt sich hier nicht auf den in der Liste gespeicherten Wert aus, nur darauf, wie er während der Sortierung behandelt wird."
   ]
  },
  {
   "cell_type": "markdown",
   "metadata": {
    "slideshow": {
     "slide_type": "slide"
    }
   },
   "source": [
    "## Datenstrukturen: Listen\n",
    "\n",
    "Zurück zu den Listen:\n",
    "\n",
    "```\n",
    "a = ['banane', 'ananas', 'apfel', 'kirsche', 'apfel']\n",
    "```\n",
    "\n",
    "Listen gehören zu den veränderbaren, oder mutablen (*mutable*) Datentypen. Das bedeutet, dass sie nach ihrer Erzeugung verändert werden können. Im folgenden Beispiel wird das zweite Element der Liste a (\"ananas\") durch \"birne\" ersetzt."
   ]
  },
  {
   "cell_type": "code",
   "execution_count": 1,
   "metadata": {
    "slideshow": {
     "slide_type": "slide"
    }
   },
   "outputs": [
    {
     "data": {
      "text/plain": [
       "['banane', 'birne', 'apfel', 'kirsche', 'apfel']"
      ]
     },
     "execution_count": 1,
     "metadata": {},
     "output_type": "execute_result"
    }
   ],
   "source": [
    "a = ['banane', 'ananas', 'apfel', 'kirsche', 'apfel']\n",
    "a[1] = 'birne'\n",
    "a"
   ]
  },
  {
   "cell_type": "markdown",
   "metadata": {
    "slideshow": {
     "slide_type": "slide"
    }
   },
   "source": [
    "## Datenstrukturen: Listen\n",
    "\n",
    "Sie können auch mehrere Werte auf einmal ändern. Im folgenden Beispiel werden der zweite und dritte Wert der Liste durch zwei andere Werte ersetzt:"
   ]
  },
  {
   "cell_type": "code",
   "execution_count": 2,
   "metadata": {
    "slideshow": {
     "slide_type": "fragment"
    }
   },
   "outputs": [
    {
     "data": {
      "text/plain": [
       "['banane', 'erbse', 'gurke', 'kirsche', 'apfel']"
      ]
     },
     "execution_count": 2,
     "metadata": {},
     "output_type": "execute_result"
    }
   ],
   "source": [
    "a = ['banane', 'ananas', 'apfel', 'kirsche', 'apfel']\n",
    "a[1:3] = ['erbse', 'gurke']\n",
    "a"
   ]
  },
  {
   "cell_type": "markdown",
   "metadata": {
    "slideshow": {
     "slide_type": "slide"
    }
   },
   "source": [
    "## Datenstrukturen: Listen\n",
    "\n",
    "Schließlich können Sie Schrittweiten angeben, so dass nicht jeder Wert in der angebenen Spanne geändert wird, sondern immer ein, zwei, usw. Werte ausgelassen werden:"
   ]
  },
  {
   "cell_type": "code",
   "execution_count": 3,
   "metadata": {
    "slideshow": {
     "slide_type": "fragment"
    }
   },
   "outputs": [
    {
     "data": {
      "text/plain": [
       "['erbse', 'ananas', 'gurke', 'kirsche', 'tomate']"
      ]
     },
     "execution_count": 3,
     "metadata": {},
     "output_type": "execute_result"
    }
   ],
   "source": [
    "a = ['banane', 'ananas', 'apfel', 'kirsche', 'apfel']\n",
    "a[0:5:2] = ['erbse', 'gurke', 'tomate']\n",
    "a"
   ]
  },
  {
   "cell_type": "markdown",
   "metadata": {
    "slideshow": {
     "slide_type": "slide"
    }
   },
   "source": [
    "## Datenstrukturen: Listen\n",
    "\n",
    "Mit **append()** können Sie einzelne Werte an eine Liste anfügen. Falls mehrere Werte (etwa aus einer anderen Liste) dazukommen sollen, verwenden Sie **extend()**: "
   ]
  },
  {
   "cell_type": "code",
   "execution_count": 4,
   "metadata": {
    "slideshow": {
     "slide_type": "fragment"
    }
   },
   "outputs": [
    {
     "data": {
      "text/plain": [
       "['banane', 'ananas', 'apfel', 'kirsche', 'apfel', 'erbse', 'gurke', 'tomate']"
      ]
     },
     "execution_count": 4,
     "metadata": {},
     "output_type": "execute_result"
    }
   ],
   "source": [
    "a = ['banane', 'ananas', 'apfel', 'kirsche', 'apfel']\n",
    "a.append('erbse')\n",
    "a\n",
    "a.extend(['gurke', 'tomate'])\n",
    "a"
   ]
  },
  {
   "cell_type": "markdown",
   "metadata": {
    "slideshow": {
     "slide_type": "slide"
    }
   },
   "source": [
    "## Datenstrukturen: Listen\n",
    "\n",
    "Wenn Sie zwei Listen zusammenfügen möchten, können Sie das auch mit dem **+**-Operator erreichen:"
   ]
  },
  {
   "cell_type": "code",
   "execution_count": 17,
   "metadata": {
    "slideshow": {
     "slide_type": "fragment"
    }
   },
   "outputs": [
    {
     "data": {
      "text/plain": [
       "[1, 2, 3, 4]"
      ]
     },
     "execution_count": 17,
     "metadata": {},
     "output_type": "execute_result"
    }
   ],
   "source": [
    "a = [1, 2]\n",
    "b = [3, 4]\n",
    "c = a + b\n",
    "c"
   ]
  },
  {
   "cell_type": "markdown",
   "metadata": {
    "slideshow": {
     "slide_type": "slide"
    }
   },
   "source": [
    "## Datenstrukturen: Listen\n",
    "\n",
    "So wie Sie bestimmte Werte aus einer Liste auswählen können, so können Sie auch einzelne oder mehrere Werte aus einer Liste löschen:"
   ]
  },
  {
   "cell_type": "code",
   "execution_count": 5,
   "metadata": {
    "slideshow": {
     "slide_type": "slide"
    }
   },
   "outputs": [
    {
     "data": {
      "text/plain": [
       "['apfel', 'gurke']"
      ]
     },
     "execution_count": 5,
     "metadata": {},
     "output_type": "execute_result"
    }
   ],
   "source": [
    "a = ['banane', 'ananas', 'apfel', 'kirsche', 'apfel', 'erbse', 'gurke', 'tomate']\n",
    "del a[0] # Löscht ersten Wert. a hat jetzt 7 Werte.\n",
    "del a[1:3] # Löscht zweiten und dritten Wert. a hat jetzt 5 Werte.\n",
    "del a[0:5:2] # Löscht ersten, dritten, fünften usw. Wert. a hat jetzt 2 Werte.\n",
    "a"
   ]
  },
  {
   "cell_type": "markdown",
   "metadata": {
    "slideshow": {
     "slide_type": "slide"
    }
   },
   "source": [
    "## And now to something (not) completely different...\n",
    "\n"
   ]
  },
  {
   "cell_type": "markdown",
   "metadata": {
    "slideshow": {
     "slide_type": "slide"
    }
   },
   "source": [
    "## Datenstrukturen: Tuples\n",
    "\n",
    "Im Vergleich zu Listen haben Tuples zwar eine ähnliche Struktur, bieten aber weniger Flexibilität, da sie unveränderbar (immutabel, *immutable*) sind. Tuples werden mit runden Klammern erzeugt. Werte in einem Tuple können wieder über ihre Indexwerte adressiert werden:"
   ]
  },
  {
   "cell_type": "code",
   "execution_count": 6,
   "metadata": {
    "slideshow": {
     "slide_type": "slide"
    }
   },
   "outputs": [
    {
     "data": {
      "text/plain": [
       "'banane'"
      ]
     },
     "execution_count": 6,
     "metadata": {},
     "output_type": "execute_result"
    }
   ],
   "source": [
    "a = ('banane', 'ananas', 'apfel', 'kirsche', 'apfel')\n",
    "a[0]"
   ]
  },
  {
   "cell_type": "code",
   "execution_count": 7,
   "metadata": {
    "slideshow": {
     "slide_type": "fragment"
    }
   },
   "outputs": [
    {
     "data": {
      "text/plain": [
       "('banane', 'ananas', 'apfel')"
      ]
     },
     "execution_count": 7,
     "metadata": {},
     "output_type": "execute_result"
    }
   ],
   "source": [
    "a[0:3]"
   ]
  },
  {
   "cell_type": "code",
   "execution_count": 8,
   "metadata": {
    "slideshow": {
     "slide_type": "fragment"
    }
   },
   "outputs": [
    {
     "data": {
      "text/plain": [
       "('banane', 'apfel', 'apfel')"
      ]
     },
     "execution_count": 8,
     "metadata": {},
     "output_type": "execute_result"
    }
   ],
   "source": [
    "a[0:5:2]"
   ]
  },
  {
   "cell_type": "markdown",
   "metadata": {
    "slideshow": {
     "slide_type": "slide"
    }
   },
   "source": [
    "## Datenstrukturen: Tuples\n",
    "\n",
    "Was passiert, wenn Sie versuchen, einen Wert aus dem Tuple zu löschen?"
   ]
  },
  {
   "cell_type": "code",
   "execution_count": 9,
   "metadata": {
    "slideshow": {
     "slide_type": "slide"
    }
   },
   "outputs": [
    {
     "ename": "TypeError",
     "evalue": "'tuple' object doesn't support item deletion",
     "output_type": "error",
     "traceback": [
      "\u001b[1;31m---------------------------------------------------------------------------\u001b[0m",
      "\u001b[1;31mTypeError\u001b[0m                                 Traceback (most recent call last)",
      "\u001b[1;32m<ipython-input-9-c47830f0ae67>\u001b[0m in \u001b[0;36m<module>\u001b[1;34m\u001b[0m\n\u001b[1;32m----> 1\u001b[1;33m \u001b[1;32mdel\u001b[0m \u001b[0ma\u001b[0m\u001b[1;33m[\u001b[0m\u001b[1;36m0\u001b[0m\u001b[1;33m]\u001b[0m\u001b[1;33m\u001b[0m\u001b[1;33m\u001b[0m\u001b[0m\n\u001b[0m",
      "\u001b[1;31mTypeError\u001b[0m: 'tuple' object doesn't support item deletion"
     ]
    }
   ],
   "source": [
    "del a[0]"
   ]
  },
  {
   "cell_type": "markdown",
   "metadata": {
    "slideshow": {
     "slide_type": "slide"
    }
   },
   "source": [
    "## Datenstrukturen: Tuples\n",
    "\n",
    "Operationen, welche ein Tuple verändern würden, führen zu Fehlermeldungen. "
   ]
  },
  {
   "cell_type": "markdown",
   "metadata": {
    "slideshow": {
     "slide_type": "slide"
    }
   },
   "source": [
    "## Datenstrukturen: Tuples\n",
    "\n",
    "Bei der Erzeugung eines Tuples können Sie die runden Klammern auch weglassen:"
   ]
  },
  {
   "cell_type": "code",
   "execution_count": 15,
   "metadata": {
    "slideshow": {
     "slide_type": "fragment"
    }
   },
   "outputs": [],
   "source": [
    "person = 'karl', 'theodor', 'mustermann'"
   ]
  },
  {
   "cell_type": "markdown",
   "metadata": {
    "slideshow": {
     "slide_type": "fragment"
    }
   },
   "source": [
    "Dieser Vorgang heißt *Tuple Packing*. Beim *Tuple Unpacking* können Sie dann jeden der Werte im Tuple einer Variablen zuweisen und so direkt aufrufen."
   ]
  },
  {
   "cell_type": "code",
   "execution_count": 13,
   "metadata": {
    "slideshow": {
     "slide_type": "fragment"
    }
   },
   "outputs": [],
   "source": [
    "vorname, patenname, nachname = person"
   ]
  },
  {
   "cell_type": "code",
   "execution_count": 14,
   "metadata": {
    "slideshow": {
     "slide_type": "fragment"
    }
   },
   "outputs": [
    {
     "data": {
      "text/plain": [
       "'karl'"
      ]
     },
     "execution_count": 14,
     "metadata": {},
     "output_type": "execute_result"
    }
   ],
   "source": [
    "vorname"
   ]
  },
  {
   "cell_type": "markdown",
   "metadata": {
    "slideshow": {
     "slide_type": "slide"
    }
   },
   "source": [
    "## Ein kleiner Exkurs: String-Formatierung\n",
    "\n",
    "Wenn Sie Werte, die Sie etwa in einer Liste oder einem Tuple gespeichert haben, zu einem Satz zusammenfügen wollen, steht Ihnen die **join()**-Funktion zur Verfügung:"
   ]
  },
  {
   "cell_type": "code",
   "execution_count": null,
   "metadata": {
    "slideshow": {
     "slide_type": "fragment"
    }
   },
   "outputs": [],
   "source": [
    "a = ['Das', 'ist', 'ein', 'Satz']\n",
    "b = \" \".join(a)\n",
    "b"
   ]
  },
  {
   "cell_type": "markdown",
   "metadata": {
    "slideshow": {
     "slide_type": "fragment"
    }
   },
   "source": [
    "Wenn Sie kein Trennzeichen angeben, werden die Werte ohne Unterbrechung zusammengesetzt:"
   ]
  },
  {
   "cell_type": "code",
   "execution_count": 3,
   "metadata": {
    "slideshow": {
     "slide_type": "fragment"
    }
   },
   "outputs": [
    {
     "data": {
      "text/plain": [
       "'https://www.uni-tuebingen.de'"
      ]
     },
     "execution_count": 3,
     "metadata": {},
     "output_type": "execute_result"
    }
   ],
   "source": [
    "a = ['https://', 'www', '.', 'uni-tuebingen', '.', 'de']\n",
    "b = \"\".join(a)\n",
    "b"
   ]
  },
  {
   "cell_type": "markdown",
   "metadata": {
    "slideshow": {
     "slide_type": "slide"
    }
   },
   "source": [
    "## String-Formatierung\n",
    "\n",
    "Bei der Ausgabe von Werten kann man diese in strings einfügen, wie z.B. Sätze. Dazu bietet Python die **format()**-Funktion an. Dabei werden geschweifte Klammern {} als Platzhalter eingesetzt, die dann durch die Werte ersetzt werden:"
   ]
  },
  {
   "cell_type": "code",
   "execution_count": 4,
   "metadata": {
    "slideshow": {
     "slide_type": "fragment"
    }
   },
   "outputs": [
    {
     "data": {
      "text/plain": [
       "'Heute ist Mittwoch, der 6.11.2019'"
      ]
     },
     "execution_count": 4,
     "metadata": {},
     "output_type": "execute_result"
    }
   ],
   "source": [
    "\"Heute ist {}, der {}.{}.{}\".format(\"Mittwoch\", 6, 11, 2019)"
   ]
  },
  {
   "cell_type": "markdown",
   "metadata": {
    "slideshow": {
     "slide_type": "slide"
    }
   },
   "source": [
    "## String-Formatierung\n",
    "\n",
    "Die Reihenfolge, in der die Werte dabei eingesetzt werden, richtet sich dabei erst einmal danach, wie sie an **format()** übergeben wurden. Sie können jedem Platzhalter auch einen Namen geben und die Werte dann dadurch adressieren:"
   ]
  },
  {
   "cell_type": "code",
   "execution_count": 5,
   "metadata": {
    "slideshow": {
     "slide_type": "fragment"
    }
   },
   "outputs": [
    {
     "data": {
      "text/plain": [
       "'Heute ist Mittwoch, der 6.11.2019'"
      ]
     },
     "execution_count": 5,
     "metadata": {},
     "output_type": "execute_result"
    }
   ],
   "source": [
    "\"Heute ist {wochentag}, der {tag}.{monat}.{jahr}\".format(wochentag=\"Mittwoch\", tag=6, monat=11, jahr=2019)"
   ]
  },
  {
   "cell_type": "markdown",
   "metadata": {
    "slideshow": {
     "slide_type": "slide"
    }
   },
   "source": [
    "## String-Formatierung\n",
    "\n",
    "Soll das Ergebnis selbst geschweifte Klammern enthalten, verwenden Sie doppelte Klammern:"
   ]
  },
  {
   "cell_type": "code",
   "execution_count": 7,
   "metadata": {
    "slideshow": {
     "slide_type": "fragment"
    }
   },
   "outputs": [
    {
     "data": {
      "text/plain": [
       "'Das ist eine geschweifte Klammer{} und das ist eine runde Klammer().'"
      ]
     },
     "execution_count": 7,
     "metadata": {},
     "output_type": "execute_result"
    }
   ],
   "source": [
    "\"Das ist eine {g} {k}{{}} und das ist eine {r} {k}().\".format(g=\"geschweifte\", r=\"runde\", k=\"Klammer\")"
   ]
  },
  {
   "cell_type": "markdown",
   "metadata": {
    "slideshow": {
     "slide_type": "fragment"
    }
   },
   "source": [
    "Wie Sie sehen, kann ein Platzhalter auch mehrere Male verwendet werden, wenn Sie ihm einen Namen zugewiesen haben."
   ]
  },
  {
   "cell_type": "markdown",
   "metadata": {
    "slideshow": {
     "slide_type": "slide"
    }
   },
   "source": [
    "## String-Formatierung\n",
    "\n",
    "Wenn Sie einen der eingefügten Werte noch ändern müssen (etwa eine Zahl runden), kann dies als Teil des Formatierungsprozesses geschehen. Hier etwa wird eine Zahl (mit Typ *float*) mit fünf Nachkommastellen auf zwei Nachkommastellen gerundet, um einen Eurobetrag angeben zu können:"
   ]
  },
  {
   "cell_type": "code",
   "execution_count": 8,
   "metadata": {
    "slideshow": {
     "slide_type": "fragment"
    }
   },
   "outputs": [
    {
     "data": {
      "text/plain": [
       "'Die durchschnittlichen Kosten betrugen 36.86 Euro'"
      ]
     },
     "execution_count": 8,
     "metadata": {},
     "output_type": "execute_result"
    }
   ],
   "source": [
    "a = 36.85739\n",
    "\"Die durchschnittlichen Kosten betrugen {:.2f} Euro.\".format(a)"
   ]
  },
  {
   "cell_type": "markdown",
   "metadata": {
    "slideshow": {
     "slide_type": "slide"
    }
   },
   "source": [
    "## String-Formatierung\n",
    "\n",
    "Um zu den Datenstrukturen zurückzukommen: Sie können auch Werte aus Listen und Tuples in *strings* eingefügt werden."
   ]
  },
  {
   "cell_type": "markdown",
   "metadata": {
    "slideshow": {
     "slide_type": "slide"
    }
   },
   "source": [
    "# Als nächstes\n",
    "\n",
    "- Formatierung von Strings. S. 189 mit format() funktion\n",
    "- Kann dabei auch Elemente einer Liste oder eines Tuples einschließen -> S. 191 unten\n",
    "\n",
    "- Dictionaries: S. 207\n",
    "\n",
    "- set: https://www.python-kurs.eu/sets_mengen.php"
   ]
  }
 ],
 "metadata": {
  "celltoolbar": "Slideshow",
  "kernelspec": {
   "display_name": "Python 3",
   "language": "python",
   "name": "python3"
  },
  "language_info": {
   "codemirror_mode": {
    "name": "ipython",
    "version": 3
   },
   "file_extension": ".py",
   "mimetype": "text/x-python",
   "name": "python",
   "nbconvert_exporter": "python",
   "pygments_lexer": "ipython3",
   "version": "3.7.3"
  }
 },
 "nbformat": 4,
 "nbformat_minor": 2
}
