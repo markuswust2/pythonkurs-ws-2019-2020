{
 "cells": [
  {
   "cell_type": "code",
   "execution_count": 1,
   "metadata": {
    "slideshow": {
     "slide_type": "skip"
    }
   },
   "outputs": [
    {
     "data": {
      "text/html": [
       "<style>\n",
       "td {\n",
       "    font-size: 20px;\n",
       "}\n",
       "thead th {\n",
       "    font-size: 20px;\n",
       "}\n",
       "</style>\n"
      ],
      "text/plain": [
       "<IPython.core.display.HTML object>"
      ]
     },
     "metadata": {},
     "output_type": "display_data"
    }
   ],
   "source": [
    "%%html\n",
    "<style>\n",
    "td {\n",
    "    font-size: 20px;\n",
    "}\n",
    "thead th {\n",
    "    font-size: 20px;\n",
    "}\n",
    "</style>"
   ]
  },
  {
   "cell_type": "markdown",
   "metadata": {
    "slideshow": {
     "slide_type": "slide"
    }
   },
   "source": [
    "## Datentabelle: *pandas*\n",
    "\n",
    "Wir werden uns als nächstes mit Datentabellen (*DataFrames*) befassen. Es gibt verschiedene Pakete, welche ähnliche Datenstrukturen bereitstellen; wir werden *pandas* verwenden. Da es nicht zur \"Grundausstattung\" von Python gehört, müssen Sie es erst installieren (was bei einer Pythoninstallation mit Anaconda gleich mitgeschieht) und dann am Anfang Ihres Programms importieren:"
   ]
  },
  {
   "cell_type": "code",
   "execution_count": 2,
   "metadata": {
    "slideshow": {
     "slide_type": "fragment"
    }
   },
   "outputs": [],
   "source": [
    "import pandas as pd"
   ]
  },
  {
   "cell_type": "markdown",
   "metadata": {
    "slideshow": {
     "slide_type": "fragment"
    }
   },
   "source": [
    "Datentabellen ähneln in ihrer Struktur Exceltabellen: Daten sind zweidimensional organisiert, eine Zeile für jeden Fall und eine Spalte für jede Variable."
   ]
  },
  {
   "cell_type": "markdown",
   "metadata": {
    "slideshow": {
     "slide_type": "slide"
    }
   },
   "source": [
    "## Datentabellen\n",
    "\n",
    "Datentabellen können auf verschiedene Weisen generiert werden. Eine häufig genutzte Möglichkeit besteht darin, ein Dictionary, welches mehrere Listen gleicher Länge enthält, zu einem Dataframe zu konvertieren:"
   ]
  },
  {
   "cell_type": "code",
   "execution_count": 3,
   "metadata": {
    "slideshow": {
     "slide_type": "fragment"
    }
   },
   "outputs": [],
   "source": [
    "daten1 = {'stadt': ['Berlin', 'Hamburg', 'München'],\n",
    "        'bundesland': ['Berlin', 'Hamburg', 'Bayern'],\n",
    "        'einwohnerzahl': [3520031,1787408,1450381]}\n",
    "df1 = pd.DataFrame(daten1)"
   ]
  },
  {
   "cell_type": "code",
   "execution_count": 4,
   "metadata": {
    "slideshow": {
     "slide_type": "slide"
    }
   },
   "outputs": [
    {
     "data": {
      "text/html": [
       "<div>\n",
       "<style scoped>\n",
       "    .dataframe tbody tr th:only-of-type {\n",
       "        vertical-align: middle;\n",
       "    }\n",
       "\n",
       "    .dataframe tbody tr th {\n",
       "        vertical-align: top;\n",
       "    }\n",
       "\n",
       "    .dataframe thead th {\n",
       "        text-align: right;\n",
       "    }\n",
       "</style>\n",
       "<table border=\"1\" class=\"dataframe\">\n",
       "  <thead>\n",
       "    <tr style=\"text-align: right;\">\n",
       "      <th></th>\n",
       "      <th>stadt</th>\n",
       "      <th>bundesland</th>\n",
       "      <th>einwohnerzahl</th>\n",
       "    </tr>\n",
       "  </thead>\n",
       "  <tbody>\n",
       "    <tr>\n",
       "      <th>0</th>\n",
       "      <td>Berlin</td>\n",
       "      <td>Berlin</td>\n",
       "      <td>3520031</td>\n",
       "    </tr>\n",
       "    <tr>\n",
       "      <th>1</th>\n",
       "      <td>Hamburg</td>\n",
       "      <td>Hamburg</td>\n",
       "      <td>1787408</td>\n",
       "    </tr>\n",
       "    <tr>\n",
       "      <th>2</th>\n",
       "      <td>München</td>\n",
       "      <td>Bayern</td>\n",
       "      <td>1450381</td>\n",
       "    </tr>\n",
       "  </tbody>\n",
       "</table>\n",
       "</div>"
      ],
      "text/plain": [
       "     stadt bundesland  einwohnerzahl\n",
       "0   Berlin     Berlin        3520031\n",
       "1  Hamburg    Hamburg        1787408\n",
       "2  München     Bayern        1450381"
      ]
     },
     "execution_count": 4,
     "metadata": {},
     "output_type": "execute_result"
    }
   ],
   "source": [
    "df1"
   ]
  },
  {
   "cell_type": "markdown",
   "metadata": {
    "slideshow": {
     "slide_type": "slide"
    }
   },
   "source": [
    "## Datentabellen: Einzelne Reihen hinzufügen\n",
    "\n",
    "Sie können jederzeit neue Reihen hinzufügen. Hier kommt eine neue Stadt hinzu. Beachten Sie den Parameter **ignore_index**. Die hinzuzufügende Zeile wird als eine *series* interpretiert, ein eindimensionaler Datentyp, der auch durch *pandas* implementiert wird und bei dem jeder Wert mit einem Indexwert verknüpft wird. Durch den Parameter wird der Indexwert der *series* ignoriert:"
   ]
  },
  {
   "cell_type": "code",
   "execution_count": 5,
   "metadata": {
    "slideshow": {
     "slide_type": "fragment"
    }
   },
   "outputs": [],
   "source": [
    "daten2 = {'stadt': 'Köln', 'bundesland': 'Nordrhein-Westfalen', 'einwohnerzahl': 1060582}\n",
    "df1 = df1.append(daten2, ignore_index=True)"
   ]
  },
  {
   "cell_type": "code",
   "execution_count": 6,
   "metadata": {
    "slideshow": {
     "slide_type": "slide"
    }
   },
   "outputs": [
    {
     "data": {
      "text/html": [
       "<div>\n",
       "<style scoped>\n",
       "    .dataframe tbody tr th:only-of-type {\n",
       "        vertical-align: middle;\n",
       "    }\n",
       "\n",
       "    .dataframe tbody tr th {\n",
       "        vertical-align: top;\n",
       "    }\n",
       "\n",
       "    .dataframe thead th {\n",
       "        text-align: right;\n",
       "    }\n",
       "</style>\n",
       "<table border=\"1\" class=\"dataframe\">\n",
       "  <thead>\n",
       "    <tr style=\"text-align: right;\">\n",
       "      <th></th>\n",
       "      <th>stadt</th>\n",
       "      <th>bundesland</th>\n",
       "      <th>einwohnerzahl</th>\n",
       "    </tr>\n",
       "  </thead>\n",
       "  <tbody>\n",
       "    <tr>\n",
       "      <th>0</th>\n",
       "      <td>Berlin</td>\n",
       "      <td>Berlin</td>\n",
       "      <td>3520031</td>\n",
       "    </tr>\n",
       "    <tr>\n",
       "      <th>1</th>\n",
       "      <td>Hamburg</td>\n",
       "      <td>Hamburg</td>\n",
       "      <td>1787408</td>\n",
       "    </tr>\n",
       "    <tr>\n",
       "      <th>2</th>\n",
       "      <td>München</td>\n",
       "      <td>Bayern</td>\n",
       "      <td>1450381</td>\n",
       "    </tr>\n",
       "    <tr>\n",
       "      <th>3</th>\n",
       "      <td>Köln</td>\n",
       "      <td>Nordrhein-Westfalen</td>\n",
       "      <td>1060582</td>\n",
       "    </tr>\n",
       "  </tbody>\n",
       "</table>\n",
       "</div>"
      ],
      "text/plain": [
       "     stadt           bundesland  einwohnerzahl\n",
       "0   Berlin               Berlin        3520031\n",
       "1  Hamburg              Hamburg        1787408\n",
       "2  München               Bayern        1450381\n",
       "3     Köln  Nordrhein-Westfalen        1060582"
      ]
     },
     "execution_count": 6,
     "metadata": {},
     "output_type": "execute_result"
    }
   ],
   "source": [
    "df1"
   ]
  },
  {
   "cell_type": "markdown",
   "metadata": {
    "slideshow": {
     "slide_type": "slide"
    }
   },
   "source": [
    "## Datentabellen: Mehrere Reihen hinzufügen\n",
    "\n",
    "Wenn Sie mehrere Reihen hinzufügen möchten, können Sie diese zuerst in eine Datentabelle umwandeln und dann mit **append** ans Ende hängen:"
   ]
  },
  {
   "cell_type": "code",
   "execution_count": 7,
   "metadata": {
    "slideshow": {
     "slide_type": "fragment"
    }
   },
   "outputs": [],
   "source": [
    "daten3 = {'stadt': ['Frankfurt', 'Stuttgart'],\n",
    "        'bundesland': ['Hessen', 'Baden-Württemberg'],\n",
    "        'einwohnerzahl': [732688,623738]}\n",
    "\n",
    "df2 = pd.DataFrame(daten3)\n",
    "df1 = df1.append(df2, ignore_index=True)"
   ]
  },
  {
   "cell_type": "code",
   "execution_count": 8,
   "metadata": {
    "slideshow": {
     "slide_type": "slide"
    }
   },
   "outputs": [
    {
     "data": {
      "text/html": [
       "<div>\n",
       "<style scoped>\n",
       "    .dataframe tbody tr th:only-of-type {\n",
       "        vertical-align: middle;\n",
       "    }\n",
       "\n",
       "    .dataframe tbody tr th {\n",
       "        vertical-align: top;\n",
       "    }\n",
       "\n",
       "    .dataframe thead th {\n",
       "        text-align: right;\n",
       "    }\n",
       "</style>\n",
       "<table border=\"1\" class=\"dataframe\">\n",
       "  <thead>\n",
       "    <tr style=\"text-align: right;\">\n",
       "      <th></th>\n",
       "      <th>stadt</th>\n",
       "      <th>bundesland</th>\n",
       "      <th>einwohnerzahl</th>\n",
       "    </tr>\n",
       "  </thead>\n",
       "  <tbody>\n",
       "    <tr>\n",
       "      <th>0</th>\n",
       "      <td>Berlin</td>\n",
       "      <td>Berlin</td>\n",
       "      <td>3520031</td>\n",
       "    </tr>\n",
       "    <tr>\n",
       "      <th>1</th>\n",
       "      <td>Hamburg</td>\n",
       "      <td>Hamburg</td>\n",
       "      <td>1787408</td>\n",
       "    </tr>\n",
       "    <tr>\n",
       "      <th>2</th>\n",
       "      <td>München</td>\n",
       "      <td>Bayern</td>\n",
       "      <td>1450381</td>\n",
       "    </tr>\n",
       "    <tr>\n",
       "      <th>3</th>\n",
       "      <td>Köln</td>\n",
       "      <td>Nordrhein-Westfalen</td>\n",
       "      <td>1060582</td>\n",
       "    </tr>\n",
       "    <tr>\n",
       "      <th>4</th>\n",
       "      <td>Frankfurt</td>\n",
       "      <td>Hessen</td>\n",
       "      <td>732688</td>\n",
       "    </tr>\n",
       "    <tr>\n",
       "      <th>5</th>\n",
       "      <td>Stuttgart</td>\n",
       "      <td>Baden-Württemberg</td>\n",
       "      <td>623738</td>\n",
       "    </tr>\n",
       "  </tbody>\n",
       "</table>\n",
       "</div>"
      ],
      "text/plain": [
       "       stadt           bundesland  einwohnerzahl\n",
       "0     Berlin               Berlin        3520031\n",
       "1    Hamburg              Hamburg        1787408\n",
       "2    München               Bayern        1450381\n",
       "3       Köln  Nordrhein-Westfalen        1060582\n",
       "4  Frankfurt               Hessen         732688\n",
       "5  Stuttgart    Baden-Württemberg         623738"
      ]
     },
     "execution_count": 8,
     "metadata": {},
     "output_type": "execute_result"
    }
   ],
   "source": [
    "df1"
   ]
  },
  {
   "cell_type": "markdown",
   "metadata": {
    "slideshow": {
     "slide_type": "slide"
    }
   },
   "source": [
    "## Datentabelle: Daten laden\n",
    "\n",
    "Sie können mit Pandas auch Daten aus einer externen Datei in eine Datentabelle laden. Dazu bietet Pandas verschiedene Methoden an, welche unterschiedliche Datenformate laden können (z.B. Excel, JSON, SAS, Stata). Hier verwenden wir die **read_csv**-Funktion. Diese lädt normalerweise Textdateien mit *comma-separated values*, d.h., Dateien, in denen die Werte der einzelnen Spalten durch Kommas voneinander getrennt werden. Man kann aber mit dem **sep**-Parameter aber auch ein anderes Zeichen auswählen; im Beispiel ist das ein Tabulatorzeichen. Bitte beachten Sie dass der Dateipfad von Computer zu Computer unterschiedlich sein kann:"
   ]
  },
  {
   "cell_type": "code",
   "execution_count": 9,
   "metadata": {
    "slideshow": {
     "slide_type": "slide"
    }
   },
   "outputs": [],
   "source": [
    " df2 = pd.read_csv(\"C:/Users/marku/Desktop/python_winter_2019_2020/wm_2019_spielerinnen.txt\", sep=\"\\t\")"
   ]
  },
  {
   "cell_type": "code",
   "execution_count": 10,
   "metadata": {
    "scrolled": true,
    "slideshow": {
     "slide_type": "slide"
    }
   },
   "outputs": [
    {
     "data": {
      "text/html": [
       "<div>\n",
       "<style scoped>\n",
       "    .dataframe tbody tr th:only-of-type {\n",
       "        vertical-align: middle;\n",
       "    }\n",
       "\n",
       "    .dataframe tbody tr th {\n",
       "        vertical-align: top;\n",
       "    }\n",
       "\n",
       "    .dataframe thead th {\n",
       "        text-align: right;\n",
       "    }\n",
       "</style>\n",
       "<table border=\"1\" class=\"dataframe\">\n",
       "  <thead>\n",
       "    <tr style=\"text-align: right;\">\n",
       "      <th></th>\n",
       "      <th>Name</th>\n",
       "      <th>Mannschaft</th>\n",
       "      <th>Geburtsjahr</th>\n",
       "      <th>Groesse</th>\n",
       "      <th>Position</th>\n",
       "    </tr>\n",
       "  </thead>\n",
       "  <tbody>\n",
       "    <tr>\n",
       "      <th>0</th>\n",
       "      <td>Javiera Grez</td>\n",
       "      <td>Chile</td>\n",
       "      <td>2000</td>\n",
       "      <td>148</td>\n",
       "      <td>Stürmer</td>\n",
       "    </tr>\n",
       "    <tr>\n",
       "      <th>1</th>\n",
       "      <td>Orathai Srimanee</td>\n",
       "      <td>Thailand</td>\n",
       "      <td>1988</td>\n",
       "      <td>151</td>\n",
       "      <td>Stürmer</td>\n",
       "    </tr>\n",
       "    <tr>\n",
       "      <th>2</th>\n",
       "      <td>Maria Jose Rojas</td>\n",
       "      <td>Chile</td>\n",
       "      <td>1987</td>\n",
       "      <td>153</td>\n",
       "      <td>Stürmer</td>\n",
       "    </tr>\n",
       "    <tr>\n",
       "      <th>3</th>\n",
       "      <td>Gabrielle Aboudi Onguene</td>\n",
       "      <td>Kamerun</td>\n",
       "      <td>1989</td>\n",
       "      <td>153</td>\n",
       "      <td>Stürmer</td>\n",
       "    </tr>\n",
       "    <tr>\n",
       "      <th>4</th>\n",
       "      <td>Warunee Phetwiset</td>\n",
       "      <td>Thailand</td>\n",
       "      <td>1990</td>\n",
       "      <td>153</td>\n",
       "      <td>Abwehr</td>\n",
       "    </tr>\n",
       "    <tr>\n",
       "      <th>5</th>\n",
       "      <td>Yuka Momiki</td>\n",
       "      <td>Japan</td>\n",
       "      <td>1996</td>\n",
       "      <td>153</td>\n",
       "      <td>Mittelfeld</td>\n",
       "    </tr>\n",
       "    <tr>\n",
       "      <th>6</th>\n",
       "      <td>Rhoda Mulaudzi</td>\n",
       "      <td>Südafrika</td>\n",
       "      <td>1989</td>\n",
       "      <td>154</td>\n",
       "      <td>Stürmer</td>\n",
       "    </tr>\n",
       "    <tr>\n",
       "      <th>7</th>\n",
       "      <td>Katrina Gorry</td>\n",
       "      <td>Australien</td>\n",
       "      <td>1992</td>\n",
       "      <td>154</td>\n",
       "      <td>Mittelfeld</td>\n",
       "    </tr>\n",
       "    <tr>\n",
       "      <th>8</th>\n",
       "      <td>Yanara Aedo</td>\n",
       "      <td>Chile</td>\n",
       "      <td>1993</td>\n",
       "      <td>154</td>\n",
       "      <td>Stürmer</td>\n",
       "    </tr>\n",
       "    <tr>\n",
       "      <th>9</th>\n",
       "      <td>Manuela Giugliano</td>\n",
       "      <td>Italien</td>\n",
       "      <td>1997</td>\n",
       "      <td>154</td>\n",
       "      <td>Mittelfeld</td>\n",
       "    </tr>\n",
       "    <tr>\n",
       "      <th>10</th>\n",
       "      <td>Dalila Ippolito</td>\n",
       "      <td>Argentinien</td>\n",
       "      <td>2002</td>\n",
       "      <td>155</td>\n",
       "      <td>Mittelfeld</td>\n",
       "    </tr>\n",
       "    <tr>\n",
       "      <th>11</th>\n",
       "      <td>Lebohang Ramalepe</td>\n",
       "      <td>Südafrika</td>\n",
       "      <td>1991</td>\n",
       "      <td>155</td>\n",
       "      <td>Abwehr</td>\n",
       "    </tr>\n",
       "    <tr>\n",
       "      <th>12</th>\n",
       "      <td>Yessenia Huenteo</td>\n",
       "      <td>Chile</td>\n",
       "      <td>1992</td>\n",
       "      <td>155</td>\n",
       "      <td>Stürmer</td>\n",
       "    </tr>\n",
       "    <tr>\n",
       "      <th>13</th>\n",
       "      <td>Kumi Yokoyama</td>\n",
       "      <td>Japan</td>\n",
       "      <td>1993</td>\n",
       "      <td>155</td>\n",
       "      <td>Stürmer</td>\n",
       "    </tr>\n",
       "    <tr>\n",
       "      <th>14</th>\n",
       "      <td>So-dam Lee</td>\n",
       "      <td>Südkorea</td>\n",
       "      <td>1994</td>\n",
       "      <td>155</td>\n",
       "      <td>Mittelfeld</td>\n",
       "    </tr>\n",
       "    <tr>\n",
       "      <th>15</th>\n",
       "      <td>Orapin Waenngoen</td>\n",
       "      <td>Thailand</td>\n",
       "      <td>1995</td>\n",
       "      <td>155</td>\n",
       "      <td>Mittelfeld</td>\n",
       "    </tr>\n",
       "    <tr>\n",
       "      <th>16</th>\n",
       "      <td>Valentina Diaz</td>\n",
       "      <td>Chile</td>\n",
       "      <td>2001</td>\n",
       "      <td>156</td>\n",
       "      <td>Abwehr</td>\n",
       "    </tr>\n",
       "    <tr>\n",
       "      <th>17</th>\n",
       "      <td>Sibuelele Holweni</td>\n",
       "      <td>Südafrika</td>\n",
       "      <td>2001</td>\n",
       "      <td>156</td>\n",
       "      <td>Mittelfeld</td>\n",
       "    </tr>\n",
       "    <tr>\n",
       "      <th>18</th>\n",
       "      <td>Lisa De Vanna</td>\n",
       "      <td>Australien</td>\n",
       "      <td>1984</td>\n",
       "      <td>156</td>\n",
       "      <td>Stürmer</td>\n",
       "    </tr>\n",
       "    <tr>\n",
       "      <th>19</th>\n",
       "      <td>Christine Manie</td>\n",
       "      <td>Kamerun</td>\n",
       "      <td>1984</td>\n",
       "      <td>156</td>\n",
       "      <td>Abwehr</td>\n",
       "    </tr>\n",
       "    <tr>\n",
       "      <th>20</th>\n",
       "      <td>Christie Murray</td>\n",
       "      <td>Schottland</td>\n",
       "      <td>1990</td>\n",
       "      <td>156</td>\n",
       "      <td>Stürmer</td>\n",
       "    </tr>\n",
       "    <tr>\n",
       "      <th>21</th>\n",
       "      <td>Mana Iwabuchi</td>\n",
       "      <td>Japan</td>\n",
       "      <td>1993</td>\n",
       "      <td>156</td>\n",
       "      <td>Stürmer</td>\n",
       "    </tr>\n",
       "    <tr>\n",
       "      <th>22</th>\n",
       "      <td>Thembi Kgatlana</td>\n",
       "      <td>Südafrika</td>\n",
       "      <td>1996</td>\n",
       "      <td>156</td>\n",
       "      <td>Mittelfeld</td>\n",
       "    </tr>\n",
       "    <tr>\n",
       "      <th>23</th>\n",
       "      <td>Yui Hasegawa</td>\n",
       "      <td>Japan</td>\n",
       "      <td>1997</td>\n",
       "      <td>156</td>\n",
       "      <td>Mittelfeld</td>\n",
       "    </tr>\n",
       "    <tr>\n",
       "      <th>24</th>\n",
       "      <td>Narumi Miura</td>\n",
       "      <td>Japan</td>\n",
       "      <td>1997</td>\n",
       "      <td>156</td>\n",
       "      <td>Mittelfeld</td>\n",
       "    </tr>\n",
       "    <tr>\n",
       "      <th>25</th>\n",
       "      <td>Lorena Benitez</td>\n",
       "      <td>Argentinien</td>\n",
       "      <td>1998</td>\n",
       "      <td>156</td>\n",
       "      <td>Mittelfeld</td>\n",
       "    </tr>\n",
       "    <tr>\n",
       "      <th>26</th>\n",
       "      <td>Wilaiporn Boothduang</td>\n",
       "      <td>Thailand</td>\n",
       "      <td>1987</td>\n",
       "      <td>157</td>\n",
       "      <td>Mittelfeld</td>\n",
       "    </tr>\n",
       "    <tr>\n",
       "      <th>27</th>\n",
       "      <td>Sarah Gregorius</td>\n",
       "      <td>Neuseeland</td>\n",
       "      <td>1987</td>\n",
       "      <td>157</td>\n",
       "      <td>Stürmer</td>\n",
       "    </tr>\n",
       "    <tr>\n",
       "      <th>28</th>\n",
       "      <td>Debinha</td>\n",
       "      <td>Brasilien</td>\n",
       "      <td>1991</td>\n",
       "      <td>157</td>\n",
       "      <td>Mittelfeld</td>\n",
       "    </tr>\n",
       "    <tr>\n",
       "      <th>29</th>\n",
       "      <td>Virginia Gomez</td>\n",
       "      <td>Argentinien</td>\n",
       "      <td>1991</td>\n",
       "      <td>157</td>\n",
       "      <td>Mittelfeld</td>\n",
       "    </tr>\n",
       "    <tr>\n",
       "      <th>...</th>\n",
       "      <td>...</td>\n",
       "      <td>...</td>\n",
       "      <td>...</td>\n",
       "      <td>...</td>\n",
       "      <td>...</td>\n",
       "    </tr>\n",
       "    <tr>\n",
       "      <th>522</th>\n",
       "      <td>Stefanie van der Gragt</td>\n",
       "      <td>Niederlande</td>\n",
       "      <td>1992</td>\n",
       "      <td>178</td>\n",
       "      <td>Abwehr</td>\n",
       "    </tr>\n",
       "    <tr>\n",
       "      <th>523</th>\n",
       "      <td>Fridolina Rolfo</td>\n",
       "      <td>Schweden</td>\n",
       "      <td>1993</td>\n",
       "      <td>178</td>\n",
       "      <td>Stürmer</td>\n",
       "    </tr>\n",
       "    <tr>\n",
       "      <th>524</th>\n",
       "      <td>Zecira Musovic</td>\n",
       "      <td>Schweden</td>\n",
       "      <td>1996</td>\n",
       "      <td>178</td>\n",
       "      <td>Torwart</td>\n",
       "    </tr>\n",
       "    <tr>\n",
       "      <th>525</th>\n",
       "      <td>Tierna Davidson</td>\n",
       "      <td>USA</td>\n",
       "      <td>1998</td>\n",
       "      <td>178</td>\n",
       "      <td>Abwehr</td>\n",
       "    </tr>\n",
       "    <tr>\n",
       "      <th>526</th>\n",
       "      <td>Sydney Schneider</td>\n",
       "      <td>Jamaika</td>\n",
       "      <td>1999</td>\n",
       "      <td>178</td>\n",
       "      <td>Torwart</td>\n",
       "    </tr>\n",
       "    <tr>\n",
       "      <th>527</th>\n",
       "      <td>Hedvig Lindahl</td>\n",
       "      <td>Schweden</td>\n",
       "      <td>1983</td>\n",
       "      <td>179</td>\n",
       "      <td>Torwart</td>\n",
       "    </tr>\n",
       "    <tr>\n",
       "      <th>528</th>\n",
       "      <td>Millie Bright</td>\n",
       "      <td>England</td>\n",
       "      <td>1993</td>\n",
       "      <td>179</td>\n",
       "      <td>Mittelfeld</td>\n",
       "    </tr>\n",
       "    <tr>\n",
       "      <th>529</th>\n",
       "      <td>Emily van Egmond</td>\n",
       "      <td>Australien</td>\n",
       "      <td>1993</td>\n",
       "      <td>179</td>\n",
       "      <td>Mittelfeld</td>\n",
       "    </tr>\n",
       "    <tr>\n",
       "      <th>530</th>\n",
       "      <td>Chiamaka Nnadozie</td>\n",
       "      <td>Nigeria</td>\n",
       "      <td>2000</td>\n",
       "      <td>180</td>\n",
       "      <td>Torwart</td>\n",
       "    </tr>\n",
       "    <tr>\n",
       "      <th>531</th>\n",
       "      <td>Vanina Correa</td>\n",
       "      <td>Argentinien</td>\n",
       "      <td>1983</td>\n",
       "      <td>180</td>\n",
       "      <td>Torwart</td>\n",
       "    </tr>\n",
       "    <tr>\n",
       "      <th>532</th>\n",
       "      <td>Marlyse Ngo Ndoumbouk</td>\n",
       "      <td>Kamerun</td>\n",
       "      <td>1985</td>\n",
       "      <td>180</td>\n",
       "      <td>Mittelfeld</td>\n",
       "    </tr>\n",
       "    <tr>\n",
       "      <th>533</th>\n",
       "      <td>Almuth Schult</td>\n",
       "      <td>Deutschland</td>\n",
       "      <td>1991</td>\n",
       "      <td>180</td>\n",
       "      <td>Torwart</td>\n",
       "    </tr>\n",
       "    <tr>\n",
       "      <th>534</th>\n",
       "      <td>Yuping Lin</td>\n",
       "      <td>China</td>\n",
       "      <td>1992</td>\n",
       "      <td>180</td>\n",
       "      <td>Abwehr</td>\n",
       "    </tr>\n",
       "    <tr>\n",
       "      <th>535</th>\n",
       "      <td>Samantha Mewis</td>\n",
       "      <td>USA</td>\n",
       "      <td>1992</td>\n",
       "      <td>180</td>\n",
       "      <td>Mittelfeld</td>\n",
       "    </tr>\n",
       "    <tr>\n",
       "      <th>536</th>\n",
       "      <td>Lina Hurtig</td>\n",
       "      <td>Schweden</td>\n",
       "      <td>1995</td>\n",
       "      <td>180</td>\n",
       "      <td>Stürmer</td>\n",
       "    </tr>\n",
       "    <tr>\n",
       "      <th>537</th>\n",
       "      <td>Khadija Shaw</td>\n",
       "      <td>Jamaika</td>\n",
       "      <td>1997</td>\n",
       "      <td>180</td>\n",
       "      <td>Stürmer</td>\n",
       "    </tr>\n",
       "    <tr>\n",
       "      <th>538</th>\n",
       "      <td>Yazmeen Jamieson</td>\n",
       "      <td>Jamaika</td>\n",
       "      <td>1998</td>\n",
       "      <td>180</td>\n",
       "      <td>Torwart</td>\n",
       "    </tr>\n",
       "    <tr>\n",
       "      <th>539</th>\n",
       "      <td>Chantelle Swaby</td>\n",
       "      <td>Jamaika</td>\n",
       "      <td>1998</td>\n",
       "      <td>180</td>\n",
       "      <td>Abwehr</td>\n",
       "    </tr>\n",
       "    <tr>\n",
       "      <th>540</th>\n",
       "      <td>Huan Xu</td>\n",
       "      <td>China</td>\n",
       "      <td>1999</td>\n",
       "      <td>180</td>\n",
       "      <td>Torwart</td>\n",
       "    </tr>\n",
       "    <tr>\n",
       "      <th>541</th>\n",
       "      <td>Jordyn Huitema</td>\n",
       "      <td>Kanada</td>\n",
       "      <td>2001</td>\n",
       "      <td>181</td>\n",
       "      <td>Stürmer</td>\n",
       "    </tr>\n",
       "    <tr>\n",
       "      <th>542</th>\n",
       "      <td>Jill Scott</td>\n",
       "      <td>England</td>\n",
       "      <td>1987</td>\n",
       "      <td>181</td>\n",
       "      <td>Mittelfeld</td>\n",
       "    </tr>\n",
       "    <tr>\n",
       "      <th>543</th>\n",
       "      <td>Mackenzie Arnold</td>\n",
       "      <td>Australien</td>\n",
       "      <td>1994</td>\n",
       "      <td>181</td>\n",
       "      <td>Torwart</td>\n",
       "    </tr>\n",
       "    <tr>\n",
       "      <th>544</th>\n",
       "      <td>Karen Bardsley</td>\n",
       "      <td>England</td>\n",
       "      <td>1984</td>\n",
       "      <td>182</td>\n",
       "      <td>Torwart</td>\n",
       "    </tr>\n",
       "    <tr>\n",
       "      <th>545</th>\n",
       "      <td>Anouk Dekker</td>\n",
       "      <td>Niederlande</td>\n",
       "      <td>1986</td>\n",
       "      <td>182</td>\n",
       "      <td>Abwehr</td>\n",
       "    </tr>\n",
       "    <tr>\n",
       "      <th>546</th>\n",
       "      <td>Christiane Endler</td>\n",
       "      <td>Chile</td>\n",
       "      <td>1991</td>\n",
       "      <td>182</td>\n",
       "      <td>Torwart</td>\n",
       "    </tr>\n",
       "    <tr>\n",
       "      <th>547</th>\n",
       "      <td>Shimeng Peng</td>\n",
       "      <td>China</td>\n",
       "      <td>1998</td>\n",
       "      <td>182</td>\n",
       "      <td>Torwart</td>\n",
       "    </tr>\n",
       "    <tr>\n",
       "      <th>548</th>\n",
       "      <td>Jessica McDonald</td>\n",
       "      <td>USA</td>\n",
       "      <td>1988</td>\n",
       "      <td>183</td>\n",
       "      <td>Stürmer</td>\n",
       "    </tr>\n",
       "    <tr>\n",
       "      <th>549</th>\n",
       "      <td>Emily Gielnik</td>\n",
       "      <td>Australien</td>\n",
       "      <td>1992</td>\n",
       "      <td>183</td>\n",
       "      <td>Stürmer</td>\n",
       "    </tr>\n",
       "    <tr>\n",
       "      <th>550</th>\n",
       "      <td>Wendie Renard</td>\n",
       "      <td>Frankreich</td>\n",
       "      <td>1990</td>\n",
       "      <td>187</td>\n",
       "      <td>Abwehr</td>\n",
       "    </tr>\n",
       "    <tr>\n",
       "      <th>551</th>\n",
       "      <td>Daiane</td>\n",
       "      <td>Brasilien</td>\n",
       "      <td>1997</td>\n",
       "      <td>162</td>\n",
       "      <td>Abwehr</td>\n",
       "    </tr>\n",
       "  </tbody>\n",
       "</table>\n",
       "<p>552 rows × 5 columns</p>\n",
       "</div>"
      ],
      "text/plain": [
       "                         Name   Mannschaft  Geburtsjahr  Groesse    Position\n",
       "0                Javiera Grez        Chile         2000      148     Stürmer\n",
       "1            Orathai Srimanee     Thailand         1988      151     Stürmer\n",
       "2            Maria Jose Rojas        Chile         1987      153     Stürmer\n",
       "3    Gabrielle Aboudi Onguene      Kamerun         1989      153     Stürmer\n",
       "4           Warunee Phetwiset     Thailand         1990      153      Abwehr\n",
       "5                 Yuka Momiki        Japan         1996      153  Mittelfeld\n",
       "6              Rhoda Mulaudzi    Südafrika         1989      154     Stürmer\n",
       "7               Katrina Gorry   Australien         1992      154  Mittelfeld\n",
       "8                 Yanara Aedo        Chile         1993      154     Stürmer\n",
       "9           Manuela Giugliano      Italien         1997      154  Mittelfeld\n",
       "10            Dalila Ippolito  Argentinien         2002      155  Mittelfeld\n",
       "11          Lebohang Ramalepe    Südafrika         1991      155      Abwehr\n",
       "12           Yessenia Huenteo        Chile         1992      155     Stürmer\n",
       "13              Kumi Yokoyama        Japan         1993      155     Stürmer\n",
       "14                 So-dam Lee     Südkorea         1994      155  Mittelfeld\n",
       "15           Orapin Waenngoen     Thailand         1995      155  Mittelfeld\n",
       "16             Valentina Diaz        Chile         2001      156      Abwehr\n",
       "17          Sibuelele Holweni    Südafrika         2001      156  Mittelfeld\n",
       "18              Lisa De Vanna   Australien         1984      156     Stürmer\n",
       "19            Christine Manie      Kamerun         1984      156      Abwehr\n",
       "20            Christie Murray   Schottland         1990      156     Stürmer\n",
       "21              Mana Iwabuchi        Japan         1993      156     Stürmer\n",
       "22            Thembi Kgatlana    Südafrika         1996      156  Mittelfeld\n",
       "23               Yui Hasegawa        Japan         1997      156  Mittelfeld\n",
       "24               Narumi Miura        Japan         1997      156  Mittelfeld\n",
       "25             Lorena Benitez  Argentinien         1998      156  Mittelfeld\n",
       "26       Wilaiporn Boothduang     Thailand         1987      157  Mittelfeld\n",
       "27            Sarah Gregorius   Neuseeland         1987      157     Stürmer\n",
       "28                    Debinha    Brasilien         1991      157  Mittelfeld\n",
       "29             Virginia Gomez  Argentinien         1991      157  Mittelfeld\n",
       "..                        ...          ...          ...      ...         ...\n",
       "522    Stefanie van der Gragt  Niederlande         1992      178      Abwehr\n",
       "523           Fridolina Rolfo     Schweden         1993      178     Stürmer\n",
       "524            Zecira Musovic     Schweden         1996      178     Torwart\n",
       "525           Tierna Davidson          USA         1998      178      Abwehr\n",
       "526          Sydney Schneider      Jamaika         1999      178     Torwart\n",
       "527            Hedvig Lindahl     Schweden         1983      179     Torwart\n",
       "528             Millie Bright      England         1993      179  Mittelfeld\n",
       "529          Emily van Egmond   Australien         1993      179  Mittelfeld\n",
       "530         Chiamaka Nnadozie      Nigeria         2000      180     Torwart\n",
       "531             Vanina Correa  Argentinien         1983      180     Torwart\n",
       "532     Marlyse Ngo Ndoumbouk      Kamerun         1985      180  Mittelfeld\n",
       "533             Almuth Schult  Deutschland         1991      180     Torwart\n",
       "534                Yuping Lin        China         1992      180      Abwehr\n",
       "535            Samantha Mewis          USA         1992      180  Mittelfeld\n",
       "536               Lina Hurtig     Schweden         1995      180     Stürmer\n",
       "537              Khadija Shaw      Jamaika         1997      180     Stürmer\n",
       "538          Yazmeen Jamieson      Jamaika         1998      180     Torwart\n",
       "539           Chantelle Swaby      Jamaika         1998      180      Abwehr\n",
       "540                   Huan Xu        China         1999      180     Torwart\n",
       "541            Jordyn Huitema       Kanada         2001      181     Stürmer\n",
       "542                Jill Scott      England         1987      181  Mittelfeld\n",
       "543          Mackenzie Arnold   Australien         1994      181     Torwart\n",
       "544            Karen Bardsley      England         1984      182     Torwart\n",
       "545              Anouk Dekker  Niederlande         1986      182      Abwehr\n",
       "546         Christiane Endler        Chile         1991      182     Torwart\n",
       "547              Shimeng Peng        China         1998      182     Torwart\n",
       "548          Jessica McDonald          USA         1988      183     Stürmer\n",
       "549             Emily Gielnik   Australien         1992      183     Stürmer\n",
       "550             Wendie Renard   Frankreich         1990      187      Abwehr\n",
       "551                    Daiane    Brasilien         1997      162      Abwehr\n",
       "\n",
       "[552 rows x 5 columns]"
      ]
     },
     "execution_count": 10,
     "metadata": {},
     "output_type": "execute_result"
    }
   ],
   "source": [
    "df2"
   ]
  },
  {
   "cell_type": "markdown",
   "metadata": {
    "slideshow": {
     "slide_type": "slide"
    }
   },
   "source": [
    "## Datentabellen erweitern\n",
    "\n",
    "Nachdem Sie eine Datentabelle erzeugt haben, können Sie diese auch erweitern. So kann man dem Datensatz df2 etwa eine Spalte hinzufügen, in der das Jahr der Weltmeisterschaft aufgeführt wird, falls man irgendwann auch frühere Veranstaltungen berücksichtigen möchte. Bei sehr langen Datensätzen können Sie sich mit der Funktion **head()** auch nur die ersten paar Zeilen anzeigen lassen:"
   ]
  },
  {
   "cell_type": "code",
   "execution_count": 11,
   "metadata": {
    "slideshow": {
     "slide_type": "fragment"
    }
   },
   "outputs": [],
   "source": [
    "df2[\"WM_Jahr\"] = 2019"
   ]
  },
  {
   "cell_type": "code",
   "execution_count": 12,
   "metadata": {
    "slideshow": {
     "slide_type": "slide"
    }
   },
   "outputs": [
    {
     "data": {
      "text/html": [
       "<div>\n",
       "<style scoped>\n",
       "    .dataframe tbody tr th:only-of-type {\n",
       "        vertical-align: middle;\n",
       "    }\n",
       "\n",
       "    .dataframe tbody tr th {\n",
       "        vertical-align: top;\n",
       "    }\n",
       "\n",
       "    .dataframe thead th {\n",
       "        text-align: right;\n",
       "    }\n",
       "</style>\n",
       "<table border=\"1\" class=\"dataframe\">\n",
       "  <thead>\n",
       "    <tr style=\"text-align: right;\">\n",
       "      <th></th>\n",
       "      <th>Name</th>\n",
       "      <th>Mannschaft</th>\n",
       "      <th>Geburtsjahr</th>\n",
       "      <th>Groesse</th>\n",
       "      <th>Position</th>\n",
       "      <th>WM_Jahr</th>\n",
       "    </tr>\n",
       "  </thead>\n",
       "  <tbody>\n",
       "    <tr>\n",
       "      <th>0</th>\n",
       "      <td>Javiera Grez</td>\n",
       "      <td>Chile</td>\n",
       "      <td>2000</td>\n",
       "      <td>148</td>\n",
       "      <td>Stürmer</td>\n",
       "      <td>2019</td>\n",
       "    </tr>\n",
       "    <tr>\n",
       "      <th>1</th>\n",
       "      <td>Orathai Srimanee</td>\n",
       "      <td>Thailand</td>\n",
       "      <td>1988</td>\n",
       "      <td>151</td>\n",
       "      <td>Stürmer</td>\n",
       "      <td>2019</td>\n",
       "    </tr>\n",
       "    <tr>\n",
       "      <th>2</th>\n",
       "      <td>Maria Jose Rojas</td>\n",
       "      <td>Chile</td>\n",
       "      <td>1987</td>\n",
       "      <td>153</td>\n",
       "      <td>Stürmer</td>\n",
       "      <td>2019</td>\n",
       "    </tr>\n",
       "    <tr>\n",
       "      <th>3</th>\n",
       "      <td>Gabrielle Aboudi Onguene</td>\n",
       "      <td>Kamerun</td>\n",
       "      <td>1989</td>\n",
       "      <td>153</td>\n",
       "      <td>Stürmer</td>\n",
       "      <td>2019</td>\n",
       "    </tr>\n",
       "    <tr>\n",
       "      <th>4</th>\n",
       "      <td>Warunee Phetwiset</td>\n",
       "      <td>Thailand</td>\n",
       "      <td>1990</td>\n",
       "      <td>153</td>\n",
       "      <td>Abwehr</td>\n",
       "      <td>2019</td>\n",
       "    </tr>\n",
       "  </tbody>\n",
       "</table>\n",
       "</div>"
      ],
      "text/plain": [
       "                       Name Mannschaft  Geburtsjahr  Groesse Position  WM_Jahr\n",
       "0              Javiera Grez      Chile         2000      148  Stürmer     2019\n",
       "1          Orathai Srimanee   Thailand         1988      151  Stürmer     2019\n",
       "2          Maria Jose Rojas      Chile         1987      153  Stürmer     2019\n",
       "3  Gabrielle Aboudi Onguene    Kamerun         1989      153  Stürmer     2019\n",
       "4         Warunee Phetwiset   Thailand         1990      153   Abwehr     2019"
      ]
     },
     "execution_count": 12,
     "metadata": {},
     "output_type": "execute_result"
    }
   ],
   "source": [
    "df2.head()"
   ]
  },
  {
   "cell_type": "markdown",
   "metadata": {
    "slideshow": {
     "slide_type": "slide"
    }
   },
   "source": [
    "## Datentabellen erweitern\n",
    "\n",
    "Man kann auch Spalten einfügen, die auf bereits existierenden Spalten basieren. So können wir etwa in einer neuen Spalte angeben, wie groß die jeweilige Person in Metern und nicht in Zentimetern ist:"
   ]
  },
  {
   "cell_type": "code",
   "execution_count": 13,
   "metadata": {
    "slideshow": {
     "slide_type": "fragment"
    }
   },
   "outputs": [],
   "source": [
    "df2[\"Groesse_Meter\"] = df2[\"Groesse\"] / 100"
   ]
  },
  {
   "cell_type": "code",
   "execution_count": 14,
   "metadata": {
    "slideshow": {
     "slide_type": "fragment"
    }
   },
   "outputs": [
    {
     "data": {
      "text/html": [
       "<div>\n",
       "<style scoped>\n",
       "    .dataframe tbody tr th:only-of-type {\n",
       "        vertical-align: middle;\n",
       "    }\n",
       "\n",
       "    .dataframe tbody tr th {\n",
       "        vertical-align: top;\n",
       "    }\n",
       "\n",
       "    .dataframe thead th {\n",
       "        text-align: right;\n",
       "    }\n",
       "</style>\n",
       "<table border=\"1\" class=\"dataframe\">\n",
       "  <thead>\n",
       "    <tr style=\"text-align: right;\">\n",
       "      <th></th>\n",
       "      <th>Name</th>\n",
       "      <th>Mannschaft</th>\n",
       "      <th>Geburtsjahr</th>\n",
       "      <th>Groesse</th>\n",
       "      <th>Position</th>\n",
       "      <th>WM_Jahr</th>\n",
       "      <th>Groesse_Meter</th>\n",
       "    </tr>\n",
       "  </thead>\n",
       "  <tbody>\n",
       "    <tr>\n",
       "      <th>0</th>\n",
       "      <td>Javiera Grez</td>\n",
       "      <td>Chile</td>\n",
       "      <td>2000</td>\n",
       "      <td>148</td>\n",
       "      <td>Stürmer</td>\n",
       "      <td>2019</td>\n",
       "      <td>1.48</td>\n",
       "    </tr>\n",
       "    <tr>\n",
       "      <th>1</th>\n",
       "      <td>Orathai Srimanee</td>\n",
       "      <td>Thailand</td>\n",
       "      <td>1988</td>\n",
       "      <td>151</td>\n",
       "      <td>Stürmer</td>\n",
       "      <td>2019</td>\n",
       "      <td>1.51</td>\n",
       "    </tr>\n",
       "    <tr>\n",
       "      <th>2</th>\n",
       "      <td>Maria Jose Rojas</td>\n",
       "      <td>Chile</td>\n",
       "      <td>1987</td>\n",
       "      <td>153</td>\n",
       "      <td>Stürmer</td>\n",
       "      <td>2019</td>\n",
       "      <td>1.53</td>\n",
       "    </tr>\n",
       "    <tr>\n",
       "      <th>3</th>\n",
       "      <td>Gabrielle Aboudi Onguene</td>\n",
       "      <td>Kamerun</td>\n",
       "      <td>1989</td>\n",
       "      <td>153</td>\n",
       "      <td>Stürmer</td>\n",
       "      <td>2019</td>\n",
       "      <td>1.53</td>\n",
       "    </tr>\n",
       "    <tr>\n",
       "      <th>4</th>\n",
       "      <td>Warunee Phetwiset</td>\n",
       "      <td>Thailand</td>\n",
       "      <td>1990</td>\n",
       "      <td>153</td>\n",
       "      <td>Abwehr</td>\n",
       "      <td>2019</td>\n",
       "      <td>1.53</td>\n",
       "    </tr>\n",
       "  </tbody>\n",
       "</table>\n",
       "</div>"
      ],
      "text/plain": [
       "                       Name Mannschaft  Geburtsjahr  Groesse Position  \\\n",
       "0              Javiera Grez      Chile         2000      148  Stürmer   \n",
       "1          Orathai Srimanee   Thailand         1988      151  Stürmer   \n",
       "2          Maria Jose Rojas      Chile         1987      153  Stürmer   \n",
       "3  Gabrielle Aboudi Onguene    Kamerun         1989      153  Stürmer   \n",
       "4         Warunee Phetwiset   Thailand         1990      153   Abwehr   \n",
       "\n",
       "   WM_Jahr  Groesse_Meter  \n",
       "0     2019           1.48  \n",
       "1     2019           1.51  \n",
       "2     2019           1.53  \n",
       "3     2019           1.53  \n",
       "4     2019           1.53  "
      ]
     },
     "execution_count": 14,
     "metadata": {},
     "output_type": "execute_result"
    }
   ],
   "source": [
    "df2.head()"
   ]
  },
  {
   "cell_type": "markdown",
   "metadata": {
    "slideshow": {
     "slide_type": "slide"
    }
   },
   "source": [
    "## Datentabellen: Spalten auswählen\n",
    "\n",
    "Wenn Sie aus einer Datentabelle eine individuelle Spalte auswählen möchten, können Sie dies tun, indem Sie den Spaltennamen in eckige Klammern setzen:"
   ]
  },
  {
   "cell_type": "code",
   "execution_count": 15,
   "metadata": {
    "slideshow": {
     "slide_type": "fragment"
    }
   },
   "outputs": [
    {
     "data": {
      "text/plain": [
       "0                Javiera Grez\n",
       "1            Orathai Srimanee\n",
       "2            Maria Jose Rojas\n",
       "3    Gabrielle Aboudi Onguene\n",
       "4           Warunee Phetwiset\n",
       "Name: Name, dtype: object"
      ]
     },
     "execution_count": 15,
     "metadata": {},
     "output_type": "execute_result"
    }
   ],
   "source": [
    "df2[\"Name\"].head()"
   ]
  },
  {
   "cell_type": "markdown",
   "metadata": {
    "slideshow": {
     "slide_type": "slide"
    }
   },
   "source": [
    "## Datentabellen: Spalten auswählen\n",
    "\n",
    "Bei mehreren Spalten benötigen Sie zwei Klammern:"
   ]
  },
  {
   "cell_type": "code",
   "execution_count": 16,
   "metadata": {
    "slideshow": {
     "slide_type": "fragment"
    }
   },
   "outputs": [
    {
     "data": {
      "text/html": [
       "<div>\n",
       "<style scoped>\n",
       "    .dataframe tbody tr th:only-of-type {\n",
       "        vertical-align: middle;\n",
       "    }\n",
       "\n",
       "    .dataframe tbody tr th {\n",
       "        vertical-align: top;\n",
       "    }\n",
       "\n",
       "    .dataframe thead th {\n",
       "        text-align: right;\n",
       "    }\n",
       "</style>\n",
       "<table border=\"1\" class=\"dataframe\">\n",
       "  <thead>\n",
       "    <tr style=\"text-align: right;\">\n",
       "      <th></th>\n",
       "      <th>Name</th>\n",
       "      <th>Geburtsjahr</th>\n",
       "    </tr>\n",
       "  </thead>\n",
       "  <tbody>\n",
       "    <tr>\n",
       "      <th>0</th>\n",
       "      <td>Javiera Grez</td>\n",
       "      <td>2000</td>\n",
       "    </tr>\n",
       "    <tr>\n",
       "      <th>1</th>\n",
       "      <td>Orathai Srimanee</td>\n",
       "      <td>1988</td>\n",
       "    </tr>\n",
       "    <tr>\n",
       "      <th>2</th>\n",
       "      <td>Maria Jose Rojas</td>\n",
       "      <td>1987</td>\n",
       "    </tr>\n",
       "    <tr>\n",
       "      <th>3</th>\n",
       "      <td>Gabrielle Aboudi Onguene</td>\n",
       "      <td>1989</td>\n",
       "    </tr>\n",
       "    <tr>\n",
       "      <th>4</th>\n",
       "      <td>Warunee Phetwiset</td>\n",
       "      <td>1990</td>\n",
       "    </tr>\n",
       "  </tbody>\n",
       "</table>\n",
       "</div>"
      ],
      "text/plain": [
       "                       Name  Geburtsjahr\n",
       "0              Javiera Grez         2000\n",
       "1          Orathai Srimanee         1988\n",
       "2          Maria Jose Rojas         1987\n",
       "3  Gabrielle Aboudi Onguene         1989\n",
       "4         Warunee Phetwiset         1990"
      ]
     },
     "execution_count": 16,
     "metadata": {},
     "output_type": "execute_result"
    }
   ],
   "source": [
    "df2[[\"Name\", \"Geburtsjahr\"]].head()"
   ]
  },
  {
   "cell_type": "markdown",
   "metadata": {
    "slideshow": {
     "slide_type": "slide"
    }
   },
   "source": [
    "## Datentabellen: *shape* und *columns*\n",
    "\n",
    "Datentabellen haben Attribute, die Eigenschaften der Datentabelle beschreiben. Mit **shape** können Sie sich besipielsweise die Dimensionen (Anzahl der Zeilen und Spalten) der Datentabelle anzeigen lassen, während **columns** die Variablennamen ausgibt:"
   ]
  },
  {
   "cell_type": "code",
   "execution_count": 17,
   "metadata": {
    "scrolled": true,
    "slideshow": {
     "slide_type": "fragment"
    }
   },
   "outputs": [
    {
     "data": {
      "text/plain": [
       "(552, 7)"
      ]
     },
     "execution_count": 17,
     "metadata": {},
     "output_type": "execute_result"
    }
   ],
   "source": [
    "df2.shape"
   ]
  },
  {
   "cell_type": "code",
   "execution_count": 18,
   "metadata": {},
   "outputs": [
    {
     "data": {
      "text/plain": [
       "Index(['Name', 'Mannschaft', 'Geburtsjahr', 'Groesse', 'Position', 'WM_Jahr',\n",
       "       'Groesse_Meter'],\n",
       "      dtype='object')"
      ]
     },
     "execution_count": 18,
     "metadata": {},
     "output_type": "execute_result"
    }
   ],
   "source": [
    "df2.columns"
   ]
  },
  {
   "cell_type": "markdown",
   "metadata": {
    "slideshow": {
     "slide_type": "slide"
    }
   },
   "source": [
    "## Datentabellen: value_counts()\n",
    "\n",
    "Bei der Arbeit mit Datentabellen stehen Ihnen zahlreiche Funktionen zur Auswahl. So können Sie sich etwa mit **value_counts()** anzeigen lassen, wie oft jeder Wert in einer Spalte vorkommt. Mit dem folgenden Beispiel kann man etwa für jede Größenangabe sehen, wie viele Spielerinnen in diese Kategorie fallen:"
   ]
  },
  {
   "cell_type": "code",
   "execution_count": 19,
   "metadata": {
    "slideshow": {
     "slide_type": "fragment"
    }
   },
   "outputs": [
    {
     "data": {
      "text/plain": [
       "170    48\n",
       "168    40\n",
       "172    36\n",
       "160    34\n",
       "165    33\n",
       "Name: Groesse, dtype: int64"
      ]
     },
     "execution_count": 19,
     "metadata": {},
     "output_type": "execute_result"
    }
   ],
   "source": [
    "df2[\"Groesse\"].value_counts().head()"
   ]
  },
  {
   "cell_type": "markdown",
   "metadata": {
    "slideshow": {
     "slide_type": "slide"
    }
   },
   "source": [
    "## Datentabellen: min() und max()\n",
    "\n",
    "**min()** und **max()** zeigen Ihnen die Minimal- und Maximalwerte einer Spalte:"
   ]
  },
  {
   "cell_type": "code",
   "execution_count": 20,
   "metadata": {
    "slideshow": {
     "slide_type": "fragment"
    }
   },
   "outputs": [
    {
     "data": {
      "text/plain": [
       "148"
      ]
     },
     "execution_count": 20,
     "metadata": {},
     "output_type": "execute_result"
    }
   ],
   "source": [
    "df2[\"Groesse\"].min()"
   ]
  },
  {
   "cell_type": "code",
   "execution_count": 21,
   "metadata": {
    "slideshow": {
     "slide_type": "fragment"
    }
   },
   "outputs": [
    {
     "data": {
      "text/plain": [
       "Name       Zecira Musovic\n",
       "Groesse               187\n",
       "dtype: object"
      ]
     },
     "execution_count": 21,
     "metadata": {},
     "output_type": "execute_result"
    }
   ],
   "source": [
    "df2[[\"Name\",\"Groesse\"]].max()"
   ]
  },
  {
   "cell_type": "markdown",
   "metadata": {
    "slideshow": {
     "slide_type": "slide"
    }
   },
   "source": [
    "## Datentabellen: mean()\n",
    "\n",
    "Mit **mean()** können Sie den Durchschnittswert ausgewählter Spalten berechnen, solange die Spalten numerische Datentypen enthalten:"
   ]
  },
  {
   "cell_type": "code",
   "execution_count": 22,
   "metadata": {
    "slideshow": {
     "slide_type": "fragment"
    }
   },
   "outputs": [
    {
     "data": {
      "text/plain": [
       "Geburtsjahr      1992.434783\n",
       "Groesse           167.548913\n",
       "WM_Jahr          2019.000000\n",
       "Groesse_Meter       1.675489\n",
       "dtype: float64"
      ]
     },
     "execution_count": 22,
     "metadata": {},
     "output_type": "execute_result"
    }
   ],
   "source": [
    "df2.mean()"
   ]
  },
  {
   "cell_type": "markdown",
   "metadata": {
    "slideshow": {
     "slide_type": "slide"
    }
   },
   "source": [
    "## Datentabellen: idxmax() und idxmin()\n",
    "\n",
    "**idxmax()** und **idxmin()** geben Ihnen den Indexwert des höchsten bzw. niedrigsten Wertes. Wenn es mehrere Zeilen mit dem gleichen Wert gibt, wird nur die erste Zeile berücksichtigt:"
   ]
  },
  {
   "cell_type": "code",
   "execution_count": 23,
   "metadata": {
    "slideshow": {
     "slide_type": "fragment"
    }
   },
   "outputs": [
    {
     "data": {
      "text/plain": [
       "550"
      ]
     },
     "execution_count": 23,
     "metadata": {},
     "output_type": "execute_result"
    }
   ],
   "source": [
    "df2[\"Groesse\"].idxmax()"
   ]
  },
  {
   "cell_type": "markdown",
   "metadata": {
    "slideshow": {
     "slide_type": "slide"
    }
   },
   "source": [
    "## Datentabellen: loc und iloc\n",
    "\n",
    "Wenn Sie dann die Indexwerte haben, können Sie den Indexoperator **loc** verwenden, um die Zeilen aus der Datentabelle auszuwählen:"
   ]
  },
  {
   "cell_type": "code",
   "execution_count": 24,
   "metadata": {
    "slideshow": {
     "slide_type": "fragment"
    }
   },
   "outputs": [
    {
     "data": {
      "text/plain": [
       "Name       Wendie Renard\n",
       "Groesse              187\n",
       "Name: 550, dtype: object"
      ]
     },
     "execution_count": 24,
     "metadata": {},
     "output_type": "execute_result"
    }
   ],
   "source": [
    "df2[[\"Name\", \"Groesse\"]].loc[df2[\"Groesse\"].idxmax()]"
   ]
  },
  {
   "cell_type": "markdown",
   "metadata": {
    "slideshow": {
     "slide_type": "slide"
    }
   },
   "source": [
    "## Datentabellen: Zeilen auswählen\n",
    "\n",
    "Bei mehreren gleichen Höchstwerten können Sie einen Vergleich und die Funktion **max()** verwenden (oder **min()** bei Niedrigstwerten):"
   ]
  },
  {
   "cell_type": "code",
   "execution_count": 25,
   "metadata": {
    "slideshow": {
     "slide_type": "fragment"
    }
   },
   "outputs": [
    {
     "data": {
      "text/html": [
       "<div>\n",
       "<style scoped>\n",
       "    .dataframe tbody tr th:only-of-type {\n",
       "        vertical-align: middle;\n",
       "    }\n",
       "\n",
       "    .dataframe tbody tr th {\n",
       "        vertical-align: top;\n",
       "    }\n",
       "\n",
       "    .dataframe thead th {\n",
       "        text-align: right;\n",
       "    }\n",
       "</style>\n",
       "<table border=\"1\" class=\"dataframe\">\n",
       "  <thead>\n",
       "    <tr style=\"text-align: right;\">\n",
       "      <th></th>\n",
       "      <th>Name</th>\n",
       "      <th>Groesse</th>\n",
       "    </tr>\n",
       "  </thead>\n",
       "  <tbody>\n",
       "    <tr>\n",
       "      <th>508</th>\n",
       "      <td>Xiaolin Bi</td>\n",
       "      <td>177</td>\n",
       "    </tr>\n",
       "    <tr>\n",
       "      <th>509</th>\n",
       "      <td>Abby Erceg</td>\n",
       "      <td>177</td>\n",
       "    </tr>\n",
       "    <tr>\n",
       "      <th>510</th>\n",
       "      <td>Nicole Stratford</td>\n",
       "      <td>177</td>\n",
       "    </tr>\n",
       "    <tr>\n",
       "      <th>511</th>\n",
       "      <td>Sari van Veenendaal</td>\n",
       "      <td>177</td>\n",
       "    </tr>\n",
       "    <tr>\n",
       "      <th>512</th>\n",
       "      <td>Jennifer Beattie</td>\n",
       "      <td>177</td>\n",
       "    </tr>\n",
       "    <tr>\n",
       "      <th>513</th>\n",
       "      <td>Irene</td>\n",
       "      <td>177</td>\n",
       "    </tr>\n",
       "    <tr>\n",
       "      <th>514</th>\n",
       "      <td>Erin Nayler</td>\n",
       "      <td>177</td>\n",
       "    </tr>\n",
       "    <tr>\n",
       "      <th>515</th>\n",
       "      <td>Amanda Ilestedt</td>\n",
       "      <td>177</td>\n",
       "    </tr>\n",
       "    <tr>\n",
       "      <th>516</th>\n",
       "      <td>Rebecca Quinn</td>\n",
       "      <td>177</td>\n",
       "    </tr>\n",
       "    <tr>\n",
       "      <th>517</th>\n",
       "      <td>Kailen Sheridan</td>\n",
       "      <td>177</td>\n",
       "    </tr>\n",
       "    <tr>\n",
       "      <th>518</th>\n",
       "      <td>Ingrid Engen</td>\n",
       "      <td>177</td>\n",
       "    </tr>\n",
       "  </tbody>\n",
       "</table>\n",
       "</div>"
      ],
      "text/plain": [
       "                    Name  Groesse\n",
       "508           Xiaolin Bi      177\n",
       "509           Abby Erceg      177\n",
       "510     Nicole Stratford      177\n",
       "511  Sari van Veenendaal      177\n",
       "512     Jennifer Beattie      177\n",
       "513                Irene      177\n",
       "514          Erin Nayler      177\n",
       "515      Amanda Ilestedt      177\n",
       "516        Rebecca Quinn      177\n",
       "517      Kailen Sheridan      177\n",
       "518         Ingrid Engen      177"
      ]
     },
     "execution_count": 25,
     "metadata": {},
     "output_type": "execute_result"
    }
   ],
   "source": [
    "df2[[\"Name\", \"Groesse\"]].loc[df2['Groesse'] == df2[\"Groesse\"].max() - 10]"
   ]
  },
  {
   "cell_type": "markdown",
   "metadata": {
    "slideshow": {
     "slide_type": "slide"
    }
   },
   "source": [
    "## Datentabellen: groupby()\n",
    "\n",
    "**groupby** ist immer hilfreich, wenn Sie Ihren Datensatz nach Werten in einer oder mehrerer Spalten gruppieren  und dann etwa Durchschnittswerte für jede dieser Gruppen berechnen wollen:"
   ]
  },
  {
   "cell_type": "code",
   "execution_count": 26,
   "metadata": {
    "slideshow": {
     "slide_type": "fragment"
    }
   },
   "outputs": [
    {
     "data": {
      "text/plain": [
       "Mannschaft\n",
       "USA            1989.869565\n",
       "Kamerun        1990.869565\n",
       "Brasilien      1991.000000\n",
       "Italien        1991.260870\n",
       "England        1991.347826\n",
       "Schottland     1991.521739\n",
       "Südkorea       1991.652174\n",
       "Thailand       1991.695652\n",
       "Argentinien    1991.739130\n",
       "Neuseeland     1992.043478\n",
       "Schweden       1992.130435\n",
       "Frankreich     1992.217391\n",
       "China          1992.695652\n",
       "Niederlande    1992.913043\n",
       "Nigeria        1992.913043\n",
       "Chile          1992.913043\n",
       "Südafrika      1993.000000\n",
       "Deutschland    1993.086957\n",
       "Australien     1993.173913\n",
       "Norwegen       1993.173913\n",
       "Kanada         1993.739130\n",
       "Spanien        1993.826087\n",
       "Japan          1994.260870\n",
       "Jamaika        1995.391304\n",
       "Name: Geburtsjahr, dtype: float64"
      ]
     },
     "execution_count": 26,
     "metadata": {},
     "output_type": "execute_result"
    }
   ],
   "source": [
    "df2.groupby(\"Mannschaft\")[\"Geburtsjahr\"].mean().sort_values()"
   ]
  },
  {
   "cell_type": "markdown",
   "metadata": {
    "slideshow": {
     "slide_type": "slide"
    }
   },
   "source": [
    "## Datensatz: sort_values()\n",
    "\n",
    "Mit **sort_values()** können Sie einen Datensatz sortieren:"
   ]
  },
  {
   "cell_type": "code",
   "execution_count": 27,
   "metadata": {
    "slideshow": {
     "slide_type": "fragment"
    }
   },
   "outputs": [
    {
     "data": {
      "text/html": [
       "<div>\n",
       "<style scoped>\n",
       "    .dataframe tbody tr th:only-of-type {\n",
       "        vertical-align: middle;\n",
       "    }\n",
       "\n",
       "    .dataframe tbody tr th {\n",
       "        vertical-align: top;\n",
       "    }\n",
       "\n",
       "    .dataframe thead th {\n",
       "        text-align: right;\n",
       "    }\n",
       "</style>\n",
       "<table border=\"1\" class=\"dataframe\">\n",
       "  <thead>\n",
       "    <tr style=\"text-align: right;\">\n",
       "      <th></th>\n",
       "      <th>Name</th>\n",
       "      <th>Mannschaft</th>\n",
       "      <th>Geburtsjahr</th>\n",
       "      <th>Groesse</th>\n",
       "      <th>Position</th>\n",
       "      <th>WM_Jahr</th>\n",
       "      <th>Groesse_Meter</th>\n",
       "    </tr>\n",
       "  </thead>\n",
       "  <tbody>\n",
       "    <tr>\n",
       "      <th>10</th>\n",
       "      <td>Dalila Ippolito</td>\n",
       "      <td>Argentinien</td>\n",
       "      <td>2002</td>\n",
       "      <td>155</td>\n",
       "      <td>Mittelfeld</td>\n",
       "      <td>2019</td>\n",
       "      <td>1.55</td>\n",
       "    </tr>\n",
       "    <tr>\n",
       "      <th>25</th>\n",
       "      <td>Lorena Benitez</td>\n",
       "      <td>Argentinien</td>\n",
       "      <td>1998</td>\n",
       "      <td>156</td>\n",
       "      <td>Mittelfeld</td>\n",
       "      <td>2019</td>\n",
       "      <td>1.56</td>\n",
       "    </tr>\n",
       "    <tr>\n",
       "      <th>29</th>\n",
       "      <td>Virginia Gomez</td>\n",
       "      <td>Argentinien</td>\n",
       "      <td>1991</td>\n",
       "      <td>157</td>\n",
       "      <td>Mittelfeld</td>\n",
       "      <td>2019</td>\n",
       "      <td>1.57</td>\n",
       "    </tr>\n",
       "    <tr>\n",
       "      <th>95</th>\n",
       "      <td>Natalie Juncos</td>\n",
       "      <td>Argentinien</td>\n",
       "      <td>1990</td>\n",
       "      <td>161</td>\n",
       "      <td>Abwehr</td>\n",
       "      <td>2019</td>\n",
       "      <td>1.61</td>\n",
       "    </tr>\n",
       "    <tr>\n",
       "      <th>113</th>\n",
       "      <td>Gabriela Chavez</td>\n",
       "      <td>Argentinien</td>\n",
       "      <td>1989</td>\n",
       "      <td>162</td>\n",
       "      <td>Abwehr</td>\n",
       "      <td>2019</td>\n",
       "      <td>1.62</td>\n",
       "    </tr>\n",
       "  </tbody>\n",
       "</table>\n",
       "</div>"
      ],
      "text/plain": [
       "                Name   Mannschaft  Geburtsjahr  Groesse    Position  WM_Jahr  \\\n",
       "10   Dalila Ippolito  Argentinien         2002      155  Mittelfeld     2019   \n",
       "25    Lorena Benitez  Argentinien         1998      156  Mittelfeld     2019   \n",
       "29    Virginia Gomez  Argentinien         1991      157  Mittelfeld     2019   \n",
       "95    Natalie Juncos  Argentinien         1990      161      Abwehr     2019   \n",
       "113  Gabriela Chavez  Argentinien         1989      162      Abwehr     2019   \n",
       "\n",
       "     Groesse_Meter  \n",
       "10            1.55  \n",
       "25            1.56  \n",
       "29            1.57  \n",
       "95            1.61  \n",
       "113           1.62  "
      ]
     },
     "execution_count": 27,
     "metadata": {},
     "output_type": "execute_result"
    }
   ],
   "source": [
    "df2.sort_values(by=[\"Mannschaft\", \"Groesse\"]).head()"
   ]
  },
  {
   "cell_type": "markdown",
   "metadata": {
    "slideshow": {
     "slide_type": "slide"
    }
   },
   "source": [
    "## Datentabellen: astype()\n",
    "\n",
    "Mit **astype()** verändern Sie den Datentyp einer Spalte. So kann man etwa die Werte in einer geeigneten Spalte in Faktoren umwandeln. Am Ende können Sie dann die unterschiedlichen Ausprägungen (*categories*) des Faktors sehen:"
   ]
  },
  {
   "cell_type": "code",
   "execution_count": 29,
   "metadata": {
    "slideshow": {
     "slide_type": "fragment"
    }
   },
   "outputs": [
    {
     "data": {
      "text/plain": [
       "0       Chile\n",
       "1    Thailand\n",
       "2       Chile\n",
       "3     Kamerun\n",
       "4    Thailand\n",
       "Name: Mannschaft, dtype: category\n",
       "Categories (24, object): [Argentinien, Australien, Brasilien, Chile, ..., Südafrika, Südkorea, Thailand, USA]"
      ]
     },
     "execution_count": 29,
     "metadata": {},
     "output_type": "execute_result"
    }
   ],
   "source": [
    "df2[\"Mannschaft\"].astype(\"category\").head()"
   ]
  },
  {
   "cell_type": "code",
   "execution_count": null,
   "metadata": {},
   "outputs": [],
   "source": []
  }
 ],
 "metadata": {
  "celltoolbar": "Slideshow",
  "kernelspec": {
   "display_name": "Python 3",
   "language": "python",
   "name": "python3"
  },
  "language_info": {
   "codemirror_mode": {
    "name": "ipython",
    "version": 3
   },
   "file_extension": ".py",
   "mimetype": "text/x-python",
   "name": "python",
   "nbconvert_exporter": "python",
   "pygments_lexer": "ipython3",
   "version": "3.7.3"
  }
 },
 "nbformat": 4,
 "nbformat_minor": 2
}
