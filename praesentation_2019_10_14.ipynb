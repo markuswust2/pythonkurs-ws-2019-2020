{
 "cells": [
  {
   "cell_type": "markdown",
   "metadata": {
    "slideshow": {
     "slide_type": "slide"
    }
   },
   "source": [
    "# Einführung in Python I\n",
    "\n",
    "## Vorstellung\n",
    "\n",
    "- Markus Wust\n",
    "- Studium: Englisch, Geschichte, Germanistik, Bibliothekswissenschaften, Humanities Computing\n",
    "- Arbeitete an Universitätsbibliothek in den USA\n",
    "- Seit Februar 2019 an der Universitätsbibliothek Tübingen\n",
    "\n",
    "Und Sie?"
   ]
  },
  {
   "cell_type": "markdown",
   "metadata": {
    "slideshow": {
     "slide_type": "slide"
    }
   },
   "source": [
    "## Termine\n",
    "\n",
    "|Oktober|November|Dezember|Januar|Februar|\n",
    "|-|-|-|-|-|\n",
    "|16|6|18|8|5|\n",
    "|23|13||15||\n",
    "|30|20||20||\n",
    "||||29||"
   ]
  },
  {
   "cell_type": "markdown",
   "metadata": {
    "slideshow": {
     "slide_type": "slide"
    }
   },
   "source": [
    "## Geplante Themen\n",
    "\n",
    "- Was ist Python?\n",
    "- Einführung in die Arbeitsumgebung\n",
    "- Grundlagen:\n",
    "  - Variablen\n",
    "  - Datenstrukturen\n",
    "  - Kontrollstrukturen\n",
    "  - Funktionen\n",
    "- Interaktive Dokumente mit Jupyter Notebook\n",
    "- Datenanalyse und -visualisierung\n",
    "- GUI-Programmierung"
   ]
  },
  {
   "cell_type": "markdown",
   "metadata": {
    "slideshow": {
     "slide_type": "slide"
    }
   },
   "source": [
    "## Python: Die Geschichte\n",
    "\n",
    "- Ab 1989 von dem niederländischen Programmierer Guido van Rossum entwickelt\n",
    "- Python 1.0 (Erste Vollversion): Januar 1994\n",
    "- Python 2.0: Oktober 2000\n",
    "- Python 3.0: Dezember 2008\n",
    "- Python 2.7.16 (Letzte 2.x Version): März 2019\n",
    "- Python 3.7: Juni 2018\n",
    "\n",
    "**Übrigens:** Mehr zur Entwicklungsgeschichte von Python erfahren Sie in dem Vorwort, das Guido van Rossum zur ersten Auflage von *Programming Python* (Mark Lutz, O'Reilly, 1996) geschrieben hat. Sie können es frei zugänglich unter [https://www.python.org/doc/essays/foreword](https://www.python.org/doc/essays/foreword) finden."
   ]
  },
  {
   "cell_type": "markdown",
   "metadata": {
    "slideshow": {
     "slide_type": "slide"
    }
   },
   "source": [
    "## Python: Der Name\n",
    "\n",
    "Python wurde nach der britischen Komikergruppe Monty Python benannt.\n",
    "\n",
    "![Monty Python. Quelle: Wikipedia](monty_python.jpg)"
   ]
  },
  {
   "cell_type": "markdown",
   "metadata": {
    "slideshow": {
     "slide_type": "slide"
    }
   },
   "source": [
    "## Warum Python?\n",
    "Warum nicht?"
   ]
  },
  {
   "cell_type": "markdown",
   "metadata": {
    "slideshow": {
     "slide_type": "slide"
    }
   },
   "source": [
    "## Warum Python?\n",
    "- Python ist eine höhere Programmiersprache, das heißt, es ist leichter für Menschen zu verstehen, muss aber erst für Maschinen übersetzt werden. Bei Python wird diese Übersetzung von einem *Interpreter* übernommen.\n",
    "- Ein Ziel bei der Entwicklung war es, Python möglichst einfach und übersichtlich zu gestalten, was es zu einer guten Sprache für Programmieranfänger macht.\n",
    "- Python hat eine sehr klare Syntax, was die Lesbarkeit erleichtert.\n",
    "- Wie viele andere Sprachen auch kann Python durch Pakete erweitert werden. Es ist deshalb sehr flexibel und leistungsfähig.\n",
    "- Es gibt eine sehr große und aktive Nutzergemeinde und Python ist eine der wichtigsten Sprachen in Forschung und Wirtschaft."
   ]
  },
  {
   "cell_type": "markdown",
   "metadata": {
    "slideshow": {
     "slide_type": "slide"
    }
   },
   "source": [
    "## Ranglisten für Programmiersprachen\n",
    "\n",
    "|Rang|Sprache|\n",
    "|-|-|\n",
    "|1.-2.|Java / C|\n",
    "|3.|**Python**|\n",
    "|4.-10.|C++ / C# / Visual Basic .NET / Javascript / PHP / Objective-C|\n",
    "|11.-20.|SQL / Ruby / MATLAB / Groovy / Delphi/Objective Pascal / Assembly / Visual Basic / Go / Swift / Perl / R|\n",
    "\n",
    "TIOBE Index August 2019. Quelle: [https://www.tiobe.com/tiobe-index/](https://www.tiobe.com/tiobe-index/)\n",
    "\n",
    "|Rang|Sprache|\n",
    "|-|-|\n",
    "|1.-2.|JavaScript / Java|\n",
    "|3.|**Python**|\n",
    "|4.-10.|PHP / C++ / C# / CSS / Ruby / TypeScript / Swift|\n",
    "|11.-20.|Objective-C / Scala / Shell / R / Go / PowerShell / Perl / Haskell / Kotlin|\n",
    "\n",
    "RedMonk Programming Language Ranking Juni 2019. Quelle: [https://redmonk.com/sogrady/2019/07/18/language-rankings-6-19/](https://redmonk.com/sogrady/2019/07/18/language-rankings-6-19/)"
   ]
  },
  {
   "cell_type": "markdown",
   "metadata": {
    "slideshow": {
     "slide_type": "slide"
    }
   },
   "source": [
    "## Python 2 oder Python 3?\n",
    "\n",
    "- Seit dem Erscheinen von Python 3 Ende 2008 wurden zwei Versionen von Python weiterentwickelt: Python 2 und Python 3. Die Entscheidung, welche Version man verwenden sollte, hing oft davon ab, ob benötigte Pakete schon für Python 3 erhältlich waren.\n",
    "- Die Zeit für Python 2 läuft jetzt aus: Ab dem 1.1.2020 wird es nicht mehr weiterentwickelt werden\n",
    "(siehe dazu auch [https://pythonclock.org](https://pythonclock.org)).\n",
    "- Wir werden uns deshalb auf Python 3 konzentrieren."
   ]
  },
  {
   "cell_type": "markdown",
   "metadata": {
    "slideshow": {
     "slide_type": "slide"
    }
   },
   "source": [
    "## Python: Voraussetzungen\n",
    "\n",
    "- Um mit Python arbeiten zu können, muss es auf Ihrem Computer installiert sein, was bei macOS und Linux-basierten Betriebssystemen normalerweise schon der Fall ist. Windows-Nutzer können es seit 2019 über den Microsoft-Store installieren oder von der [Python-Seite](https://www.python.org) herunterladen.\n",
    "- Am einfachsten geht die Installation aber über ein Programm wie [Anaconda](https://www.anaconda.com/distribution/#download-section), mit dem Sie nicht nur Python, sondern auch Jupyter Notebook, unser Hauptwerkzeug in diesem Kurs, installieren können."
   ]
  },
  {
   "cell_type": "markdown",
   "metadata": {
    "slideshow": {
     "slide_type": "slide"
    }
   },
   "source": [
    "## Editoren: Wichtige Funktionen\n",
    "\n",
    "Grundsätzlich kann man Python-Code in jedem Texteditor schreiben, selbst in so einfachen Anwendungen wie etwa Notepad in Windows. Sie bekommen hierbei aber nur ein Grundmaß an Funktionalität. Besser sind hier Editoren, die einige Zusatzfunktionen anbieten wie etwa:\n",
    "\n",
    "- Automatischer Zeileneinzug (*Auto Indentation*, dazu später mehr)\n",
    "- Codevervollständigung (*Code Completion*): Man tippt die ersten Buchstaben etwa eines Funktionsnamens, und der Editor zeigt dann einen oder mehrere Vorschläge an.\n",
    "- Syntaxhervorhebung (*Syntax Highlighting*): <span style=\"color:red;\">Unterschiedliche syntaktische</span> <span style=\"color:blue;\">Elemente</span> <span style=\"color:green;\">haben</span> <span style=\"color:red;\">unterschiedliche</span> <span style=\"color:blue;\">Farben</span>."
   ]
  },
  {
   "cell_type": "markdown",
   "metadata": {
    "slideshow": {
     "slide_type": "slide"
    }
   },
   "source": [
    "## Editoren: Beispiele\n",
    "\n",
    "Wenn Sie sich Python von der Python-Seite heruntergeladen und installiert haben, dann haben Sie auch IDLE (**I**ntegrated **L**earning and **D**evelopment **E**nvironment), einen (sehr) einfachen Editor, mit dem Sie Python-Code schreiben und ausführen lassen können.\n",
    "\n",
    "Weitere gute Werkzeuge sind:\n",
    "- [Notepad++](https://notepad-plus-plus.org): Klein, aber leistungsfähig. Kostenlos. Nur Windows.\n",
    "- [Sublime Text](https://www.sublimetext.com): Sehr leistungsfähig. Zeitlich unbegrenzter Test möglich. Windows, macOS, Linux.\n",
    "- [Atom](https://atom.io): Sehr leistungsfähig. Kostenlos. Windows, macOS, Linux.\n",
    "- [Spyder](https://www.spyder-ide.org): Sehr leistungsfähig. Auf Python spezialisiert. Kostenlos. Kann über Anaconda installiert werden."
   ]
  },
  {
   "cell_type": "markdown",
   "metadata": {
    "slideshow": {
     "slide_type": "slide"
    }
   },
   "source": [
    "## Editoren: Jupyter Notebook\n",
    "\n",
    "Hier werden wir [Jupyter Notebook](https://jupyter.org) verwenden, das über Anaconda installiert werden kann. Die mit diesem Programm geschaffenen Notebooks sind in der Wissenschaft und Lehre sehr populär geworden, da sie in einem Dokument Code, Visualisierungen und formattierten Text enthalten und in mehrere Formate exportiert werden können.\n",
    "\n",
    "Wenn Sie Veränderungen am Code oder einem eingebundenen Datensatz vornehmen, müssen Sie das Notebook nur ausführen lassen, um alles auf den neuesten Stand zu bringen.\n",
    "\n",
    "Notebooks können auch Code in anderen Sprachen beinhalten (der Name setzt sich aus den drei Programmiersprachen **Ju**lia, **Pyt**hon und **R** zusammen), sie lassen sich leicht mit anderen teilen und ermutigen zum Experimentieren."
   ]
  },
  {
   "cell_type": "markdown",
   "metadata": {
    "slideshow": {
     "slide_type": "slide"
    }
   },
   "source": [
    "## Editoren: Jupyter Notebook\n",
    "\n",
    "Jupyter Notebook läuft, wie sein bereits erhältlicher Nachfolger JupyterLab, als eine Anwendung in Ihrem Browser. In diesem Fall werden aber keine Daten mit einem externen Server ausgetauscht. Stattdessen startet Jupyter Notebook zu Beginn jeder Sitzung einen Server auf Ihrem Computer (daher auch das Befehlszeilenfenster, das Sie sehen, kurz bevor der Browser geöffnet wird). Alle Operationen finden also auf Ihrem Computer statt!\n",
    "\n",
    "Wenn Sie wollen, können Sie Jupyter Notebooks aber auch in der \"Cloud\" ausführen lassen. Dazu eignen sich Dienste wie etwa [binder](https://mybinder.org)."
   ]
  },
  {
   "cell_type": "code",
   "execution_count": null,
   "metadata": {},
   "outputs": [],
   "source": []
  },
  {
   "cell_type": "code",
   "execution_count": null,
   "metadata": {},
   "outputs": [],
   "source": []
  }
 ],
 "metadata": {
  "celltoolbar": "Slideshow",
  "kernelspec": {
   "display_name": "Python 3",
   "language": "python",
   "name": "python3"
  },
  "language_info": {
   "codemirror_mode": {
    "name": "ipython",
    "version": 3
   },
   "file_extension": ".py",
   "mimetype": "text/x-python",
   "name": "python",
   "nbconvert_exporter": "python",
   "pygments_lexer": "ipython3",
   "version": "3.7.3"
  }
 },
 "nbformat": 4,
 "nbformat_minor": 4
}
