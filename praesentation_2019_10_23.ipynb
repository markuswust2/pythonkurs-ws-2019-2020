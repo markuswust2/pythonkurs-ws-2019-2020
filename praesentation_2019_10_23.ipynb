{
 "cells": [
  {
   "cell_type": "code",
   "execution_count": null,
   "metadata": {
    "slideshow": {
     "slide_type": "skip"
    }
   },
   "outputs": [],
   "source": [
    "%%html\n",
    "<style>\n",
    "td {\n",
    "    font-size: 20px;\n",
    "}\n",
    "thead th {\n",
    "    font-size: 20px;\n",
    "}\n",
    "</style>"
   ]
  },
  {
   "cell_type": "markdown",
   "metadata": {
    "slideshow": {
     "slide_type": "slide"
    }
   },
   "source": [
    "## Mögliche Lösungen für Übung 1\n",
    "\n",
    "- *pandas* importieren und Datei laden. Dabei auf den korrekten Dateipfad achten. Da die Datei schon Kommas zur Separierung verwendet, müssen wir keinen Separator definieren."
   ]
  },
  {
   "cell_type": "code",
   "execution_count": 3,
   "metadata": {
    "slideshow": {
     "slide_type": "fragment"
    }
   },
   "outputs": [],
   "source": [
    "import pandas as pd\n",
    "\n",
    "df = pd.read_csv(\"C:/Users/qubwm01/Desktop/python_ws2019/spieler_daten_final.csv\")"
   ]
  },
  {
   "cell_type": "code",
   "execution_count": 2,
   "metadata": {
    "slideshow": {
     "slide_type": "fragment"
    }
   },
   "outputs": [
    {
     "data": {
      "text/html": [
       "<div>\n",
       "<style scoped>\n",
       "    .dataframe tbody tr th:only-of-type {\n",
       "        vertical-align: middle;\n",
       "    }\n",
       "\n",
       "    .dataframe tbody tr th {\n",
       "        vertical-align: top;\n",
       "    }\n",
       "\n",
       "    .dataframe thead th {\n",
       "        text-align: right;\n",
       "    }\n",
       "</style>\n",
       "<table border=\"1\" class=\"dataframe\">\n",
       "  <thead>\n",
       "    <tr style=\"text-align: right;\">\n",
       "      <th></th>\n",
       "      <th>name</th>\n",
       "      <th>land</th>\n",
       "      <th>geburtsjahr</th>\n",
       "      <th>groesse</th>\n",
       "      <th>position</th>\n",
       "      <th>wm_jahr</th>\n",
       "    </tr>\n",
       "  </thead>\n",
       "  <tbody>\n",
       "    <tr>\n",
       "      <th>0</th>\n",
       "      <td>Ferdinand Adams</td>\n",
       "      <td>Belgien</td>\n",
       "      <td>1903.0</td>\n",
       "      <td>NaN</td>\n",
       "      <td>Stürmer</td>\n",
       "      <td>1930</td>\n",
       "    </tr>\n",
       "    <tr>\n",
       "      <th>1</th>\n",
       "      <td>Juan Aguilera</td>\n",
       "      <td>Chile</td>\n",
       "      <td>NaN</td>\n",
       "      <td>NaN</td>\n",
       "      <td>Stürmer</td>\n",
       "      <td>1930</td>\n",
       "    </tr>\n",
       "    <tr>\n",
       "      <th>2</th>\n",
       "      <td>Francisco Aguirre</td>\n",
       "      <td>Paraguay</td>\n",
       "      <td>NaN</td>\n",
       "      <td>NaN</td>\n",
       "      <td>Mittelfeld</td>\n",
       "      <td>1930</td>\n",
       "    </tr>\n",
       "    <tr>\n",
       "      <th>3</th>\n",
       "      <td>Mario Alborta</td>\n",
       "      <td>Bolivien</td>\n",
       "      <td>NaN</td>\n",
       "      <td>172 cm</td>\n",
       "      <td>Stürmer</td>\n",
       "      <td>1930</td>\n",
       "    </tr>\n",
       "    <tr>\n",
       "      <th>4</th>\n",
       "      <td>Efrain Amezcua</td>\n",
       "      <td>Mexiko</td>\n",
       "      <td>NaN</td>\n",
       "      <td>NaN</td>\n",
       "      <td>Mittelfeld</td>\n",
       "      <td>1930</td>\n",
       "    </tr>\n",
       "  </tbody>\n",
       "</table>\n",
       "</div>"
      ],
      "text/plain": [
       "                name      land  geburtsjahr groesse    position  wm_jahr\n",
       "0    Ferdinand Adams   Belgien       1903.0     NaN     Stürmer     1930\n",
       "1      Juan Aguilera     Chile          NaN     NaN     Stürmer     1930\n",
       "2  Francisco Aguirre  Paraguay          NaN     NaN  Mittelfeld     1930\n",
       "3      Mario Alborta  Bolivien          NaN  172 cm     Stürmer     1930\n",
       "4     Efrain Amezcua    Mexiko          NaN     NaN  Mittelfeld     1930"
      ]
     },
     "execution_count": 2,
     "metadata": {},
     "output_type": "execute_result"
    }
   ],
   "source": [
    "df.head()"
   ]
  },
  {
   "cell_type": "markdown",
   "metadata": {
    "slideshow": {
     "slide_type": "slide"
    }
   },
   "source": [
    "## 1. Wie viele Weltmeisterschaften gab es?"
   ]
  },
  {
   "cell_type": "markdown",
   "metadata": {
    "slideshow": {
     "slide_type": "slide"
    }
   },
   "source": [
    "Hier bietet es sich an, die Variable *wm_jahr* zu nutzen und die Anzahl der möglichen Ausprägungen zu zählen. Eine mögliche Lösung wählt die Spalte *wm_jahr* aus und verwendet die Funktion **unique()**, um Zeilen mit Duplikaten zu unterdrücken. Die Daten werden als ein Numpy"
   ]
  },
  {
   "cell_type": "code",
   "execution_count": 8,
   "metadata": {
    "slideshow": {
     "slide_type": "slide"
    }
   },
   "outputs": [
    {
     "data": {
      "text/plain": [
       "numpy.ndarray"
      ]
     },
     "execution_count": 8,
     "metadata": {},
     "output_type": "execute_result"
    }
   ],
   "source": [
    "type(df['wm_jahr'].unique())"
   ]
  },
  {
   "cell_type": "code",
   "execution_count": 10,
   "metadata": {},
   "outputs": [
    {
     "ename": "NameError",
     "evalue": "name 'numpy' is not defined",
     "output_type": "error",
     "traceback": [
      "\u001b[1;31m---------------------------------------------------------------------------\u001b[0m",
      "\u001b[1;31mNameError\u001b[0m                                 Traceback (most recent call last)",
      "\u001b[1;32m<ipython-input-10-e0f32eb3c278>\u001b[0m in \u001b[0;36m<module>\u001b[1;34m()\u001b[0m\n\u001b[1;32m----> 1\u001b[1;33m \u001b[0mx\u001b[0m \u001b[1;33m=\u001b[0m \u001b[0mnumpy\u001b[0m\u001b[1;33m.\u001b[0m\u001b[0marray\u001b[0m\u001b[1;33m(\u001b[0m\u001b[1;33m[\u001b[0m\u001b[1;33m[\u001b[0m\u001b[1;36m1\u001b[0m\u001b[1;33m,\u001b[0m \u001b[1;36m2\u001b[0m\u001b[1;33m,\u001b[0m \u001b[1;36m3\u001b[0m\u001b[1;33m]\u001b[0m\u001b[1;33m,\u001b[0m \u001b[1;33m[\u001b[0m\u001b[1;36m4\u001b[0m\u001b[1;33m,\u001b[0m \u001b[1;36m5\u001b[0m\u001b[1;33m,\u001b[0m \u001b[1;36m6\u001b[0m\u001b[1;33m]\u001b[0m\u001b[1;33m]\u001b[0m\u001b[1;33m,\u001b[0m \u001b[0mnp\u001b[0m\u001b[1;33m.\u001b[0m\u001b[0mint32\u001b[0m\u001b[1;33m)\u001b[0m\u001b[1;33m\u001b[0m\u001b[0m\n\u001b[0m",
      "\u001b[1;31mNameError\u001b[0m: name 'numpy' is not defined"
     ]
    }
   ],
   "source": [
    "x = numpy.array([[1, 2, 3], [4, 5, 6]], np.int32)"
   ]
  },
  {
   "cell_type": "markdown",
   "metadata": {},
   "source": [
    "1. Wie viele Weltmeisterschaften gab es?\n",
    "2. Wie viele Spieler waren bei jeder WM dabei?\n",
    "3. Wie viele Spieler insgesamt haben an diesen Weltmeisterschaften teilgenommen?\n",
    "4. Wie viele Spieler haben insgesamt bei allen Weltmeisterschaften für Deutschland gespielt?\n",
    "5. Welcher deutsche Spieler hat bei den meisten Weltmeisterschaften gespielt?\n",
    "6. Wie alt war der älteste Spieler bei der letzten Weltmeisterschaft?\n",
    "7. Wer war bei jeder WM der jüngste Spieler?\n",
    "8. Was war bei der ersten Weltmeisterschaft die Durchschnittsgröße aller Spieler?\n",
    "9. Was war die Durchschnittsgröße der Spieler auf jeder Position während jeder Weltmeisterschaft?\n",
    "\n",
    "Fragen für python-kurs: \n",
    "\n",
    "Wie viele WMs fanden bisher statt? \n",
    "\n",
    "Entweder: \n",
    "\n",
    "X = len(df2[\"wm_jahr\"].unique()) \n",
    "\n",
    "Oder: \n",
    "\n",
    "df2[\"wm_jahr\"] = df2[\"wm_jahr\"].astype('category') \n",
    "\n",
    "X  = len(df2[\"wm_jahr\"].cat.categories) \n",
    "\n",
    " \n",
    "\n",
    " \n",
    "\n",
    "Wie viele Spieler waren bei jeder WM dabei? \n",
    "\n",
    "df2[\"wm_jahr\"].value_counts() \n",
    "\n",
    " \n",
    "\n",
    "Wie viele Spieler haben an diesen Weltmeisterschaften teilgenommen? \n",
    "\n",
    "X = len(df2[“name”].unique()) \n",
    "\n",
    " \n",
    "\n",
    " \n",
    "\n",
    "Wie viele Spieler haben bei allen Weltmeisterschaften für Deutschland gespielt? \n",
    "\n",
    "a = len(df2[\"name\"].loc[df2[\"land\"] == 'Deutschland'].unique()) \n",
    "\n",
    " \n",
    " \n",
    "Welcher deutsche Spieler hat bei den meisten Weltmeisterschaften gespielt? \n",
    "\n",
    "a = df2[\"name\"].loc[df2[\"land\"] == 'Deutschland'].value_counts().idxmax() \n",
    "\n",
    " \n",
    "\n",
    "Wie alt war der älteste Spieler bei der letzten Weltmeisterschaft? \n",
    "\n",
    "df2['alter'] = df2['wm_jahr'] - df2['geburtsjahr'] \n",
    "\n",
    "df2[\"alter\"].loc[df2[\"wm_jahr\"] == 2018].max() \n",
    "\n",
    " \n",
    "\n",
    "Wer war bei jeder WM der jüngste Spieler? \n",
    "\n",
    "c = df2.loc[df2.groupby(\"wm_jahr\")[\"alter\"].idxmin] \n",
    "\n",
    " \n",
    "7. Was war bei jeder Weltmeisterschaft die Durchschnittsgröße aller Spieler? \n",
    "\n",
    "df2[\"groesse\"] = pd.to_numeric(df2[\"groesse\"].str.replace(\" cm\" ,\"\")) \n",
    "\n",
    "c = df2.groupby(\"wm_jahr\")[\"groesse\"].mean() \n",
    "\n",
    "10. Was war die Durchschnittsgröße der Spieler auf jeder position während aller Weltmeisterschaften? \n",
    "\n",
    "c = df2.groupby([\"wm_jahr\", \"position\"])[\"groesse\"].mean() \n",
    "\n",
    " "
   ]
  }
 ],
 "metadata": {
  "celltoolbar": "Slideshow",
  "kernelspec": {
   "display_name": "Python 3",
   "language": "python",
   "name": "python3"
  },
  "language_info": {
   "codemirror_mode": {
    "name": "ipython",
    "version": 3
   },
   "file_extension": ".py",
   "mimetype": "text/x-python",
   "name": "python",
   "nbconvert_exporter": "python",
   "pygments_lexer": "ipython3",
   "version": "3.6.4"
  }
 },
 "nbformat": 4,
 "nbformat_minor": 2
}
